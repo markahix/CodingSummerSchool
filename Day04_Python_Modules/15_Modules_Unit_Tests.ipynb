{
 "cells": [
  {
   "cell_type": "markdown",
   "metadata": {},
   "source": [
    "# Modules - Unit Tests and Code Maintenance\n",
    "\n",
    "It's important when creating programs to ensure each function works properly on its own and as part of the larger ecosystem.  For this purpose, we'll use `pytest`, though there are other options out there.\n",
    "\n",
    "You can create a test script with your modules to ensure that each function you make does its specific task appropriately.  Each test function should be preceded by `test_` for pytest to detect and run them.\n",
    "\n",
    "Any test scripts should include the same prefix as well.  These rules ensure that `pytest` discovers the tests it is expected to run without trying to treat other files and functions as tests.\n",
    "\n",
    "A common approach to testing is to have a specific folder for tests in the main module directory, with any necessary test data and scripts held inside."
   ]
  },
  {
   "cell_type": "markdown",
   "metadata": {},
   "source": [
    "#### Tests and the `assert` function\n",
    "\n",
    "Pytest makes use of the built-in `assert` function in python.  Assert makes a comparison between two values and returns a `True` or `False`, which gets interpreted as a pass/fail in the test environment.\n",
    "\n",
    "Consider the following functions in a script called `test_mystuff.py`"
   ]
  },
  {
   "cell_type": "code",
   "execution_count": null,
   "metadata": {},
   "outputs": [],
   "source": [
    "def cool_function(x,y):\n",
    "    \"\"\"We expect this function to return the numerical product of two numbers x and y.\"\"\"\n",
    "    return x*y\n",
    "\n",
    "def test_cool_function_pass():\n",
    "    # 3 * 4 should be 12.\n",
    "    assert cool_function(3,4) == 12\n",
    "\n",
    "def test_cool_function_fail():\n",
    "    # 3 * 4 should NOT be 11.\n",
    "    assert cool_function(3,4) == 11\n"
   ]
  },
  {
   "cell_type": "markdown",
   "metadata": {},
   "source": []
  }
 ],
 "metadata": {
  "language_info": {
   "name": "python"
  },
  "orig_nbformat": 4
 },
 "nbformat": 4,
 "nbformat_minor": 2
}
