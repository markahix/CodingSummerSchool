{
 "cells": [
  {
   "cell_type": "markdown",
   "metadata": {},
   "source": [
    "## Code Formatting\n",
    "\n",
    "Most programming languages have a form of something called **scope**, which is a region in the code in which certain things are true.\n",
    "For example, a function may have variables that only exist inside that function, and then disappear once the program exits the function's **scope**.\n",
    "Some languages use specific characters to define a scope, such as `C++` with `{` and `}` defining the beginning and end of a scope.  \n",
    "\n",
    "```C++\n",
    "int main()\n",
    "{\n",
    "    cout << \"Hello World!\\n\";\n",
    "    if (5 < 4)\n",
    "    {\n",
    "        cout << \"Five is less than four.\\n\";\n",
    "    }\n",
    "    return;\n",
    "}\n",
    "```\n",
    "\n",
    "A common convention is to use spaces or tabs when moving into different levels of scope, however this is usually for easier reading by humans and isn't necessary for the code compiler itself.\n",
    "\n",
    "Others, like `Python`, use indentations of spaces or tabs and are specifically required to change scope.\n",
    "\n",
    "```python\n",
    "def myfunction(x):\n",
    "    x = x + 5\n",
    "    print(x)\n",
    "    return\n",
    "\n",
    "x = 10\n",
    "print(x)\n",
    "myfunction(x)\n",
    "print(x)\n",
    "```\n",
    "\n",
    "The code snippet above shows the variable x inside the scope of `myfunction` as well as the main program.  If we follow the value of `x` as the program runs, we can see that `x = 10`, which is printed out.  Then, the *value* of `x` is passed into the function, which adds five and prints it out (`x = 15`).  Once that is done, the function returns, and the main program's value of x is printed out again. (`x = 10`).\n",
    "\n",
    "Let's see how that works in practice."
   ]
  },
  {
   "cell_type": "code",
   "execution_count": 2,
   "metadata": {},
   "outputs": [
    {
     "name": "stdout",
     "output_type": "stream",
     "text": [
      "10\n",
      "15\n",
      "10\n"
     ]
    }
   ],
   "source": [
    "def myfunction(x):\n",
    "    x = x + 5\n",
    "    print(x)\n",
    "    return\n",
    "\n",
    "x = 10\n",
    "print(x)\n",
    "myfunction(x)\n",
    "print(x)"
   ]
  },
  {
   "cell_type": "markdown",
   "metadata": {
    "vscode": {
     "languageId": "plaintext"
    }
   },
   "source": [
    "It is very important to keep scope in mind when using variables as counters or other housekeepers.  \n",
    "\n",
    "Many programmers use `i` as a counter variable in loops.  However, sometimes it is necessary to have loops inside other loops (nested), which effectively means you have a scope inside another scope.  If you use `i` in the outer loop, then change it in the inner loop, it remains changed in the outer loop and can have effects on the execution of your code.\n",
    "\n",
    "Therefore, it is important to keep track of what variables are used during the execution of your code and how they are modified as you go.\n",
    "\n",
    "#### Back to Formatting\n",
    "\n",
    "Formatting is not simply a matter of using indents or 80-characters-per-line requirements.  Formatting also includes things like expected code-comments or other internal documentation.  Some code development packages have the functionality built in to parse comments in the code and build human-readable documentation, but it requires the use of specific formats in the comments.  See the examples below."
   ]
  },
  {
   "cell_type": "code",
   "execution_count": 3,
   "metadata": {},
   "outputs": [
    {
     "name": "stdout",
     "output_type": "stream",
     "text": [
      "3.7416573867739413\n"
     ]
    }
   ],
   "source": [
    "import numpy as np\n",
    "def myfunction(x,y,z):\n",
    "    norm = np.linalg.norm([x,y,z])\n",
    "    return norm\n",
    "a = 1\n",
    "b = 2\n",
    "c = 3\n",
    "result = myfunction(a,b,c)\n",
    "print(result)"
   ]
  },
  {
   "cell_type": "markdown",
   "metadata": {},
   "source": [
    "The code block above has no comments in it, and so without already knowing what the individual parts are doing, it's not easy to know what is happening in the code or how to modify and manipulate it for your own purposes.  If we take the same code block and add some commentary, it can be made easier."
   ]
  },
  {
   "cell_type": "code",
   "execution_count": 4,
   "metadata": {},
   "outputs": [
    {
     "name": "stdout",
     "output_type": "stream",
     "text": [
      "3.7416573867739413\n"
     ]
    }
   ],
   "source": [
    "# library import\n",
    "import numpy as np\n",
    "\n",
    "# function definition\n",
    "def myfunction(x,y,z):\n",
    "    norm = np.linalg.norm([x,y,z])\n",
    "    return norm\n",
    "\n",
    "# Main program execution\n",
    "a = 1\n",
    "b = 2\n",
    "c = 3\n",
    "result = myfunction(a,b,c)\n",
    "print(result)"
   ]
  },
  {
   "cell_type": "markdown",
   "metadata": {},
   "source": [
    "Now we have a little more clarity in what is happening, but it can still be made clearer.  As it stands, we simply know that we're importing libraries, defining a function, and running the main program.\n",
    "\n",
    "We can improve the commentary further by describing what is happening in the function or the steps inside the main program."
   ]
  },
  {
   "cell_type": "code",
   "execution_count": 5,
   "metadata": {},
   "outputs": [
    {
     "name": "stdout",
     "output_type": "stream",
     "text": [
      "3.7416573867739413\n"
     ]
    }
   ],
   "source": [
    "# library import\n",
    "import numpy as np\n",
    "\n",
    "# function definition\n",
    "def myfunction(x,y,z):\n",
    "    # Arguments:\n",
    "    # x - float representing the x component of a vector\n",
    "    # y - float representing the y component of a vector\n",
    "    # z - float representing the z component of a vector\n",
    "    # Returns:\n",
    "    # norm - float representing the magnitude of the vector given by the [x,y,z] values\n",
    "    norm = np.linalg.norm([x,y,z])\n",
    "    return norm\n",
    "\n",
    "# Main program execution\n",
    "# initialize variables \n",
    "a = 1\n",
    "b = 2\n",
    "c = 3\n",
    "# obtain the magnitude of the vector defined by [a,b,c]\n",
    "result = myfunction(a,b,c)\n",
    "# print out the magnitude\n",
    "print(result)"
   ]
  },
  {
   "cell_type": "markdown",
   "metadata": {},
   "source": [
    "With this level of commentary in the code, we can easily understand what is happening in the function and the main code block.  This is very useful when working on collaborative projects especially, as it can ensure that everyone is able to follow your thought process in the code and, if necessary, compare to the actual code for debugging purposes.\n",
    "\n",
    "Another thing to consider is the larger format of a project.  That is, not simply how the text is arranged in a file, but how code blocks and functions are arranged in multiple files.  For smaller programs, it may not be necessary to divide the code up in this way, but for larger projects - or for standard functions you'll use in multiple separate projects - it may be easier and cleaner to keep some things separated and compartmentalized.  This also makes compiling easier later on down the line.\n",
    "\n",
    "It can also lead to smaller individual files, making debugging easier as well - most error messages include the location where the error was encountered, and it's much easier to go to `line 46 in utility.cpp` than it is to go to `line 57684 in main.cpp`.  As a bonus, making changes in smaller files won't necessarily require the entire codebase to be recompiled, but rather just the small portion you modified."
   ]
  }
 ],
 "metadata": {
  "interpreter": {
   "hash": "c7f5e592c43e0bb3865fa17512643febd83867b1832dfdc95e4b02df1a0eafd5"
  },
  "kernelspec": {
   "display_name": "Python 3.9.7 ('base')",
   "language": "python",
   "name": "python3"
  },
  "language_info": {
   "codemirror_mode": {
    "name": "ipython",
    "version": 3
   },
   "file_extension": ".py",
   "mimetype": "text/x-python",
   "name": "python",
   "nbconvert_exporter": "python",
   "pygments_lexer": "ipython3",
   "version": "3.9.7"
  }
 },
 "nbformat": 4,
 "nbformat_minor": 2
}
