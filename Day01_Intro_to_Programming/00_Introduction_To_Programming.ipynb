{
 "cells": [
  {
   "cell_type": "markdown",
   "metadata": {},
   "source": [
    "# Introduction to Programming\n",
    "\n",
    "What a title, huh?  \"Programming\" is such a hugely expansive term, covering a staggering number of techniques, languages, processes, hardware configurations, purposes, applications, scales, and so forth.\n",
    "\n",
    "*So what is programming, really?*\n",
    "\n",
    "The short version is that programming is a way of making a computer (another broad term!) perform tasks.  These tasks can be as simple as the addition of two numbers, or as complex as calculating the excited state energy of a fluorescent nucleotide as it moves through a solution of water and sodium chloride ions.  As the tasks become more complex, the code becomes more complex as well.  Small tasks may be manageable with tiny scripts or single-file programs, while larger ones may require the inclusion of other tools, multiple files, and more complicated design principles.\n",
    "\n",
    "For the purposes of this Summer School, we'll mostly be sticking to the introductory/entry-level stuff, but remember that the actual limits of your programs are only in the capacity of your hardware and the breadth of your imagination."
   ]
  },
  {
   "cell_type": "markdown",
   "metadata": {},
   "source": [
    "## Fundamental Principles\n",
    "\n",
    "There are some rules to programming that should really be learned early on, if only because knowing them early will make the rest considerably easier.  For many experienced programmers, the actual writing of code is a smaller portion of the overall process than one might expect.\n",
    "\n",
    "**Version Control** - This is a very important habit to get into.  In the simplest form, version control provides a means of keeping track of the changes you've made to your code as you go, as well as providing information about who made which changes in a collaborative project.  More complicated version control can lead to things like software written for different types of hardware, or for different scales of calculations, etc.\n",
    "\n",
    "**Code Formatting** - Many different groups and companies have what are known as \"style guides\" for any code produced in, by, or for the organization.  These often include the simple concepts like \"how many spaces constitute a `tab` in your code?\" or \"What information, if any, should be included in comments at the top of each file?\".  However, these style guides can also include more complex information beyond text formatting and up into things like \"Each function definition should include comments describing the arguments to the function and what the function returns on completion\" or \"Test suites must be included for all additions to the codebase before they may be considered for merging\".\n",
    "\n",
    "**Debugging** - This is a team effort, because invariably the person who wrote the code might wind up missing some of their own mistakes that others will readily find.  This is not at all an indicator of skill, intelligence, or character.  This is purely because we can get tunnel vision about our own code (it happens to the best of us), and because our brains are wired to recognize *and complete* patterns.  Where we might \"see\" a missing semicolon at the end of a line of code we wrote because we expect it to be there, someone else who didn't write our code may notice it immediately.  Interestingly, debugging is actually a *highly* valued skill in industry, because fixing problems is usually far more expensive than preventing them in the first place.\n",
    "\n",
    "**Pseudocode** - Other names for pseudocode include \"algorithm development\", \"project management\", \"outlining\", \"planning\", \"thinking\", and \"jotting that down so I don't forget it later\".  Pseudocoding is effectively writing out the stages of your program in plain language (*not code*) to ensure a clear understanding of the problem you're trying to solve.  Often, programmers will begin pseudocode with a very simple set of steps they think of the problem.  Each step can be explained in more and more detail as a set of smaller, more manageable steps, until eventually you wind up with a complete list of steps that can be converted to computer commands.  Pseudocode can also provide some insight into ways the code might be optimized, such as by revealing opportunities to parallelise the execution, or by revealing regions where something being calculated can just be saved for reuse rather than recalculated again later.\n",
    "\n",
    "**Variable Types** - Different types of information can be stored for use by the computer.  Some programming languages are fairly lenient about variable types and are flexible with what types of data are being provided in a given variable.  Others are a bit more strict, and require explicit type declarations/definitions for each variable to ensure proper memory allocation.\n",
    "*If only some of that made sense, you're in the right place.*\n"
   ]
  }
 ],
 "metadata": {
  "interpreter": {
   "hash": "c7f5e592c43e0bb3865fa17512643febd83867b1832dfdc95e4b02df1a0eafd5"
  },
  "kernelspec": {
   "display_name": "Python 3.9.7 ('base')",
   "language": "python",
   "name": "python3"
  },
  "language_info": {
   "codemirror_mode": {
    "name": "ipython",
    "version": 3
   },
   "file_extension": ".py",
   "mimetype": "text/x-python",
   "name": "python",
   "nbconvert_exporter": "python",
   "pygments_lexer": "ipython3",
   "version": "3.9.7"
  }
 },
 "nbformat": 4,
 "nbformat_minor": 2
}
