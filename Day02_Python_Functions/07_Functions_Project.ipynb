{
 "cells": [
  {
   "cell_type": "markdown",
   "metadata": {},
   "source": [
    "# Functions Project\n",
    "\n",
    "Let's try creating some other functions, perhaps based on the pseudocode project from last time.\n",
    "\n",
    "1. Write a function to generate a random set of coordinates for a particle in a cube with an edge length of 20.\n",
    "2. Write a function to create a list of `N` randomly placed particles.\n",
    "3. Write a function to generate a random movement of a particle with each `x`, `y`, and `z` component of the motion vector as a random value between -1 and +1.\n",
    "4. Write a function to make each particle in the list take `S` number of random motion steps.\n",
    "5. Write a function to measure the distance between the starting and ending points of all particles.\n",
    "\n",
    "I will include some helper functions for things like random number generation below.  For all functions you'll write below, you will need to choose what arguments you need to pass to the function and how to get to the result at the `return` statement ending each function."
   ]
  },
  {
   "cell_type": "code",
   "execution_count": 26,
   "metadata": {},
   "outputs": [],
   "source": [
    "import numpy as np\n",
    "import matplotlib.pyplot as plt\n",
    "\n",
    "def random(lower,upper):\n",
    "    return np.random.uniform(low=lower, high=upper)\n",
    "\n",
    "def plot_distances(distances):\n",
    "    plt.hist(distances, bins=100, density=1)\n",
    "    plt.show()\n"
   ]
  },
  {
   "cell_type": "code",
   "execution_count": 20,
   "metadata": {},
   "outputs": [],
   "source": [
    "# Generate particle with random position [x,y,z]\n",
    "def CreateParticle():\n",
    "    ### Your code goes here!\n",
    "\n",
    "    return particle\n"
   ]
  },
  {
   "cell_type": "code",
   "execution_count": null,
   "metadata": {},
   "outputs": [],
   "source": [
    "# Create a list of N randomly generated particles\n",
    "def GenerateParticleCollection():\n",
    "    ### Your code goes here!\n",
    "    \n",
    "    return all_particles"
   ]
  },
  {
   "cell_type": "code",
   "execution_count": null,
   "metadata": {},
   "outputs": [],
   "source": [
    "# generate a random motion between -1 and 1 in all axes and apply it to a given particle.\n",
    "def MoveParticle():\n",
    "    ### Your code goes here!\n",
    "\n",
    "    return new_position\n",
    "    "
   ]
  },
  {
   "cell_type": "code",
   "execution_count": null,
   "metadata": {},
   "outputs": [],
   "source": [
    "# Move all particles in your list S number of times and return the final positions.\n",
    "def BrownianMotionSimulation():\n",
    "    ### Your code goes here!\n",
    "    \n",
    "    return final_positions"
   ]
  },
  {
   "cell_type": "code",
   "execution_count": 21,
   "metadata": {},
   "outputs": [],
   "source": [
    "# Compare starting and ending positions for all particles and return the distances.\n",
    "def CalculateDistances():\n",
    "    ### Your code goes here!\n",
    "\n",
    "    return distances"
   ]
  },
  {
   "cell_type": "markdown",
   "metadata": {},
   "source": [
    "Now write a sequence of function calls, variable assignments, etc. to run through your algorithm."
   ]
  },
  {
   "cell_type": "code",
   "execution_count": 23,
   "metadata": {},
   "outputs": [],
   "source": [
    "# This is your main \"program\", which will use the functions you've written and return a nice histogram of the resulting distances traveled by each particle.\n",
    "\n",
    "# Generate 10000 particles\n",
    "\n",
    "# Move the particles 100 steps.\n",
    "\n",
    "# Measure the distances between starting and ending positions.\n",
    "\n",
    "# use the `plot_distances()` function call to show the results as a histogram."
   ]
  },
  {
   "cell_type": "markdown",
   "metadata": {},
   "source": [
    "If you got a histogram plot that looks like it could be the results of the random motion of 10,000 particles, your program probably works great!\n",
    "\n",
    "Now that we've all completed that, let's consider some additional things about the algorithm and the *actual* execution of it.\n",
    "\n",
    "For example, does the distance travelled have any dependency on the original position of the particles?  If not, what can we do to reduce the amount of work being done by the computer?  Can we reduce the entire program down to something smaller?\n",
    "\n",
    "Programming is often thought of as \"make the computer do a task\", which is true, but in the larger picture of scientific programming, it's important to consider the actual goals.\n",
    "\n",
    "If we re-examine the actual goal of \"obtain a distribution of how far particles will travel given random motion\", we can reduce the algorithm down significantly.\n",
    "\n",
    "- The x, y, and z components of motion are all generated the same way and independently of each other.\n",
    "- Each particle's motion is independent of all the other particles, as is its final distance traveled.\n",
    "- The final distance is independent of the starting coordinates.\n",
    "\n",
    "With these points in mind, can you think of a new form of the algorithm?"
   ]
  },
  {
   "cell_type": "code",
   "execution_count": 24,
   "metadata": {},
   "outputs": [],
   "source": [
    "# start empty list of distances\n",
    "# loop through number of particles to test\n",
    "    # start particle position at 0,0,0\n",
    "    # make S number of x moves, sum them up to a final x position\n",
    "    # make S number of y moves, sum them up to a final y position\n",
    "    # make S number of z moves, sum them up to a final z position\n",
    "    # calculate norm of x,y,z coordinates\n",
    "    # append norm to list of distances.\n",
    "# plot histogram of distances"
   ]
  },
  {
   "cell_type": "code",
   "execution_count": 28,
   "metadata": {},
   "outputs": [
    {
     "data": {
      "image/png": "[encoded data removed]",
      "text/plain": [
       "<Figure size 432x288 with 1 Axes>"
      ]
     },
     "metadata": {
      "needs_background": "light"
     },
     "output_type": "display_data"
    }
   ],
   "source": [
    "distances = []\n",
    "for i in range(10000):\n",
    "    x=0\n",
    "    y=0\n",
    "    z=0\n",
    "    for j in range(1000):\n",
    "        x += random(-1,1)\n",
    "        y += random(-1,1)\n",
    "        z += random(-1,1)\n",
    "    norm = np.linalg.norm([x,y,z])\n",
    "    distances.append(norm)\n",
    "\n",
    "plot_distances(distances)"
   ]
  },
  {
   "cell_type": "markdown",
   "metadata": {},
   "source": [
    "What if you wanted to give a function an unknown number of arguments?  Say, for example, you wanted to give it some random number of `float` values and have it multiply the reciprocals of each together?  The mathematical formula would look like this:\n",
    "\n",
    "$\\prod\\limits_{i=1}\\frac{1}{x_i}$\n",
    "\n",
    "The Python function can use `*args` as an argument.  The `*` indicates the value is going to be some arbitrary length list of values that should be collected by the function."
   ]
  },
  {
   "cell_type": "code",
   "execution_count": 29,
   "metadata": {},
   "outputs": [],
   "source": [
    "def product_of_reciprocals(*args):\n",
    "    # Start with the product set to 1 (since anything multiplied by one is itself).\n",
    "    product=1\n",
    "    for arg in args: # iterate through all the values given in the function call\n",
    "        product = product * (1/arg) # multiply the current product value by the reciprocal of the current arg value, and assign it to the product value\n",
    "    return product"
   ]
  },
  {
   "cell_type": "code",
   "execution_count": 30,
   "metadata": {},
   "outputs": [
    {
     "data": {
      "text/plain": [
       "1"
      ]
     },
     "execution_count": 30,
     "metadata": {},
     "output_type": "execute_result"
    }
   ],
   "source": [
    "product_of_reciprocals()"
   ]
  },
  {
   "cell_type": "code",
   "execution_count": 31,
   "metadata": {},
   "outputs": [
    {
     "data": {
      "text/plain": [
       "0.0005847953216374268"
      ]
     },
     "execution_count": 31,
     "metadata": {},
     "output_type": "execute_result"
    }
   ],
   "source": [
    "product_of_reciprocals(3,6,95)"
   ]
  },
  {
   "cell_type": "code",
   "execution_count": 32,
   "metadata": {},
   "outputs": [
    {
     "data": {
      "text/plain": [
       "0.0003787878787878788"
      ]
     },
     "execution_count": 32,
     "metadata": {},
     "output_type": "execute_result"
    }
   ],
   "source": [
    "product_of_reciprocals(1,1,2,3,5,8,11)"
   ]
  },
  {
   "cell_type": "code",
   "execution_count": 36,
   "metadata": {},
   "outputs": [
    {
     "data": {
      "text/plain": [
       "0.09523619051428493"
      ]
     },
     "execution_count": 36,
     "metadata": {},
     "output_type": "execute_result"
    }
   ],
   "source": [
    "product_of_reciprocals(0.1, 0.2, 0.5, 1.0, 1.5, 2.0, 5.0, 7.0, 10.0002)"
   ]
  },
  {
   "cell_type": "markdown",
   "metadata": {},
   "source": [
    "With `*args`, any number of values may be passed to the function.\n",
    "\n",
    "What about unknown and arbitrary number of arguments that must be assigned to specific keywords?\n",
    "\n",
    "Here, we can use `**kwargs`, which is short for \"keyword arguments\".  This specifically requires that each additional argument be given as a variable and an assignment. These can be useful if there are specific things you want your function to do, but only if those arguments are present.\n",
    "\n",
    "The `**` indicates that `kwargs` will be a `dictionary` data type, which is a list of mapped keys and values.  Therefore, using the individual keywords requires a little knowledge of dictionary manipulation."
   ]
  },
  {
   "cell_type": "code",
   "execution_count": 39,
   "metadata": {},
   "outputs": [],
   "source": [
    "def PrintKwargs(**kwargs):\n",
    "    for key,val in kwargs.items():\n",
    "        print(\"The\",key,\"says\",val)\n",
    "    return\n"
   ]
  },
  {
   "cell_type": "code",
   "execution_count": 41,
   "metadata": {},
   "outputs": [
    {
     "name": "stdout",
     "output_type": "stream",
     "text": [
      "The chicken says bawk\n",
      "The cow says moo\n",
      "The farmer says it looks like rain\n",
      "The dog says woof\n"
     ]
    }
   ],
   "source": [
    "PrintKwargs(chicken=\"bawk\",cow=\"moo\",farmer=\"it looks like rain\",dog=\"woof\")"
   ]
  },
  {
   "cell_type": "markdown",
   "metadata": {},
   "source": [
    "What if we include an argument without assigning it to a keyword?"
   ]
  },
  {
   "cell_type": "code",
   "execution_count": 43,
   "metadata": {},
   "outputs": [
    {
     "ename": "SyntaxError",
     "evalue": "positional argument follows keyword argument (3123196330.py, line 1)",
     "output_type": "error",
     "traceback": [
      "\u001b[0;36m  File \u001b[0;32m\"/tmp/ipykernel_98113/3123196330.py\"\u001b[0;36m, line \u001b[0;32m1\u001b[0m\n\u001b[0;31m    PrintKwargs(chicken=\"bawk\",cow=\"moo\",farmer=\"it looks like rain\",dog=\"woof\",\"nothing assigned\")\u001b[0m\n\u001b[0m                                                                                                  ^\u001b[0m\n\u001b[0;31mSyntaxError\u001b[0m\u001b[0;31m:\u001b[0m positional argument follows keyword argument\n"
     ]
    }
   ],
   "source": [
    "PrintKwargs(chicken=\"bawk\",cow=\"moo\",farmer=\"it looks like rain\",dog=\"woof\",\"nothing assigned\")"
   ]
  },
  {
   "cell_type": "markdown",
   "metadata": {},
   "source": [
    "Not great.  In this case, you get an error because there's something passed to the function that isn't a keyword argument.  As an aside, a \"positional argument\" is just the regular arguments we worked with in the examples before `*args` and `**kwargs`.\n",
    "\n",
    "What if we wanted to account for keyword arguments AND unassigned arguments?\n",
    "\n",
    "You can use positional arguments, `*args`, and `**kwargs` in your function calls, so long as they're in that order.\n",
    "\n",
    "Positional arguments may also have default values assigned to them in the function definition.  Any default variables should be placed at the end of the *positional arguments*, but before the `*args` and `**kwargs`."
   ]
  },
  {
   "cell_type": "code",
   "execution_count": 1,
   "metadata": {},
   "outputs": [],
   "source": [
    "def BigFunction(x,y,z=10,*args,**kwargs):\n",
    "    print(\"x is\",x)\n",
    "    print(\"y is\",y)\n",
    "    print(\"z is\",z)\n",
    "    for arg in args:\n",
    "        print(\"Found arg: \",arg)\n",
    "    for key,value in kwargs.items():\n",
    "        print(\"keyword\",key,\"is\",value)\n"
   ]
  },
  {
   "cell_type": "code",
   "execution_count": 2,
   "metadata": {},
   "outputs": [
    {
     "name": "stdout",
     "output_type": "stream",
     "text": [
      "x is  3\n",
      "y is  4\n",
      "z is 6\n",
      "Found arg:  bear\n",
      "Found arg:  goat\n",
      "Found arg:  llama\n",
      "Found arg:  emu\n",
      "Found arg:  shark\n",
      "keyword potato is mashed\n",
      "keyword dinner is ready\n"
     ]
    }
   ],
   "source": [
    "BigFunction(3,4,6,\"bear\",\"goat\",\"llama\",\"emu\",\"shark\",potato=\"mashed\",dinner=\"ready\")"
   ]
  },
  {
   "cell_type": "markdown",
   "metadata": {},
   "source": [
    "One thing to keep in mind is that positional arguments get assigned before anything gets dumped into `*args`.  Above, even though `z` has a default value, it got assigned a value of `6` from the function call because `6` was in that position.  Everything afterwards was combined into `*args`."
   ]
  },
  {
   "cell_type": "markdown",
   "metadata": {},
   "source": []
  }
 ],
 "metadata": {
  "interpreter": {
   "hash": "c7f5e592c43e0bb3865fa17512643febd83867b1832dfdc95e4b02df1a0eafd5"
  },
  "kernelspec": {
   "display_name": "Python 3.9.7 ('base')",
   "language": "python",
   "name": "python3"
  },
  "language_info": {
   "codemirror_mode": {
    "name": "ipython",
    "version": 3
   },
   "file_extension": ".py",
   "mimetype": "text/x-python",
   "name": "python",
   "nbconvert_exporter": "python",
   "pygments_lexer": "ipython3",
   "version": "3.9.7"
  },
  "orig_nbformat": 4
 },
 "nbformat": 4,
 "nbformat_minor": 2
}
