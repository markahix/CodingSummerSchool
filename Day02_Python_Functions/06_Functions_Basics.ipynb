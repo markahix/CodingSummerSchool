{
 "cells": [
  {
   "cell_type": "markdown",
   "metadata": {},
   "source": [
    "# Functions\n",
    "\n",
    "A function in programming is similar to a function in math - variables go in, operations occur, results come out.  In fact, your instructor passed all his higher level math classes by learning to reinterpret complex mathematical equations as programming functions.  For example, if you wanted to obtain the sum of all integers between 0 and 1000, you would do the following:\n",
    "\n",
    "**Math**\n",
    "\n",
    "$\\sum\\limits_{x=0}^{1000}x$\n",
    "\n",
    "**Python**\n",
    "\n",
    "```python\n",
    "total = 0\n",
    "for x in range(0,1001):\n",
    "    total += x\n",
    "print(total)\n",
    "```\n",
    "\n",
    "**C++**\n",
    "\n",
    "```C++\n",
    "int total = 0;\n",
    "for(int x=0;x<=1000;x++)\n",
    "{\n",
    "    total += x;\n",
    "}\n",
    "cout << total << endl;\n",
    "```\n",
    "---\n",
    "\n",
    "The functions above produce the same value.  They are simply different representations of the same algorithm.\n",
    "\n",
    "*What do you notice that's different between these two programming languages?*\n",
    "\n",
    "If you find there's a task or set of instructions that you do multiple times in a program/script, you might find it useful to convert it into a function.  \n",
    "\n",
    "Functions have the benefit of ensuring that the calculations are being performed consistently - you only have to get the code right once!\n",
    "\n",
    "However, it's also important to consider if something is **worth** turning into a function.  Whenever you think about building a function, the first thing to do is see if it already exists.  This is a fundamental rule for programming and science - don't reinvent the wheel unless you can make it a lot better.\n",
    "\n",
    "### Python Functions\n",
    "\n",
    "For today, we'll focus on python functions."
   ]
  },
  {
   "cell_type": "markdown",
   "metadata": {},
   "source": [
    "\n",
    "*A function to return the remainder of one number divided by another.  That might look somethink like this:*\n",
    "\n",
    "```python\n",
    "def get_remainder(number,divisor):\n",
    "    if number > divisor:\n",
    "        return get_remainder(number-divisor,divisor)\n",
    "    else:\n",
    "        return number\n",
    "```\n",
    "\n",
    "Experienced programmers will look at the function above and consider hunting me down.  Rightfully so, for multiple reasons.  First and most importantly, the function is unnecessary.  There already exists a function to get the remainder of a number and a divisor, called \"modulo\", and is called using `%`  like so:\n",
    "\n"
   ]
  },
  {
   "cell_type": "code",
   "execution_count": null,
   "metadata": {},
   "outputs": [],
   "source": [
    "23%5"
   ]
  },
  {
   "cell_type": "markdown",
   "metadata": {},
   "source": [
    "That is so much easier than writing the function above.  However, that's not the only reason the function above will drive programmers nuts:  **[Recursion](https://www.google.com/search?biw=924&bih=939&sxsrf=ALiCzsYF5yDBRHIPvQK0WvoahmOQWNTLaw:1652715574983&q=recursion&spell=1&sa=X&ved=2ahUKEwjhw4umreT3AhVBCjQIHQeACCYQBSgAegQIAhAy)**\n",
    "\n",
    "Recursive functions are any function that calls itself during its execution.  While there are some situations where recursion may be necessary, There is nearly always a cleaner solution.\n",
    "\n",
    "The problems with recursion lie in the fact that such a function can call itself infinitely if not well-written, and can become computationally expensive and slow.  So if you ever find yourself writing a function that calls itself, get another opinion from someone else.\n",
    "\n",
    "---\n",
    "\n",
    "Okay, let's start at the basics of writing a function in Python\n",
    "\n",
    "Every function must be *defined* before it can be *called* (used).  In Python, a function definition begins with the command `def`, followed by the name of the function and then any function *arguments* it will need.  *Arguments* are named variables that will be used inside the function.  This means that any needed variables that aren't given to the function as an argument must be created inside the function.  After the arguments, you need a `:` to indicate that the following code is what should be executed whenever the function is called.  It's also good practice to include the `return` command at the end of the function, even if nothing is sent back to where the function was called.\n",
    "\n",
    "An example is below."
   ]
  },
  {
   "cell_type": "code",
   "execution_count": 1,
   "metadata": {},
   "outputs": [],
   "source": [
    "def myfunction(argument1,argument2,argument3):\n",
    "    print(argument1)\n",
    "    print(argument2)\n",
    "    print(argument3)\n",
    "    return"
   ]
  },
  {
   "cell_type": "markdown",
   "metadata": {},
   "source": [
    "This is a fairly simple function, and now that we've defined it, we can call it as much as we want."
   ]
  },
  {
   "cell_type": "code",
   "execution_count": 2,
   "metadata": {},
   "outputs": [
    {
     "name": "stdout",
     "output_type": "stream",
     "text": [
      "potato\n",
      "nebula\n",
      "agreeable\n"
     ]
    }
   ],
   "source": [
    "myfunction(\"potato\",\"nebula\",\"agreeable\")"
   ]
  },
  {
   "cell_type": "code",
   "execution_count": 3,
   "metadata": {},
   "outputs": [
    {
     "name": "stdout",
     "output_type": "stream",
     "text": [
      "4\n",
      "78.951\n",
      "9001\n"
     ]
    }
   ],
   "source": [
    "myfunction(4,78.951,9001)"
   ]
  },
  {
   "cell_type": "markdown",
   "metadata": {},
   "source": [
    "Note that the two different calls above pass different types of data to the function, but the function is able to handle them all.  Let's try a different function that does some math on the variables we pass it."
   ]
  },
  {
   "cell_type": "code",
   "execution_count": 4,
   "metadata": {},
   "outputs": [],
   "source": [
    "def mymathfunction(arg1,arg2,arg3):\n",
    "    result = arg1 + arg2 - arg3\n",
    "    return result"
   ]
  },
  {
   "cell_type": "markdown",
   "metadata": {},
   "source": [
    "Now, looking at the function above, we expect it to use numbers as arguments."
   ]
  },
  {
   "cell_type": "code",
   "execution_count": 5,
   "metadata": {},
   "outputs": [
    {
     "name": "stdout",
     "output_type": "stream",
     "text": [
      "12\n"
     ]
    }
   ],
   "source": [
    "answer = mymathfunction(5,10,3)\n",
    "print(answer)"
   ]
  },
  {
   "cell_type": "markdown",
   "metadata": {},
   "source": [
    "What if we passed data that wasn't a number?"
   ]
  },
  {
   "cell_type": "code",
   "execution_count": 6,
   "metadata": {},
   "outputs": [
    {
     "ename": "TypeError",
     "evalue": "unsupported operand type(s) for -: 'int' and 'str'",
     "output_type": "error",
     "traceback": [
      "\u001b[0;31m---------------------------------------------------------------------------\u001b[0m",
      "\u001b[0;31mTypeError\u001b[0m                                 Traceback (most recent call last)",
      "\u001b[1;32m/home/mark/GH_Repositories/CodingSummerSchool/Day02_Python_Functions/Day_02.ipynb Cell 14'\u001b[0m in \u001b[0;36m<cell line: 1>\u001b[0;34m()\u001b[0m\n\u001b[0;32m----> <a href='vscode-notebook-cell:/home/mark/GH_Repositories/CodingSummerSchool/Day02_Python_Functions/Day_02.ipynb#ch0000013?line=0'>1</a>\u001b[0m answer \u001b[39m=\u001b[39m mymathfunction(\u001b[39m5\u001b[39;49m,\u001b[39m10\u001b[39;49m,\u001b[39m\"\u001b[39;49m\u001b[39mcactus\u001b[39;49m\u001b[39m\"\u001b[39;49m)\n\u001b[1;32m      <a href='vscode-notebook-cell:/home/mark/GH_Repositories/CodingSummerSchool/Day02_Python_Functions/Day_02.ipynb#ch0000013?line=1'>2</a>\u001b[0m \u001b[39mprint\u001b[39m(answer)\n",
      "\u001b[1;32m/home/mark/GH_Repositories/CodingSummerSchool/Day02_Python_Functions/Day_02.ipynb Cell 10'\u001b[0m in \u001b[0;36mmymathfunction\u001b[0;34m(arg1, arg2, arg3)\u001b[0m\n\u001b[1;32m      <a href='vscode-notebook-cell:/home/mark/GH_Repositories/CodingSummerSchool/Day02_Python_Functions/Day_02.ipynb#ch0000009?line=0'>1</a>\u001b[0m \u001b[39mdef\u001b[39;00m \u001b[39mmymathfunction\u001b[39m(arg1,arg2,arg3):\n\u001b[0;32m----> <a href='vscode-notebook-cell:/home/mark/GH_Repositories/CodingSummerSchool/Day02_Python_Functions/Day_02.ipynb#ch0000009?line=1'>2</a>\u001b[0m     result \u001b[39m=\u001b[39m arg1 \u001b[39m+\u001b[39;49m arg2 \u001b[39m-\u001b[39;49m arg3\n\u001b[1;32m      <a href='vscode-notebook-cell:/home/mark/GH_Repositories/CodingSummerSchool/Day02_Python_Functions/Day_02.ipynb#ch0000009?line=2'>3</a>\u001b[0m     \u001b[39mreturn\u001b[39;00m result\n",
      "\u001b[0;31mTypeError\u001b[0m: unsupported operand type(s) for -: 'int' and 'str'"
     ]
    }
   ],
   "source": [
    "answer = mymathfunction(5,10,\"cactus\")\n",
    "print(answer)"
   ]
  },
  {
   "cell_type": "markdown",
   "metadata": {},
   "source": [
    "Now we get a type error.  Fortunately, we can rewrite the function to include \"type hints\".  If we add `:float` after the variable names in the function definition, we're telling the programmer \"This variable should be of the `float` data type\".  Please note that it doesn't actually stop the user from passing incorrect data types to the function."
   ]
  },
  {
   "cell_type": "code",
   "execution_count": null,
   "metadata": {},
   "outputs": [],
   "source": [
    "def mymathfunction(arg1:float, arg2:float, arg3:float):\n",
    "    result = arg1 + arg2 - arg3\n",
    "    return result"
   ]
  },
  {
   "cell_type": "code",
   "execution_count": null,
   "metadata": {},
   "outputs": [],
   "source": [
    "answer = mymathfunction(5,10,\"cactus\")\n",
    "print(answer)"
   ]
  },
  {
   "cell_type": "markdown",
   "metadata": {},
   "source": [
    "Recall the booleans we discussed yesterday.  We can use them along with a *type check* in our function to first make sure the arguments to our function are of the correct type."
   ]
  },
  {
   "cell_type": "code",
   "execution_count": null,
   "metadata": {},
   "outputs": [],
   "source": [
    "# declare a variable as an integer.\n",
    "x = 5\n",
    "\n",
    "# check if it's an integer.\n",
    "print(isinstance(x,int))\n",
    "\n",
    "# check if it's a float.\n",
    "print(isinstance(x,float))"
   ]
  },
  {
   "cell_type": "markdown",
   "metadata": {},
   "source": [
    "We can see how the `isinstance` function (which doesn't need to be defined because it's already part of the base python) takes the variable we give it and a type, and returns a boolean response.  Note that the `int` and `float` checks return different results.  However, as programmers we know that python math with integers and floats is (generally) interchangable.\n",
    "\n",
    "How can we use this to guard our functions?\n",
    "\n",
    "In the example below, we will create an empty list for the type checks, then add the result of each check to the list.  Then, if the whole list is `True`, we will proceed with the function.  If it's not all `True`, we'll exit the function without doing anything."
   ]
  },
  {
   "cell_type": "code",
   "execution_count": null,
   "metadata": {},
   "outputs": [],
   "source": [
    "def mymathfunction(arg1:float, arg2:float, arg3:float):\n",
    "    # make an empty list\n",
    "    variable_type_checks = []\n",
    "    # check if arg1 is a float or an integer and add the result to the list\n",
    "    variable_type_checks.append( any( [isinstance(arg1,float), isinstance(arg1,int)] ) )\n",
    "    # check if arg2 is a float or an integer and add the result to the list\n",
    "    variable_type_checks.append( any( [isinstance(arg2,float), isinstance(arg2,int)] ) )\n",
    "    # check if arg3 is a float or an integer and add the result to the list\n",
    "    variable_type_checks.append( any( [isinstance(arg3,float), isinstance(arg3,int)] ) )\n",
    "\n",
    "    # check if the entire list is \"True\"\n",
    "    if all(variable_type_checks):\n",
    "        result = arg1 + arg2 - arg3\n",
    "        return result\n",
    "    # if the above fails (the if-condition is not met), we'll do the next section instead.\n",
    "    elif any(variable_type_checks):\n",
    "        print(\"Some arguments are not floats.\")\n",
    "        return None\n",
    "    # if nothing above worked, do this.\n",
    "    else:\n",
    "        print(\"Every argument is not a float!\")\n",
    "        return None"
   ]
  },
  {
   "cell_type": "markdown",
   "metadata": {},
   "source": [
    "This function is a bit larger, but it's including additional checks and conditions to ensure it works correctly."
   ]
  },
  {
   "cell_type": "code",
   "execution_count": null,
   "metadata": {},
   "outputs": [],
   "source": [
    "answer = mymathfunction(5,10,3)\n",
    "print(answer)"
   ]
  },
  {
   "cell_type": "code",
   "execution_count": null,
   "metadata": {},
   "outputs": [],
   "source": [
    "answer = mymathfunction(5,10,\"cactus\")\n",
    "print(answer)"
   ]
  },
  {
   "cell_type": "code",
   "execution_count": null,
   "metadata": {},
   "outputs": [],
   "source": [
    "answer = mymathfunction(\"cheese\",\"crater\",\"cactus\")\n",
    "print(answer)"
   ]
  },
  {
   "cell_type": "markdown",
   "metadata": {},
   "source": [
    "We have the three possible outcomes for this function above.  In all cases, the function executed without throwing an error (which can cause the program to crash entirely), and each returned a result.\n",
    "\n",
    "The two \"failing\" function calls returned the `None` datatype.  In C++, this is called `NULL`.  Both effectively mean there's an empty spot.  However, we can still treat `None` like a data type."
   ]
  },
  {
   "cell_type": "code",
   "execution_count": null,
   "metadata": {},
   "outputs": [],
   "source": [
    "answer = mymathfunction(\"cheese\",\"crater\",\"cactus\")\n",
    "\n",
    "answer == None"
   ]
  },
  {
   "cell_type": "markdown",
   "metadata": {},
   "source": [
    "We can use the `None` comparison to check results, which can be useful in larger functions or programs.\n",
    "\n",
    "What if there are external values that you need to change inside the function?  By default, when you pass arguments to functions in Python, you're not passing the variable itself, but a copy of the value inside.  Consider the function below.\n"
   ]
  },
  {
   "cell_type": "code",
   "execution_count": null,
   "metadata": {},
   "outputs": [],
   "source": [
    "def f(x):\n",
    "    x = x+10\n",
    "    print(x)\n",
    "\n",
    "# set x to a value\n",
    "x = 5\n",
    "# print the value of x\n",
    "print(x)\n",
    "# call the function f(x), which internally changes the value of x and then prints it\n",
    "f(x)\n",
    "# print the value of x\n",
    "print(x)"
   ]
  },
  {
   "cell_type": "markdown",
   "metadata": {},
   "source": [
    "Now, here we can see that the value of `x` *outside* the function `f(x)` never changes, even though it's changed inside.  This is an example of *scope* that we discussed yesterday.  What if we wanted to change the value of `x` with the function?\n",
    "\n",
    "We can use `global` to pull variables in from the outside and use/modify them.  This is particularly useful when you're wanting to change a large dataset, like a list of xyz-coordinates for a bunch of particles (as a completely innocent and totally-not-foreshadowing example)."
   ]
  },
  {
   "cell_type": "code",
   "execution_count": 1,
   "metadata": {},
   "outputs": [
    {
     "name": "stdout",
     "output_type": "stream",
     "text": [
      "7\n",
      "17\n"
     ]
    }
   ],
   "source": [
    "def f():\n",
    "    global y\n",
    "    y = y+10\n",
    "\n",
    "y=7\n",
    "print(y)\n",
    "f()\n",
    "print(y)"
   ]
  },
  {
   "cell_type": "markdown",
   "metadata": {},
   "source": [
    "Now we see how the function `f()` without any arguments was able to modify the value of `y` outside itself.\n",
    "\n",
    "Now that you know about `global`, be aware that it can be very dangerous if used improperly.\n",
    "\n",
    "<img src=\"Images/DeathSword.png\" width=\"1000\">\n",
    "\n",
    "In Python, functions can pull external things inside with `global`, but nothing can be pulled from inside a function except things the function *returns*.\n",
    "\n",
    "You can also nest function calls inside other functions, which can be useful as well."
   ]
  },
  {
   "cell_type": "code",
   "execution_count": 3,
   "metadata": {},
   "outputs": [
    {
     "name": "stdout",
     "output_type": "stream",
     "text": [
      "-48\n",
      "92\n"
     ]
    }
   ],
   "source": [
    "def f(x):\n",
    "    return x**2 + 7\n",
    "\n",
    "def g(x):\n",
    "    return x*f(x)\n",
    "\n",
    "print(g(-3))\n",
    "print(g(4))"
   ]
  },
  {
   "cell_type": "markdown",
   "metadata": {},
   "source": [
    "That's a very simple example, but you can see how having smaller functions can lend itself to a modularity and reusability that can become very convenient.\n"
   ]
  }
 ],
 "metadata": {
  "interpreter": {
   "hash": "c7f5e592c43e0bb3865fa17512643febd83867b1832dfdc95e4b02df1a0eafd5"
  },
  "kernelspec": {
   "display_name": "Python 3.9.7 ('base')",
   "language": "python",
   "name": "python3"
  },
  "language_info": {
   "codemirror_mode": {
    "name": "ipython",
    "version": 3
   },
   "file_extension": ".py",
   "mimetype": "text/x-python",
   "name": "python",
   "nbconvert_exporter": "python",
   "pygments_lexer": "ipython3",
   "version": "3.9.7"
  },
  "orig_nbformat": 4
 },
 "nbformat": 4,
 "nbformat_minor": 2
}
