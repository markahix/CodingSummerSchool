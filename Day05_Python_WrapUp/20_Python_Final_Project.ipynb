{
 "cells": [
  {
   "cell_type": "markdown",
   "metadata": {},
   "source": [
    "# Python - The Final Project!\n",
    "\n",
    "Work together to create a python module that can help lab members process, analyze, and present data from TeraChem calculations.\n",
    "\n",
    "1. Ground State Optimization\n",
    "2. Excited State Single Point Energy\n",
    "3. Ground State Molecular Dynamics\n",
    "4. Excited State Optimization\n",
    "5. Excited State Molecular Dynamics\n",
    "\n",
    "Come up with some different things we want to know from each of these calculations, then write functions, classes, or modules to process the outputs from these different calculations and give us condensed reports or plots to make it easy to review.\n",
    "\n",
    "Figure out the parts of the process, create pseudocode, and build your program!"
   ]
  },
  {
   "cell_type": "markdown",
   "metadata": {},
   "source": []
  }
 ],
 "metadata": {
  "language_info": {
   "name": "python"
  },
  "orig_nbformat": 4
 },
 "nbformat": 4,
 "nbformat_minor": 2
}
