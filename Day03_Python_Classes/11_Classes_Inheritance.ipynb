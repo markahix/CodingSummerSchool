{
 "cells": [
  {
   "cell_type": "markdown",
   "metadata": {},
   "source": [
    "# Python Classes - Inheritance\n",
    "\n",
    "Inheritance refers to building a class that is based on a framework of another class.  This can be done when you have need of classes for different subcategories of object that all fall under the same larger category.  This can be thought of in terms of different people having different jobs.  You can have a class, `Person` that has all the usual information about a person such as name and age, and then have a class called `Employee` which inherits from `Person`.  All `Employee`s are also a `Person`, but all `Person`s are not `Employee`s.\n",
    "\n",
    "Let's look at it from a scientific perspective.\n"
   ]
  },
  {
   "cell_type": "code",
   "execution_count": 6,
   "metadata": {},
   "outputs": [
    {
     "name": "stdout",
     "output_type": "stream",
     "text": [
      "-642000000.0\n"
     ]
    }
   ],
   "source": [
    "import numpy as np\n",
    "\n",
    "class Point:\n",
    "    def __init__(self,x,y,z):\n",
    "        self.x = x\n",
    "        self.y = y\n",
    "        self.z = z\n",
    "    def distance_from(self,point):\n",
    "        return np.sqrt( (self.x-point.x)**2 + (self.y-point.y)**2 + (self.z-point.z)**2 )\n",
    "\n",
    "## Now we have a class that defines a point in cartesian space (x,y,z) and has a function that can be used to calculate the distance from another point.\n",
    "## What if we wanted a point-charge class but didn't want to have to rewrite the entire class function for it?\n",
    "class PointCharge(Point):\n",
    "    def __init__(self,x,y,z,charge):\n",
    "        super().__init__(x,y,z)\n",
    "        self.charge = charge\n",
    "    def force_between(self,pointcharge):\n",
    "        dist = self.distance_from(pointcharge)\n",
    "        k = 8.988e9\n",
    "        force = k * (self.charge * pointcharge.charge) / (dist**2)\n",
    "        return force\n",
    "\n",
    "## With the PointCharge class, we included the type of class it's inheriting from, Point.  \n",
    "## PointCharge now has all the same variables and functions as Point, without having to redefine them.\n",
    "\n",
    "p1 = Point(0,1,2)\n",
    "pc1 = PointCharge(1,2,3,-1)\n",
    "pc2 = PointCharge(0,0,0,+1)\n",
    "\n",
    "print(pc2.force_between(pc1))"
   ]
  },
  {
   "cell_type": "markdown",
   "metadata": {},
   "source": [
    "We can take inheritance further.  Any class can be inherited, and everything in that class comes with it, including its own inheritances.\n",
    "\n",
    "Consider an atom.  We can (roughly!) describe an atom as a point charge that also has mass.  Of course they're more complicated than that, but we're taking it a step at a time."
   ]
  },
  {
   "cell_type": "code",
   "execution_count": 7,
   "metadata": {},
   "outputs": [],
   "source": [
    "\n",
    "class Atom(PointCharge):\n",
    "    def __init__(self,x,y,z,charge,mass):\n",
    "        super().__init__(x,y,z,charge)\n",
    "        self.mass = mass\n",
    "\n",
    "    def get_accel_between(self,atom):\n",
    "        force = self.force_between(atom)\n",
    "        accel = force/self.mass\n",
    "        return accel"
   ]
  },
  {
   "cell_type": "markdown",
   "metadata": {},
   "source": [
    "Now we have a class that holds all the previous stages' parameters and has access to all the previous stages' functions.  With this, we can build larger and larger systems and include more and more data, without having to completely rebuild each class from the ground up."
   ]
  },
  {
   "cell_type": "code",
   "execution_count": null,
   "metadata": {},
   "outputs": [],
   "source": []
  }
 ],
 "metadata": {
  "kernelspec": {
   "display_name": "Python 3.9.7 ('base')",
   "language": "python",
   "name": "python3"
  },
  "language_info": {
   "codemirror_mode": {
    "name": "ipython",
    "version": 3
   },
   "file_extension": ".py",
   "mimetype": "text/x-python",
   "name": "python",
   "nbconvert_exporter": "python",
   "pygments_lexer": "ipython3",
   "version": "3.9.7"
  },
  "orig_nbformat": 4,
  "vscode": {
   "interpreter": {
    "hash": "c7f5e592c43e0bb3865fa17512643febd83867b1832dfdc95e4b02df1a0eafd5"
   }
  }
 },
 "nbformat": 4,
 "nbformat_minor": 2
}
