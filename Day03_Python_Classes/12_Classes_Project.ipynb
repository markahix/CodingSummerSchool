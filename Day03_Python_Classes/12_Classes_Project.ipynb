{
 "cells": [
  {
   "cell_type": "markdown",
   "metadata": {},
   "source": [
    "# Python Classes\n",
    "\n",
    "Classes are one of the most powerful, versatile, and useful tools in modern programming.  A *class* is a construct that can hold internal data and has its own internal functions that can be called.  Classes can also use external functions, other classes, and can range from the extremely simple to the incredibly complex.\n",
    "\n",
    "Classes are defined in specific way, with some required functions built into all of them."
   ]
  },
  {
   "cell_type": "code",
   "execution_count": 5,
   "metadata": {},
   "outputs": [],
   "source": [
    "class MyClass:\n",
    "    def __init__(self,name,age):\n",
    "        self.name = name\n",
    "        self.age  = age\n",
    "    def __str__(self):\n",
    "        return f\"{self.name} is {self.age} years old.\""
   ]
  },
  {
   "cell_type": "markdown",
   "metadata": {},
   "source": [
    "`MyClass` is an example of a very basic class structure.  \n",
    "\n",
    "- The references to `self` are important.  It is necessary when referencing variables held by the class, especially in internal functions.  You may notice that the `__str__` function doesn't take any arguments except for `self`, yet it is able to use the `age` and `name` variables we stored during the `__init__` function call.\n",
    "- The first class function defined is `__init__`, which is understood by Python to be the *constructor*.  This function is called the very first time a new instance of `MyClass` is created.\n",
    "- The next class function is `__str__`, which we can use to define what is displayed if the user calls the class object as a string, such as in a print statement.  This function is optional, and only changes the default behavior of python when converting a class object into a string. See the examples below."
   ]
  },
  {
   "cell_type": "code",
   "execution_count": 7,
   "metadata": {},
   "outputs": [
    {
     "name": "stdout",
     "output_type": "stream",
     "text": [
      "MyStringlessClass\n",
      "<__main__.MyStringlessClass object at 0x7f00a8471ee0>\n",
      "\n",
      "MyClass\n",
      "Mark is 37 years old.\n",
      "\n"
     ]
    }
   ],
   "source": [
    "class MyStringlessClass:\n",
    "    def __init__(self,name,age):\n",
    "        self.name = name\n",
    "        self.age  = age\n",
    "\n",
    "stringless = MyStringlessClass(\"Mark\",37)\n",
    "print(\"MyStringlessClass\")\n",
    "print(stringless)\n",
    "print(\"\")\n",
    "\n",
    "not_stringless = MyClass(\"Mark\",37)\n",
    "print(\"MyClass\")\n",
    "print(not_stringless)\n",
    "print(\"\")"
   ]
  },
  {
   "cell_type": "markdown",
   "metadata": {},
   "source": [
    "We can see the differences between the two classes in how they are displayed through a `print()` function.\n",
    "We can also create our own additional functions that can be called after the class is initially created.  \n",
    "\n",
    "We'll continue with an example class to hold information about a single atom in a system.  I'll be importing `numpy` as well to make some of the internal functions a little easier to work with."
   ]
  },
  {
   "cell_type": "code",
   "execution_count": 13,
   "metadata": {},
   "outputs": [],
   "source": [
    "import numpy as np\n",
    "\n",
    "class Atom:\n",
    "    def __init__(self,x,y,z,atomic_number,charge):\n",
    "        self.x = x\n",
    "        self.y = y\n",
    "        self.z = z\n",
    "        self.number = atomic_number\n",
    "        self.charge = charge\n",
    "    def distance_from_center(self):\n",
    "        return np.sqrt(self.x**2 + self.y**2 + self.z**2)\n",
    "    def update_location(self,x,y,z):\n",
    "        self.x = x\n",
    "        self.y = y\n",
    "        self.z = z\n",
    "    def get_location(self):\n",
    "        return f\"({self.x},{self.y},{self.z})\"\n",
    "    def str_charge(self):\n",
    "        if self.charge > 0:\n",
    "            return f\"+{self.charge}\"\n",
    "        return f\"{self.charge}\"\n",
    "    def __str__(self):\n",
    "        return f\"Atom located at {self.get_location()} with charge of {self.str_charge()}\"\n",
    "        \n"
   ]
  },
  {
   "cell_type": "code",
   "execution_count": 21,
   "metadata": {},
   "outputs": [
    {
     "name": "stdout",
     "output_type": "stream",
     "text": [
      "Atom located at (3.5,4.2,5.9) with charge of -1.\n",
      "Atom located at (1.0,1.0,1.0) with charge of +1.\n"
     ]
    }
   ],
   "source": [
    "chloride = Atom(3.5,4.2,5.9,17,-1)\n",
    "print(chloride)\n",
    "\n",
    "lithium = Atom(1.0,1.0,1.0,3,1)\n",
    "print(lithium)"
   ]
  },
  {
   "cell_type": "code",
   "execution_count": 22,
   "metadata": {},
   "outputs": [
    {
     "name": "stdout",
     "output_type": "stream",
     "text": [
      "Atom located at (3.5,4.2,5.9) with charge of -1.\n",
      "8.043631020876083\n",
      "Atom located at (3,3,3) with charge of -1.\n",
      "5.196152422706632\n"
     ]
    }
   ],
   "source": [
    "print(chloride)\n",
    "print(chloride.distance_from_center())\n",
    "chloride.update_location(3,3,3)\n",
    "print(chloride)\n",
    "print(chloride.distance_from_center())"
   ]
  },
  {
   "cell_type": "code",
   "execution_count": 18,
   "metadata": {},
   "outputs": [
    {
     "data": {
      "text/plain": [
       "1.7320508075688772"
      ]
     },
     "execution_count": 18,
     "metadata": {},
     "output_type": "execute_result"
    }
   ],
   "source": [
    "lithium.distance_from_center()"
   ]
  },
  {
   "cell_type": "markdown",
   "metadata": {},
   "source": [
    "As mentioned above, classes can also use other classes inside themselves, Let's try making a class for a Molecule that uses Atoms.\n",
    "\n",
    "First, we want to think about what additional information we need for a molecule that isn't already included in the Atoms.\n",
    "\n",
    "The first thing that comes to mind is bonds.\n",
    "\n",
    "We can create a class that includes a list of atoms and bonds.\n"
   ]
  },
  {
   "cell_type": "code",
   "execution_count": 34,
   "metadata": {},
   "outputs": [],
   "source": [
    "class Molecule:\n",
    "    def __init__(self):\n",
    "        self.atoms = []\n",
    "        self.bonds = []\n",
    "    def __str__(self):\n",
    "        string  = \"Molecule made of \"\n",
    "        string += \",\".join([str(atom) for atom in self.atoms])\n",
    "        return string\n",
    "    def add_atom(self,x,y,z,number,charge):\n",
    "        self.atoms.append(Atom(x,y,z,number,charge))\n",
    "    def add_bond(self,index1,index2):\n",
    "        self.bonds.append([index1,index2])\n",
    "    def get_bond_distance(self,index):\n",
    "        idx1,idx2 = self.bonds[index]\n",
    "        x1 = self.atoms[idx1].x\n",
    "        y1 = self.atoms[idx1].y\n",
    "        z1 = self.atoms[idx1].z\n",
    "        x2 = self.atoms[idx2].x\n",
    "        y2 = self.atoms[idx2].y\n",
    "        z2 = self.atoms[idx2].z\n",
    "        dist = np.sqrt((x2-x1)**2 + (y2-y1)**2 + (z2-z1)**2)\n",
    "        return dist\n",
    "    def get_total_charge(self):\n",
    "        charge = 0\n",
    "        for atom in self.atoms:\n",
    "            charge += atom.charge\n",
    "        return charge\n",
    "\n"
   ]
  },
  {
   "cell_type": "code",
   "execution_count": 35,
   "metadata": {},
   "outputs": [],
   "source": [
    "sulfurhexafluoride = Molecule()"
   ]
  },
  {
   "cell_type": "code",
   "execution_count": 36,
   "metadata": {},
   "outputs": [],
   "source": [
    "sulfurhexafluoride.add_atom(0,0,0,16,+6)\n",
    "sulfurhexafluoride.add_atom(1,0,0,9,-1)\n",
    "sulfurhexafluoride.add_atom(-1,0,0,9,-1)\n",
    "sulfurhexafluoride.add_atom(0,1,0,9,-1)\n",
    "sulfurhexafluoride.add_atom(0,-1,0,9,-1)\n",
    "sulfurhexafluoride.add_atom(0,0,1,9,-1)\n",
    "sulfurhexafluoride.add_atom(0,0,-1,9,-1)\n",
    "\n"
   ]
  },
  {
   "cell_type": "code",
   "execution_count": 38,
   "metadata": {},
   "outputs": [
    {
     "name": "stdout",
     "output_type": "stream",
     "text": [
      "0\n",
      "Molecule made of Atom located at (0,0,0) with charge of +6.,Atom located at (1,0,0) with charge of -1.,Atom located at (-1,0,0) with charge of -1.,Atom located at (0,1,0) with charge of -1.,Atom located at (0,-1,0) with charge of -1.,Atom located at (0,0,1) with charge of -1.,Atom located at (0,0,-1) with charge of -1.\n"
     ]
    }
   ],
   "source": [
    "print(sulfurhexafluoride.get_total_charge())\n",
    "print(sulfurhexafluoride)"
   ]
  },
  {
   "cell_type": "markdown",
   "metadata": {},
   "source": [
    "As you can see, you can build classes of increasing complexity to serve as more manageable data structures for whatever your specific needs may be."
   ]
  }
 ],
 "metadata": {
  "kernelspec": {
   "display_name": "Python 3.9.7 ('base')",
   "language": "python",
   "name": "python3"
  },
  "language_info": {
   "codemirror_mode": {
    "name": "ipython",
    "version": 3
   },
   "file_extension": ".py",
   "mimetype": "text/x-python",
   "name": "python",
   "nbconvert_exporter": "python",
   "pygments_lexer": "ipython3",
   "version": "3.9.7"
  },
  "orig_nbformat": 4,
  "vscode": {
   "interpreter": {
    "hash": "c7f5e592c43e0bb3865fa17512643febd83867b1832dfdc95e4b02df1a0eafd5"
   }
  }
 },
 "nbformat": 4,
 "nbformat_minor": 2
}
