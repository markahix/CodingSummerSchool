{
 "cells": [
  {
   "cell_type": "markdown",
   "metadata": {},
   "source": [
    "# Intermediate Functions - *args* and *kwargs*!\n",
    "\n",
    "What if you wanted to give a function an unknown number of arguments?  Say, for example, you wanted to give it some random number of `float` values and have it multiply the reciprocals of each together?  The mathematical formula would look like this:\n",
    "\n",
    "$\\prod\\limits_{i=1}\\frac{1}{x_i}$\n",
    "\n",
    "The Python function can use `*args` as an argument.  The `*` indicates the value is going to be some arbitrary length list of values that should be collected by the function."
   ]
  },
  {
   "cell_type": "code",
   "execution_count": 29,
   "metadata": {},
   "outputs": [],
   "source": [
    "def product_of_reciprocals(*args):\n",
    "    # Start with the product set to 1 (since anything multiplied by one is itself).\n",
    "    product=1\n",
    "    for arg in args: # iterate through all the values given in the function call\n",
    "        product = product * (1/arg) # multiply the current product value by the reciprocal of the current arg value, and assign it to the product value\n",
    "    return product"
   ]
  },
  {
   "cell_type": "code",
   "execution_count": 30,
   "metadata": {},
   "outputs": [
    {
     "data": {
      "text/plain": [
       "1"
      ]
     },
     "execution_count": 30,
     "metadata": {},
     "output_type": "execute_result"
    }
   ],
   "source": [
    "product_of_reciprocals()"
   ]
  },
  {
   "cell_type": "code",
   "execution_count": 31,
   "metadata": {},
   "outputs": [
    {
     "data": {
      "text/plain": [
       "0.0005847953216374268"
      ]
     },
     "execution_count": 31,
     "metadata": {},
     "output_type": "execute_result"
    }
   ],
   "source": [
    "product_of_reciprocals(3,6,95)"
   ]
  },
  {
   "cell_type": "code",
   "execution_count": 32,
   "metadata": {},
   "outputs": [
    {
     "data": {
      "text/plain": [
       "0.0003787878787878788"
      ]
     },
     "execution_count": 32,
     "metadata": {},
     "output_type": "execute_result"
    }
   ],
   "source": [
    "product_of_reciprocals(1,1,2,3,5,8,11)"
   ]
  },
  {
   "cell_type": "code",
   "execution_count": 36,
   "metadata": {},
   "outputs": [
    {
     "data": {
      "text/plain": [
       "0.09523619051428493"
      ]
     },
     "execution_count": 36,
     "metadata": {},
     "output_type": "execute_result"
    }
   ],
   "source": [
    "product_of_reciprocals(0.1, 0.2, 0.5, 1.0, 1.5, 2.0, 5.0, 7.0, 10.0002)"
   ]
  },
  {
   "cell_type": "markdown",
   "metadata": {},
   "source": [
    "With `*args`, any number of values may be passed to the function.\n",
    "\n",
    "What about unknown and arbitrary number of arguments that must be assigned to specific keywords?\n",
    "\n",
    "Here, we can use `**kwargs`, which is short for \"keyword arguments\".  This specifically requires that each additional argument be given as a variable and an assignment. These can be useful if there are specific things you want your function to do, but only if those arguments are present.\n",
    "\n",
    "The `**` indicates that `kwargs` will be a `dictionary` data type, which is a list of mapped keys and values.  Therefore, using the individual keywords requires a little knowledge of dictionary manipulation."
   ]
  },
  {
   "cell_type": "code",
   "execution_count": 39,
   "metadata": {},
   "outputs": [],
   "source": [
    "def PrintKwargs(**kwargs):\n",
    "    for key,val in kwargs.items():\n",
    "        print(\"The\",key,\"says\",val)\n",
    "    return\n"
   ]
  },
  {
   "cell_type": "code",
   "execution_count": 41,
   "metadata": {},
   "outputs": [
    {
     "name": "stdout",
     "output_type": "stream",
     "text": [
      "The chicken says bawk\n",
      "The cow says moo\n",
      "The farmer says it looks like rain\n",
      "The dog says woof\n"
     ]
    }
   ],
   "source": [
    "PrintKwargs(chicken=\"bawk\",cow=\"moo\",farmer=\"it looks like rain\",dog=\"woof\")"
   ]
  },
  {
   "cell_type": "markdown",
   "metadata": {},
   "source": [
    "What if we include an argument without assigning it to a keyword?"
   ]
  },
  {
   "cell_type": "code",
   "execution_count": 43,
   "metadata": {},
   "outputs": [
    {
     "ename": "SyntaxError",
     "evalue": "positional argument follows keyword argument (3123196330.py, line 1)",
     "output_type": "error",
     "traceback": [
      "\u001b[0;36m  File \u001b[0;32m\"/tmp/ipykernel_98113/3123196330.py\"\u001b[0;36m, line \u001b[0;32m1\u001b[0m\n\u001b[0;31m    PrintKwargs(chicken=\"bawk\",cow=\"moo\",farmer=\"it looks like rain\",dog=\"woof\",\"nothing assigned\")\u001b[0m\n\u001b[0m                                                                                                  ^\u001b[0m\n\u001b[0;31mSyntaxError\u001b[0m\u001b[0;31m:\u001b[0m positional argument follows keyword argument\n"
     ]
    }
   ],
   "source": [
    "PrintKwargs(chicken=\"bawk\",cow=\"moo\",farmer=\"it looks like rain\",dog=\"woof\",\"nothing assigned\")"
   ]
  },
  {
   "cell_type": "markdown",
   "metadata": {},
   "source": [
    "Not great.  In this case, you get an error because there's something passed to the function that isn't a keyword argument.  As an aside, a \"positional argument\" is just the regular arguments we worked with in the examples before `*args` and `**kwargs`.\n",
    "\n",
    "What if we wanted to account for keyword arguments AND unassigned arguments?\n",
    "\n",
    "You can use positional arguments, `*args`, and `**kwargs` in your function calls, so long as they're in that order.\n",
    "\n",
    "Positional arguments may also have default values assigned to them in the function definition.  Any default variables should be placed at the end of the *positional arguments*, but before the `*args` and `**kwargs`."
   ]
  },
  {
   "cell_type": "code",
   "execution_count": 1,
   "metadata": {},
   "outputs": [],
   "source": [
    "def BigFunction(x,y,z=10,*args,**kwargs):\n",
    "    print(\"x is\",x)\n",
    "    print(\"y is\",y)\n",
    "    print(\"z is\",z)\n",
    "    for arg in args:\n",
    "        print(\"Found arg: \",arg)\n",
    "    for key,value in kwargs.items():\n",
    "        print(\"keyword\",key,\"is\",value)\n"
   ]
  },
  {
   "cell_type": "code",
   "execution_count": 2,
   "metadata": {},
   "outputs": [
    {
     "name": "stdout",
     "output_type": "stream",
     "text": [
      "x is  3\n",
      "y is  4\n",
      "z is 6\n",
      "Found arg:  bear\n",
      "Found arg:  goat\n",
      "Found arg:  llama\n",
      "Found arg:  emu\n",
      "Found arg:  shark\n",
      "keyword potato is mashed\n",
      "keyword dinner is ready\n"
     ]
    }
   ],
   "source": [
    "BigFunction(3,4,6,\"bear\",\"goat\",\"llama\",\"emu\",\"shark\",potato=\"mashed\",dinner=\"ready\")"
   ]
  },
  {
   "cell_type": "markdown",
   "metadata": {},
   "source": [
    "One thing to keep in mind is that positional arguments get assigned before anything gets dumped into `*args`.  Above, even though `z` has a default value, it got assigned a value of `6` from the function call because `6` was in that position.  Everything afterwards was combined into `*args`."
   ]
  }
 ],
 "metadata": {
  "interpreter": {
   "hash": "c7f5e592c43e0bb3865fa17512643febd83867b1832dfdc95e4b02df1a0eafd5"
  },
  "kernelspec": {
   "display_name": "Python 3.9.7 ('base')",
   "language": "python",
   "name": "python3"
  },
  "language_info": {
   "codemirror_mode": {
    "name": "ipython",
    "version": 3
   },
   "file_extension": ".py",
   "mimetype": "text/x-python",
   "name": "python",
   "nbconvert_exporter": "python",
   "pygments_lexer": "ipython3",
   "version": "3.9.7"
  },
  "orig_nbformat": 4
 },
 "nbformat": 4,
 "nbformat_minor": 2
}
