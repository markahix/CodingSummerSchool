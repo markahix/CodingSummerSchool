{
 "cells": [
  {
   "cell_type": "markdown",
   "metadata": {},
   "source": [
    "# Functions Project\n",
    "\n",
    "Let's try creating some other functions, perhaps based on the pseudocode project from last time.\n",
    "\n",
    "1. Write a function to generate a random set of coordinates for a particle in a cube with an edge length of 20.\n",
    "2. Write a function to create a list of `N` randomly placed particles.\n",
    "3. Write a function to generate a random movement of a particle with each `x`, `y`, and `z` component of the motion vector as a random value between -1 and +1.\n",
    "4. Write a function to make each particle in the list take `S` number of random motion steps.\n",
    "5. Write a function to measure the distance between the starting and ending points of all particles.\n",
    "\n",
    "I will include some helper functions for things like random number generation below.  For all functions you'll write below, you will need to choose what arguments you need to pass to the function and how to get to the result at the `return` statement ending each function."
   ]
  },
  {
   "cell_type": "code",
   "execution_count": 1,
   "metadata": {},
   "outputs": [],
   "source": [
    "import numpy as np\n",
    "import matplotlib.pyplot as plt\n",
    "\n",
    "def random(lower,upper):\n",
    "    return np.random.uniform(low=lower, high=upper)\n",
    "\n",
    "def plot_distances(distances):\n",
    "    plt.hist(distances, bins=100, density=1)\n",
    "    plt.show()\n"
   ]
  },
  {
   "cell_type": "code",
   "execution_count": 2,
   "metadata": {},
   "outputs": [],
   "source": [
    "# Generate particle with random position [x,y,z]\n",
    "def CreateParticle():\n",
    "    ### Your code goes here!\n",
    "\n",
    "    return particle\n"
   ]
  },
  {
   "cell_type": "code",
   "execution_count": 3,
   "metadata": {},
   "outputs": [],
   "source": [
    "# Create a list of N randomly generated particles\n",
    "def GenerateParticleCollection():\n",
    "    ### Your code goes here!\n",
    "    \n",
    "    return all_particles"
   ]
  },
  {
   "cell_type": "code",
   "execution_count": 4,
   "metadata": {},
   "outputs": [],
   "source": [
    "# generate a random motion between -1 and 1 in all axes and apply it to a given particle.\n",
    "def MoveParticle():\n",
    "    ### Your code goes here!\n",
    "\n",
    "    return new_position\n",
    "    "
   ]
  },
  {
   "cell_type": "code",
   "execution_count": 5,
   "metadata": {},
   "outputs": [],
   "source": [
    "# Move all particles in your list S number of times and return the final positions.\n",
    "def BrownianMotionSimulation():\n",
    "    ### Your code goes here!\n",
    "    \n",
    "    return final_positions"
   ]
  },
  {
   "cell_type": "code",
   "execution_count": 6,
   "metadata": {},
   "outputs": [],
   "source": [
    "# Compare starting and ending positions for all particles and return the distances.\n",
    "def CalculateDistances():\n",
    "    ### Your code goes here!\n",
    "\n",
    "    return distances"
   ]
  },
  {
   "cell_type": "markdown",
   "metadata": {},
   "source": [
    "Now write a sequence of function calls, variable assignments, etc. to run through your algorithm."
   ]
  },
  {
   "cell_type": "code",
   "execution_count": 7,
   "metadata": {},
   "outputs": [],
   "source": [
    "# This is your main \"program\", which will use the functions you've written and return a nice histogram of the resulting distances traveled by each particle.\n",
    "\n",
    "# Generate 10000 particles\n",
    "\n",
    "# Move the particles 100 steps.\n",
    "\n",
    "# Measure the distances between starting and ending positions.\n",
    "\n",
    "# use the `plot_distances()` function call to show the results as a histogram."
   ]
  },
  {
   "cell_type": "markdown",
   "metadata": {},
   "source": [
    "If you got a histogram plot that looks like it could be the results of the random motion of 10,000 particles, your program probably works great!\n",
    "\n",
    "Now that we've all completed that, let's consider some additional things about the algorithm and the *actual* execution of it.\n",
    "\n",
    "For example, does the distance travelled have any dependency on the original position of the particles?  If not, what can we do to reduce the amount of work being done by the computer?  Can we reduce the entire program down to something smaller?\n",
    "\n",
    "Programming is often thought of as \"make the computer do a task\", which is true, but in the larger picture of scientific programming, it's important to consider the actual goals.\n",
    "\n",
    "If we re-examine the actual goal of \"obtain a distribution of how far particles will travel given random motion\", we can reduce the algorithm down significantly.\n",
    "\n",
    "- The x, y, and z components of motion are all generated the same way and independently of each other.\n",
    "- Each particle's motion is independent of all the other particles, as is its final distance traveled.\n",
    "- The final distance is independent of the starting coordinates.\n",
    "\n",
    "With these points in mind, can you think of a new form of the algorithm?"
   ]
  },
  {
   "cell_type": "code",
   "execution_count": 8,
   "metadata": {},
   "outputs": [],
   "source": [
    "# start empty list of distances\n",
    "# loop through number of particles to test\n",
    "    # start particle position at 0,0,0\n",
    "    # make S number of x moves, sum them up to a final x position\n",
    "    # make S number of y moves, sum them up to a final y position\n",
    "    # make S number of z moves, sum them up to a final z position\n",
    "    # calculate norm of x,y,z coordinates\n",
    "    # append norm to list of distances.\n",
    "# plot histogram of distances"
   ]
  },
  {
   "cell_type": "code",
   "execution_count": 9,
   "metadata": {},
   "outputs": [
    {
     "data": {
      "image/png": "[encoded data removed]",
      "text/plain": [
       "<Figure size 432x288 with 1 Axes>"
      ]
     },
     "metadata": {
      "needs_background": "light"
     },
     "output_type": "display_data"
    }
   ],
   "source": [
    "distances = []\n",
    "for i in range(10000):\n",
    "    x=0\n",
    "    y=0\n",
    "    z=0\n",
    "    for j in range(1000):\n",
    "        x += random(-1,1)\n",
    "        y += random(-1,1)\n",
    "        z += random(-1,1)\n",
    "    norm = np.linalg.norm([x,y,z])\n",
    "    distances.append(norm)\n",
    "\n",
    "plot_distances(distances)"
   ]
  },
  {
   "cell_type": "code",
   "execution_count": null,
   "metadata": {},
   "outputs": [],
   "source": []
  }
 ],
 "metadata": {
  "interpreter": {
   "hash": "c7f5e592c43e0bb3865fa17512643febd83867b1832dfdc95e4b02df1a0eafd5"
  },
  "kernelspec": {
   "display_name": "Python 3 (ipykernel)",
   "language": "python",
   "name": "python3"
  },
  "language_info": {
   "codemirror_mode": {
    "name": "ipython",
    "version": 3
   },
   "file_extension": ".py",
   "mimetype": "text/x-python",
   "name": "python",
   "nbconvert_exporter": "python",
   "pygments_lexer": "ipython3",
   "version": "3.9.7"
  }
 },
 "nbformat": 4,
 "nbformat_minor": 2
}
