{
 "cells": [
  {
   "cell_type": "markdown",
   "metadata": {},
   "source": [
    "## Variable Types\n",
    "\n",
    "Python doesn't generally require *explicit* variable type declarations (with some exceptions that will come later as we get into more advanced programming).  However, it is still useful to know what kinds of data there is, what can be done with it, and how it's stored.\n",
    "\n",
    "First, let's explore data types like `int`, `float`, `list`, `tuple`, and `string`.\n"
   ]
  },
  {
   "cell_type": "code",
   "execution_count": 1,
   "metadata": {},
   "outputs": [],
   "source": [
    "my_int    = 2\n",
    "my_float  = 3.1415\n",
    "my_list   = [1,3.1415,\"Hello World!\",\"pizza\"]\n",
    "my_tuple  = (5,6,7,8,9)\n",
    "my_string = \"Hello World!\""
   ]
  },
  {
   "cell_type": "markdown",
   "metadata": {},
   "source": [
    "These examples are fairly simple.  \n",
    "\n",
    "- `my_int` is an integer, and gets treated like one.  Integers are useful for things like indexes, counters, and so forth.\n",
    "- `my_float` is a float (often called a \"double\" in other programming languages), and are regular numbers including decimals.\n",
    "- `my_list` is a list of values enclosed in square brackets.  Lists are indexed from zero, which means the first item in a list is \"item 0\".  Lists are great ways to keep collections of data organized and in order, and you can extract individual values simply by including the index with the variable name:  `my_list[3]` will return \"pizza\".  You can also get values from the end of a list with negative indices.  my_list`[-1]` will return \"pizza\" because it's the last value.\n",
    "- `my_tuple` is similar to a list, except that it is a little more difficult to pull individual values from it.  Tuples are useful when you need to maintain groups of values together in relation to each other, such as with (x,y,z) coordinates.\n",
    "- `my_string` is a list of characters including letters, numbers, punctuation, whitespace (tabs, spaces, line breaks, etc.).  The contents of a string do not include the quotation marks on either side.  Strings can include quotes using *escapes* like `\\\"` or `\\\\` to include a backslash.\n",
    "\n",
    "Variable manipulation comes in many forms and depends on the type of data contained within.  Better understanding of how data types work can allow you to do some interesting things, like taking a \"slice\" of a string like you would from a list.  \n",
    "\n",
    "Consider the examples below."
   ]
  },
  {
   "cell_type": "code",
   "execution_count": 2,
   "metadata": {},
   "outputs": [
    {
     "data": {
      "text/plain": [
       "26"
      ]
     },
     "execution_count": 2,
     "metadata": {},
     "output_type": "execute_result"
    }
   ],
   "source": [
    "my_list = [0,1,2,3,4,5,6,7,8,9,10,11,12,13,14,15,16,17,18,19,20,21,22,23,24,25]\n",
    "# my_list has a length of 26 individual values\n",
    "len(my_list)"
   ]
  },
  {
   "cell_type": "code",
   "execution_count": 3,
   "metadata": {},
   "outputs": [
    {
     "data": {
      "text/plain": [
       "26"
      ]
     },
     "execution_count": 3,
     "metadata": {},
     "output_type": "execute_result"
    }
   ],
   "source": [
    "my_string = \"Once more into the breach!\"\n",
    "# my_string has a length of 26 characters including whitespace and punctuation.\n",
    "len(my_string)"
   ]
  },
  {
   "cell_type": "markdown",
   "metadata": {},
   "source": [
    "### Slicing Lists\n",
    "\n",
    "One common use for lists is \"slicing\", where you can get a small subsection of the list.  Let's say you wanted just the first five elements in `my_list`.  You would use a slice.  Slices are generated similar to how an individual element is called from a list, from inside square brackets.  However, we can put a `:` between the starting and ending indices to get everything between.  We can also use an empty space to indicate \"everything\".  Check out the examples below."
   ]
  },
  {
   "cell_type": "code",
   "execution_count": 4,
   "metadata": {},
   "outputs": [
    {
     "data": {
      "text/plain": [
       "[0, 1, 2, 3, 4]"
      ]
     },
     "execution_count": 4,
     "metadata": {},
     "output_type": "execute_result"
    }
   ],
   "source": [
    "my_list[:5]"
   ]
  },
  {
   "cell_type": "code",
   "execution_count": 5,
   "metadata": {},
   "outputs": [
    {
     "data": {
      "text/plain": [
       "[5, 6, 7, 8, 9]"
      ]
     },
     "execution_count": 5,
     "metadata": {},
     "output_type": "execute_result"
    }
   ],
   "source": [
    "my_list[5:10]"
   ]
  },
  {
   "cell_type": "markdown",
   "metadata": {},
   "source": [
    "Note how the two results are different.  The ending in the first cell is the same as the beginning of the second cell, but we don't actually get \"5\" in the results in the first cell.  Slices go \"up to\" the ending value, but don't include it.  Keep this in mind when working with slices.  We can also combine other tricks from list manipulations, like using negative indices to go backwards from the end.\n",
    "\n",
    "In the next cell, we'll get the last seven elements from the list."
   ]
  },
  {
   "cell_type": "code",
   "execution_count": 6,
   "metadata": {},
   "outputs": [
    {
     "data": {
      "text/plain": [
       "[19, 20, 21, 22, 23, 24, 25]"
      ]
     },
     "execution_count": 6,
     "metadata": {},
     "output_type": "execute_result"
    }
   ],
   "source": [
    "my_list[-7:]"
   ]
  },
  {
   "cell_type": "markdown",
   "metadata": {},
   "source": [
    "What if we wanted every third element in the list?"
   ]
  },
  {
   "cell_type": "code",
   "execution_count": 7,
   "metadata": {},
   "outputs": [
    {
     "data": {
      "text/plain": [
       "[0, 3, 6, 9, 12, 15, 18, 21, 24]"
      ]
     },
     "execution_count": 7,
     "metadata": {},
     "output_type": "execute_result"
    }
   ],
   "source": [
    "my_list[::3]"
   ]
  },
  {
   "cell_type": "markdown",
   "metadata": {},
   "source": [
    "The second `:` indicates a \"stride\".  This is useful when you have data that is strangely shaped (such as a long list of values that correspond to x,y,z coordinates, but aren't in a (3,n) shaped list.\n",
    "\n",
    "Now let's combine these.  We'll get every other element starting from the tenth and going up to the twentieth."
   ]
  },
  {
   "cell_type": "code",
   "execution_count": 8,
   "metadata": {},
   "outputs": [
    {
     "data": {
      "text/plain": [
       "[10, 12, 14, 16, 18]"
      ]
     },
     "execution_count": 8,
     "metadata": {},
     "output_type": "execute_result"
    }
   ],
   "source": [
    "my_list[10:20:2]"
   ]
  },
  {
   "cell_type": "markdown",
   "metadata": {},
   "source": [
    "Now let's look at strings.  Strings are just lists of letters, numbers, and any other characters you can think of.  With this in mind, we can do things to strings that we have done to lists."
   ]
  },
  {
   "cell_type": "code",
   "execution_count": 9,
   "metadata": {},
   "outputs": [
    {
     "data": {
      "text/plain": [
       "'Once more into the breach!'"
      ]
     },
     "execution_count": 9,
     "metadata": {},
     "output_type": "execute_result"
    }
   ],
   "source": [
    "my_string"
   ]
  },
  {
   "cell_type": "code",
   "execution_count": 10,
   "metadata": {},
   "outputs": [
    {
     "data": {
      "text/plain": [
       "'Once '"
      ]
     },
     "execution_count": 10,
     "metadata": {},
     "output_type": "execute_result"
    }
   ],
   "source": [
    "my_string[:5]"
   ]
  },
  {
   "cell_type": "code",
   "execution_count": 11,
   "metadata": {},
   "outputs": [
    {
     "data": {
      "text/plain": [
       "'more '"
      ]
     },
     "execution_count": 11,
     "metadata": {},
     "output_type": "execute_result"
    }
   ],
   "source": [
    "my_string[5:10]"
   ]
  },
  {
   "cell_type": "code",
   "execution_count": 12,
   "metadata": {},
   "outputs": [
    {
     "data": {
      "text/plain": [
       "'breach!'"
      ]
     },
     "execution_count": 12,
     "metadata": {},
     "output_type": "execute_result"
    }
   ],
   "source": [
    "my_string[-7:]"
   ]
  },
  {
   "cell_type": "code",
   "execution_count": 13,
   "metadata": {},
   "outputs": [
    {
     "data": {
      "text/plain": [
       "'Oeo tt eh'"
      ]
     },
     "execution_count": 13,
     "metadata": {},
     "output_type": "execute_result"
    }
   ],
   "source": [
    "my_string[::3]"
   ]
  },
  {
   "cell_type": "code",
   "execution_count": 14,
   "metadata": {},
   "outputs": [
    {
     "data": {
      "text/plain": [
       "'it h '"
      ]
     },
     "execution_count": 14,
     "metadata": {},
     "output_type": "execute_result"
    }
   ],
   "source": [
    "my_string[10:20:2]"
   ]
  },
  {
   "cell_type": "markdown",
   "metadata": {},
   "source": [
    "... some functions are more useful than others, but you get the idea!\n",
    "\n",
    "Now let's look at integers and floats.  In some programming languages, the difference between these two can be pretty severe.  For example, in C++, dividing a double by an integer will give you a truncated integer, which means you can lose some of the information in your data if you're not careful.  Thankfully, Python is a little more forgiving.\n",
    "\n",
    "Normal division works like we might intuitively expect, where a float divided by an integer can be a float, and is therefore assumed to be."
   ]
  },
  {
   "cell_type": "code",
   "execution_count": 15,
   "metadata": {},
   "outputs": [
    {
     "data": {
      "text/plain": [
       "1.57075"
      ]
     },
     "execution_count": 15,
     "metadata": {},
     "output_type": "execute_result"
    }
   ],
   "source": [
    "my_float/my_int"
   ]
  },
  {
   "cell_type": "markdown",
   "metadata": {},
   "source": [
    "We can also force the division to return an integer value (which is useful in some situations)\n",
    "\n",
    "In the example above, we got a value of 1.57075.  If we were to round this using conventional methods, we'd get 2\n",
    "However, forcing integer division with the `//` below gives us a truncated (not rounded) value of 1.0.  This is also slightly deceptive, as the `.0` implies the value is a float,even though the result is a whole number.  This is important to be aware of when doing mathematical work in python.  Truncation just removes everything after the decimal point, while rounding actually considers the value beforehand.\n"
   ]
  },
  {
   "cell_type": "code",
   "execution_count": 16,
   "metadata": {},
   "outputs": [
    {
     "data": {
      "text/plain": [
       "1.0"
      ]
     },
     "execution_count": 16,
     "metadata": {},
     "output_type": "execute_result"
    }
   ],
   "source": [
    "my_float//my_int"
   ]
  },
  {
   "cell_type": "code",
   "execution_count": 17,
   "metadata": {},
   "outputs": [
    {
     "data": {
      "text/plain": [
       "2"
      ]
     },
     "execution_count": 17,
     "metadata": {},
     "output_type": "execute_result"
    }
   ],
   "source": [
    "round(my_float/my_int)"
   ]
  },
  {
   "cell_type": "markdown",
   "metadata": {},
   "source": [
    "### Math with Variables\n",
    "\n",
    "Math can get incredibly complex, so it's important to remember your Order of Operations (PEMDAS) - Parentheses, Exponents, Multiplication, Division, Addition, and Subtraction.\n",
    "\n",
    "However, in python it's a little different.  Parentheses are solved first, then exponents, until everything in a given equation is reduced down to a series of terms separated by `+`,`-`,`*`, and `/`.  Then, the values are processed left-to-right."
   ]
  },
  {
   "cell_type": "code",
   "execution_count": 18,
   "metadata": {},
   "outputs": [
    {
     "data": {
      "text/plain": [
       "0.6000000000000001"
      ]
     },
     "execution_count": 18,
     "metadata": {},
     "output_type": "execute_result"
    }
   ],
   "source": [
    "1 + 2 - 3 * 4 / 5"
   ]
  },
  {
   "cell_type": "code",
   "execution_count": 19,
   "metadata": {},
   "outputs": [
    {
     "data": {
      "text/plain": [
       "0.6000000000000001"
      ]
     },
     "execution_count": 19,
     "metadata": {},
     "output_type": "execute_result"
    }
   ],
   "source": [
    "(1 + 2) - 3 * 4 / 5"
   ]
  },
  {
   "cell_type": "code",
   "execution_count": 20,
   "metadata": {},
   "outputs": [
    {
     "data": {
      "text/plain": [
       "-1.8"
      ]
     },
     "execution_count": 20,
     "metadata": {},
     "output_type": "execute_result"
    }
   ],
   "source": [
    "(1 + 2 - 3 * 4) / 5"
   ]
  },
  {
   "cell_type": "code",
   "execution_count": 21,
   "metadata": {},
   "outputs": [
    {
     "data": {
      "text/plain": [
       "0.0"
      ]
     },
     "execution_count": 21,
     "metadata": {},
     "output_type": "execute_result"
    }
   ],
   "source": [
    "(1 + 2 - 3) * 4 / 5"
   ]
  },
  {
   "cell_type": "markdown",
   "metadata": {},
   "source": [
    "These are just a few examples of how order of operations affects the results.  With this in mind, you can see why it's very important to keep track of what you're doing in a complex mathematical function.  The next cell has a complex equation in a single line, then the same equation separated into more easily-managed terms."
   ]
  },
  {
   "cell_type": "code",
   "execution_count": 22,
   "metadata": {},
   "outputs": [
    {
     "name": "stdout",
     "output_type": "stream",
     "text": [
      "-0.07452211053138932\n"
     ]
    }
   ],
   "source": [
    "x=3\n",
    "y=5\n",
    "z=7\n",
    "answer =  (x**(y/z)-x/((y+2)*z)-x)/(y*z)*x\n",
    "\n",
    "print(answer)"
   ]
  },
  {
   "cell_type": "markdown",
   "metadata": {},
   "source": [
    "Not only is that difficult to read, but it's also harder to see where errors might be arising.  So we can rewrite it and create additional variables to hold small chunks"
   ]
  },
  {
   "cell_type": "code",
   "execution_count": 23,
   "metadata": {},
   "outputs": [
    {
     "name": "stdout",
     "output_type": "stream",
     "text": [
      "-0.07452211053138932\n"
     ]
    }
   ],
   "source": [
    "x=3\n",
    "y=5\n",
    "z=7\n",
    "\n",
    "# (x**(y/z)-x/((y+2)*z)-x)/(y*z)*x\n",
    "p = y/z\n",
    "# (x**p-x/((y+2)*z)-x)/(y*z)*x\n",
    "q = x**p\n",
    "# (q-x/((y+2)*z)-x)/(y*z)*x\n",
    "r = y+2\n",
    "# (q-x/(r*z)-x)/(y*z)*x\n",
    "s = r*z\n",
    "# (q-x/s-x)/(y*z)*x\n",
    "t = y*z\n",
    "# (q-x/s-x)/t*x\n",
    "u = x/s\n",
    "# (q-u-x)/t*x\n",
    "v = q-u-x\n",
    "# v/t*x\n",
    "w = v/t\n",
    "# w*x\n",
    "answer = w*x\n",
    "\n",
    "print(answer)"
   ]
  },
  {
   "cell_type": "markdown",
   "metadata": {},
   "source": [
    "This may seem overengineered, but breaking down the individual terms is helpful in both programming and math, especially when it reveals certain trends, or even ways to rearrange an equation to reduce the overall number of calculations being performed.  This kind of breakdown can also be useful when you begin building larger, more complicated functions, even up to the point of creating entire programs or modules.\n",
    "\n",
    "### Booleans\n",
    "\n",
    "Booleans are simply variables that are either `True` or `False`.  They can also be interpreted as `1` and `0`.  Booleans get used all the time in programming, though we may not be constantly aware of them.  \n",
    "\n",
    "For example, whenever we compare two numbers, the comparison creates a boolean\n"
   ]
  },
  {
   "cell_type": "code",
   "execution_count": 24,
   "metadata": {},
   "outputs": [
    {
     "data": {
      "text/plain": [
       "True"
      ]
     },
     "execution_count": 24,
     "metadata": {},
     "output_type": "execute_result"
    }
   ],
   "source": [
    "3<5"
   ]
  },
  {
   "cell_type": "code",
   "execution_count": 25,
   "metadata": {},
   "outputs": [
    {
     "data": {
      "text/plain": [
       "False"
      ]
     },
     "execution_count": 25,
     "metadata": {},
     "output_type": "execute_result"
    }
   ],
   "source": [
    "3>5"
   ]
  },
  {
   "cell_type": "code",
   "execution_count": 26,
   "metadata": {},
   "outputs": [
    {
     "data": {
      "text/plain": [
       "False"
      ]
     },
     "execution_count": 26,
     "metadata": {},
     "output_type": "execute_result"
    }
   ],
   "source": [
    "3 == 5"
   ]
  },
  {
   "cell_type": "markdown",
   "metadata": {},
   "source": [
    "We can see that the responses for the different comparisons are correct.  $3 < 5$ is true, while $3 > 5$ and $3 == 5$ are both false.  Incidentally, the `==` is intentional.  In Python and C++, `=` *assigns* a value, while `==` *compares* two values.\n",
    "\n",
    "Booleans get used constantly in things like \"if-else statements\" or \"while loops\".\n",
    "\n",
    "### Dictionaries\n",
    "\n",
    "Another python data type is the `dictionary` (or `dict` as it's written in python).  The dictionary is a very useful datatype, as it can be used to store many different pieces of information in their own types."
   ]
  },
  {
   "cell_type": "code",
   "execution_count": 27,
   "metadata": {},
   "outputs": [
    {
     "name": "stdout",
     "output_type": "stream",
     "text": [
      "['Name', 'Age', 'Job']\n",
      "Name = Mark\n",
      "Age = 37\n",
      "Job = Postdoc\n"
     ]
    }
   ],
   "source": [
    "# A dictionary is denoted by { } \n",
    "my_dictionary = {}\n",
    "\n",
    "# At this point, \"my_dictionary\" is an empty dictionary with no keys or values assigned.\n",
    "# We can assign a key/value pair like this\n",
    "\n",
    "my_dictionary[\"Name\"] = \"Mark\"\n",
    "my_dictionary[\"Age\"]  = 37\n",
    "my_dictionary[\"Job\"] = \"Postdoc\"\n",
    "\n",
    "# Now we can recall any of the values held in the dictionary by using the [key]. Keep in mind, if a key already exists, the previous value will be overwritten.\n",
    "\n",
    "# If you have a dictionary with keys that you don't know, you can get them like this:\n",
    "key_list = [key for key in my_dictionary.keys()]\n",
    "print(key_list)\n",
    "# This might look strange, but it's done this way because my_dictionary.keys() is a function call that returns an iterative set of single values, rather than the entire list.\n",
    "\n",
    "# You can also iterate through all the keys and values together.\n",
    "for key,value in my_dictionary.items():\n",
    "    print(key,\"=\",value)\n",
    "\n"
   ]
  },
  {
   "cell_type": "code",
   "execution_count": 28,
   "metadata": {},
   "outputs": [
    {
     "name": "stdout",
     "output_type": "stream",
     "text": [
      "A3H_K121E.prmtop\n",
      "{'prmtop': 'WT.prmtop', 'trajectory': 'WT_100ns.dcd', 'num_residues': 180, 'duration': 100}\n",
      "WT.prmtop\n"
     ]
    }
   ],
   "source": [
    "# In a more relevant example to the lab (and demonstration of dictionary initialization with keys and values):\n",
    "\n",
    "variant_prmtops = {\"WT\":\"A3H_WT.prmtop\",\n",
    "                   \"K121E\":\"A3H_K121E.prmtop\",\n",
    "                   \"K117E\":\"A3H_K117E.prmtop\",\n",
    "                   \"R124D\":\"A3H_R124D.prmtop\"}\n",
    "\n",
    "# Now I have a list of filenames stored, and I can recall them anytime with this\n",
    "print(variant_prmtops[\"K121E\"])\n",
    "\n",
    "# We can also have dictionaries inside dictionaries, which can be useful for bigger datasets.\n",
    "\n",
    "full_systems = {\n",
    "\"WT\" : {\"prmtop\":\"WT.prmtop\",\"trajectory\":\"WT_100ns.dcd\",\"num_residues\":180,\"duration\":100},\n",
    "\"K121E\" : {\"prmtop\":\"K121E.prmtop\",\"trajectory\":\"K121E_150ns.dcd\",\"num_residues\":180,\"duration\":150},\n",
    "\"K117E\" : {\"prmtop\":\"K117E.prmtop\",\"trajectory\":\"K117E_200ns.dcd\",\"num_residues\":180,\"duration\":200} \n",
    "}\n",
    "\n",
    "print(full_systems[\"WT\"]) ## This prints the entire dictionary\n",
    "\n",
    "print(full_systems[\"WT\"][\"prmtop\"])\n",
    "\n",
    "# You can also store larger datasets inside dictionaries this way.  For example, let's say you have a dataset for the RMSD of an MD trajectory called \"rmsd\", and one for correlated motion called \"correl\"\n",
    "import numpy as np\n",
    "rmsd = np.random.rand(100)\n",
    "correl = np.random.rand(50,50)\n",
    "\n",
    "WT_analyses = {\"RMSD\":rmsd,\"correl\":correl}"
   ]
  },
  {
   "cell_type": "code",
   "execution_count": 29,
   "metadata": {},
   "outputs": [
    {
     "data": {
      "text/plain": [
       "array([[0.07872392, 0.42709779, 0.73786009, ..., 0.14944642, 0.19055872,\n",
       "        0.45752917],\n",
       "       [0.14328318, 0.1483461 , 0.63825779, ..., 0.92527165, 0.9000854 ,\n",
       "        0.16021734],\n",
       "       [0.50201692, 0.75404792, 0.46468422, ..., 0.44324784, 0.74848111,\n",
       "        0.94918908],\n",
       "       ...,\n",
       "       [0.64425718, 0.47652132, 0.69848477, ..., 0.19183174, 0.42951161,\n",
       "        0.73094065],\n",
       "       [0.2925301 , 0.79944765, 0.88059451, ..., 0.65282398, 0.82365397,\n",
       "        0.56632012],\n",
       "       [0.68523568, 0.71003483, 0.5788092 , ..., 0.22053449, 0.22295812,\n",
       "        0.29099571]])"
      ]
     },
     "execution_count": 29,
     "metadata": {},
     "output_type": "execute_result"
    }
   ],
   "source": [
    "WT_analyses[\"correl\"]"
   ]
  },
  {
   "cell_type": "code",
   "execution_count": 30,
   "metadata": {},
   "outputs": [
    {
     "data": {
      "text/plain": [
       "array([0.77547714, 0.86825809, 0.73361393, 0.53601816, 0.82347301,\n",
       "       0.77017413, 0.96120335, 0.41538613, 0.59034859, 0.04939984,\n",
       "       0.11903879, 0.20902424, 0.76954975, 0.20189964, 0.31954835,\n",
       "       0.51617544, 0.71262053, 0.44747436, 0.17991915, 0.95935479,\n",
       "       0.02334348, 0.37246611, 0.37715923, 0.31250376, 0.83167922,\n",
       "       0.7179388 , 0.26188751, 0.10515804, 0.62818762, 0.82602609,\n",
       "       0.98213736, 0.22903547, 0.72848045, 0.45872938, 0.26119027,\n",
       "       0.05973667, 0.65432271, 0.86798405, 0.66082425, 0.0277142 ,\n",
       "       0.45905896, 0.74384669, 0.29576668, 0.89319424, 0.14992499,\n",
       "       0.1549802 , 0.89640709, 0.49811178, 0.07505158, 0.85436875,\n",
       "       0.21030718, 0.13886558, 0.0993692 , 0.04939456, 0.71672669,\n",
       "       0.00323682, 0.60787663, 0.43602982, 0.31186697, 0.02260092,\n",
       "       0.41310232, 0.56875889, 0.27089672, 0.24635137, 0.25593297,\n",
       "       0.65855327, 0.7809256 , 0.37840985, 0.18978786, 0.50569471,\n",
       "       0.36361048, 0.32712705, 0.5499439 , 0.71682757, 0.01187723,\n",
       "       0.74752752, 0.36253046, 0.4534361 , 0.75456511, 0.1084834 ,\n",
       "       0.80284826, 0.66146861, 0.70693715, 0.61945641, 0.04079063,\n",
       "       0.93344407, 0.71655886, 0.34367994, 0.41819506, 0.66072591,\n",
       "       0.32044302, 0.3986235 , 0.87465149, 0.94527801, 0.72854001,\n",
       "       0.16153919, 0.59174719, 0.56051911, 0.26658   , 0.14256879])"
      ]
     },
     "execution_count": 30,
     "metadata": {},
     "output_type": "execute_result"
    }
   ],
   "source": [
    "WT_analyses[\"RMSD\"]"
   ]
  }
 ],
 "metadata": {
  "interpreter": {
   "hash": "c7f5e592c43e0bb3865fa17512643febd83867b1832dfdc95e4b02df1a0eafd5"
  },
  "kernelspec": {
   "display_name": "Python 3 (ipykernel)",
   "language": "python",
   "name": "python3"
  },
  "language_info": {
   "codemirror_mode": {
    "name": "ipython",
    "version": 3
   },
   "file_extension": ".py",
   "mimetype": "text/x-python",
   "name": "python",
   "nbconvert_exporter": "python",
   "pygments_lexer": "ipython3",
   "version": "3.9.7"
  }
 },
 "nbformat": 4,
 "nbformat_minor": 2
}
