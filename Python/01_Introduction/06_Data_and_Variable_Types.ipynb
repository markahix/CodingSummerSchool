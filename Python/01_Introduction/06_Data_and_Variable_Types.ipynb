{
 "cells": [
  {
   "cell_type": "markdown",
   "metadata": {},
   "source": [
    "## Variable Types\n",
    "\n",
    "Python doesn't generally require *explicit* variable type declarations (with some exceptions that will come later as we get into more advanced programming).  However, it is still useful to know what kinds of data there is, what can be done with it, and how it's stored.\n",
    "\n",
    "First, let's explore data types like `int`, `float`, `list`, `tuple`, and `string`.\n"
   ]
  },
  {
   "cell_type": "code",
   "execution_count": null,
   "metadata": {},
   "outputs": [],
   "source": [
    "my_int    = 2\n",
    "my_float  = 3.1415\n",
    "my_list   = [1,3.1415,\"Hello World!\",\"pizza\"]\n",
    "my_tuple  = (5,6,7,8,9)\n",
    "my_string = \"Hello World!\""
   ]
  },
  {
   "cell_type": "markdown",
   "metadata": {},
   "source": [
    "These examples are fairly simple.  \n",
    "\n",
    "- `my_int` is an integer, and gets treated like one.  Integers are useful for things like indexes, counters, and so forth.\n",
    "- `my_float` is a float (often called a \"double\" in other programming languages), and are regular numbers including decimals.\n",
    "- `my_list` is a list of values enclosed in square brackets.  Lists are indexed from zero, which means the first item in a list is \"item 0\".  Lists are great ways to keep collections of data organized and in order, and you can extract individual values simply by including the index with the variable name:  `my_list[3]` will return \"pizza\".  You can also get values from the end of a list with negative indices.  my_list`[-1]` will return \"pizza\" because it's the last value.\n",
    "- `my_tuple` is similar to a list, except that it is a little more difficult to pull individual values from it.  Tuples are useful when you need to maintain groups of values together in relation to each other, such as with (x,y,z) coordinates.\n",
    "- `my_string` is a list of characters including letters, numbers, punctuation, whitespace (tabs, spaces, line breaks, etc.).  The contents of a string do not include the quotation marks on either side.  Strings can include quotes using *escapes* like `\\\"` or `\\\\` to include a backslash.\n",
    "\n",
    "Variable manipulation comes in many forms and depends on the type of data contained within.  Better understanding of how data types work can allow you to do some interesting things, like taking a \"slice\" of a string like you would from a list.  \n",
    "\n",
    "Consider the examples below."
   ]
  },
  {
   "cell_type": "code",
   "execution_count": null,
   "metadata": {},
   "outputs": [],
   "source": [
    "my_list = [0,1,2,3,4,5,6,7,8,9,10,11,12,13,14,15,16,17,18,19,20,21,22,23,24,25]\n",
    "# my_list has a length of 26 individual values\n",
    "len(my_list)"
   ]
  },
  {
   "cell_type": "code",
   "execution_count": null,
   "metadata": {},
   "outputs": [],
   "source": [
    "my_string = \"Once more into the breach!\"\n",
    "# my_string has a length of 26 characters including whitespace and punctuation.\n",
    "len(my_string)"
   ]
  },
  {
   "cell_type": "markdown",
   "metadata": {},
   "source": [
    "### Slicing Lists\n",
    "\n",
    "One common use for lists is \"slicing\", where you can get a small subsection of the list.  Let's say you wanted just the first five elements in `my_list`.  You would use a slice.  Slices are generated similar to how an individual element is called from a list, from inside square brackets.  However, we can put a `:` between the starting and ending indices to get everything between.  We can also use an empty space to indicate \"everything\".  Check out the examples below."
   ]
  },
  {
   "cell_type": "code",
   "execution_count": null,
   "metadata": {},
   "outputs": [],
   "source": [
    "my_list[:5]"
   ]
  },
  {
   "cell_type": "code",
   "execution_count": null,
   "metadata": {},
   "outputs": [],
   "source": [
    "my_list[5:10]"
   ]
  },
  {
   "cell_type": "markdown",
   "metadata": {},
   "source": [
    "Note how the two results are different.  The ending in the first cell is the same as the beginning of the second cell, but we don't actually get \"5\" in the results in the first cell.  Slices go \"up to\" the ending value, but don't include it.  Keep this in mind when working with slices.  We can also combine other tricks from list manipulations, like using negative indices to go backwards from the end.\n",
    "\n",
    "In the next cell, we'll get the last seven elements from the list."
   ]
  },
  {
   "cell_type": "code",
   "execution_count": null,
   "metadata": {},
   "outputs": [],
   "source": [
    "my_list[-7:]"
   ]
  },
  {
   "cell_type": "markdown",
   "metadata": {},
   "source": [
    "What if we wanted every third element in the list?"
   ]
  },
  {
   "cell_type": "code",
   "execution_count": null,
   "metadata": {},
   "outputs": [],
   "source": [
    "my_list[::3]"
   ]
  },
  {
   "cell_type": "markdown",
   "metadata": {},
   "source": [
    "The second `:` indicates a \"stride\".  This is useful when you have data that is strangely shaped (such as a long list of values that correspond to x,y,z coordinates, but aren't in a (3,n) shaped list.\n",
    "\n",
    "Now let's combine these.  We'll get every other element starting from the tenth and going up to the twentieth."
   ]
  },
  {
   "cell_type": "code",
   "execution_count": null,
   "metadata": {},
   "outputs": [],
   "source": [
    "my_list[10:20:2]"
   ]
  },
  {
   "cell_type": "markdown",
   "metadata": {},
   "source": [
    "Now let's look at strings.  Strings are just lists of letters, numbers, and any other characters you can think of.  With this in mind, we can do things to strings that we have done to lists."
   ]
  },
  {
   "cell_type": "code",
   "execution_count": null,
   "metadata": {},
   "outputs": [],
   "source": [
    "my_string"
   ]
  },
  {
   "cell_type": "code",
   "execution_count": null,
   "metadata": {},
   "outputs": [],
   "source": [
    "my_string[:5]"
   ]
  },
  {
   "cell_type": "code",
   "execution_count": null,
   "metadata": {},
   "outputs": [],
   "source": [
    "my_string[5:10]"
   ]
  },
  {
   "cell_type": "code",
   "execution_count": null,
   "metadata": {},
   "outputs": [],
   "source": [
    "my_string[-7:]"
   ]
  },
  {
   "cell_type": "code",
   "execution_count": null,
   "metadata": {},
   "outputs": [],
   "source": [
    "my_string[::3]"
   ]
  },
  {
   "cell_type": "code",
   "execution_count": null,
   "metadata": {},
   "outputs": [],
   "source": [
    "my_string[10:20:2]"
   ]
  },
  {
   "cell_type": "markdown",
   "metadata": {},
   "source": [
    "... some functions are more useful than others, but you get the idea!\n",
    "\n",
    "Now let's look at integers and floats.  In some programming languages, the difference between these two can be pretty severe.  For example, in C++, dividing a double by an integer will give you a truncated integer, which means you can lose some of the information in your data if you're not careful.  Thankfully, Python is a little more forgiving.\n",
    "\n",
    "Normal division works like we might intuitively expect, where a float divided by an integer can be a float, and is therefore assumed to be."
   ]
  },
  {
   "cell_type": "code",
   "execution_count": null,
   "metadata": {},
   "outputs": [],
   "source": [
    "my_float/my_int"
   ]
  },
  {
   "cell_type": "markdown",
   "metadata": {},
   "source": [
    "We can also force the division to return an integer value (which is useful in some situations)\n",
    "\n",
    "In the example above, we got a value of 1.57075.  If we were to round this using conventional methods, we'd get 2\n",
    "However, forcing integer division with the `//` below gives us a truncated (not rounded) value of 1.0.  This is also slightly deceptive, as the `.0` implies the value is a float,even though the result is a whole number.  This is important to be aware of when doing mathematical work in python.  Truncation just removes everything after the decimal point, while rounding actually considers the value beforehand.\n"
   ]
  },
  {
   "cell_type": "code",
   "execution_count": null,
   "metadata": {},
   "outputs": [],
   "source": [
    "my_float//my_int"
   ]
  },
  {
   "cell_type": "code",
   "execution_count": null,
   "metadata": {},
   "outputs": [],
   "source": [
    "round(my_float/my_int)"
   ]
  },
  {
   "cell_type": "markdown",
   "metadata": {},
   "source": [
    "### Math with Variables\n",
    "\n",
    "Math can get incredibly complex, so it's important to remember your Order of Operations (PEMDAS) - Parentheses, Exponents, Multiplication, Division, Addition, and Subtraction.\n",
    "\n",
    "However, in python it's a little different.  Parentheses are solved first, then exponents, until everything in a given equation is reduced down to a series of terms separated by `+`,`-`,`*`, and `/`.  Then, the values are processed left-to-right."
   ]
  },
  {
   "cell_type": "code",
   "execution_count": null,
   "metadata": {},
   "outputs": [],
   "source": [
    "1 + 2 - 3 * 4 / 5"
   ]
  },
  {
   "cell_type": "code",
   "execution_count": null,
   "metadata": {},
   "outputs": [],
   "source": [
    "(1 + 2) - 3 * 4 / 5"
   ]
  },
  {
   "cell_type": "code",
   "execution_count": null,
   "metadata": {},
   "outputs": [],
   "source": [
    "(1 + 2 - 3 * 4) / 5"
   ]
  },
  {
   "cell_type": "code",
   "execution_count": null,
   "metadata": {},
   "outputs": [],
   "source": [
    "(1 + 2 - 3) * 4 / 5"
   ]
  },
  {
   "cell_type": "markdown",
   "metadata": {},
   "source": [
    "These are just a few examples of how order of operations affects the results.  With this in mind, you can see why it's very important to keep track of what you're doing in a complex mathematical function.  The next cell has a complex equation in a single line, then the same equation separated into more easily-managed terms."
   ]
  },
  {
   "cell_type": "code",
   "execution_count": null,
   "metadata": {},
   "outputs": [],
   "source": [
    "x=3\n",
    "y=5\n",
    "z=7\n",
    "answer =  (x**(y/z)-x/((y+2)*z)-x)/(y*z)*x\n",
    "\n",
    "print(answer)"
   ]
  },
  {
   "cell_type": "markdown",
   "metadata": {},
   "source": [
    "Not only is that difficult to read, but it's also harder to see where errors might be arising.  So we can rewrite it and create additional variables to hold small chunks"
   ]
  },
  {
   "cell_type": "code",
   "execution_count": null,
   "metadata": {},
   "outputs": [],
   "source": [
    "x=3\n",
    "y=5\n",
    "z=7\n",
    "\n",
    "# (x**(y/z)-x/((y+2)*z)-x)/(y*z)*x\n",
    "p = y/z\n",
    "# (x**p-x/((y+2)*z)-x)/(y*z)*x\n",
    "q = x**p\n",
    "# (q-x/((y+2)*z)-x)/(y*z)*x\n",
    "r = y+2\n",
    "# (q-x/(r*z)-x)/(y*z)*x\n",
    "s = r*z\n",
    "# (q-x/s-x)/(y*z)*x\n",
    "t = y*z\n",
    "# (q-x/s-x)/t*x\n",
    "u = x/s\n",
    "# (q-u-x)/t*x\n",
    "v = q-u-x\n",
    "# v/t*x\n",
    "w = v/t\n",
    "# w*x\n",
    "answer = w*x\n",
    "\n",
    "print(answer)"
   ]
  },
  {
   "cell_type": "markdown",
   "metadata": {},
   "source": [
    "This may seem overengineered, but breaking down the individual terms is helpful in both programming and math, especially when it reveals certain trends, or even ways to rearrange an equation to reduce the overall number of calculations being performed.  This kind of breakdown can also be useful when you begin building larger, more complicated functions, even up to the point of creating entire programs or modules.\n",
    "\n",
    "### Booleans\n",
    "\n",
    "Booleans are simply variables that are either `True` or `False`.  They can also be interpreted as `1` and `0`.  Booleans get used all the time in programming, though we may not be constantly aware of them.  \n",
    "\n",
    "For example, whenever we compare two numbers, the comparison creates a boolean\n"
   ]
  },
  {
   "cell_type": "code",
   "execution_count": 1,
   "metadata": {},
   "outputs": [
    {
     "data": {
      "text/plain": [
       "True"
      ]
     },
     "execution_count": 1,
     "metadata": {},
     "output_type": "execute_result"
    }
   ],
   "source": [
    "3<5"
   ]
  },
  {
   "cell_type": "code",
   "execution_count": 3,
   "metadata": {},
   "outputs": [
    {
     "data": {
      "text/plain": [
       "False"
      ]
     },
     "execution_count": 3,
     "metadata": {},
     "output_type": "execute_result"
    }
   ],
   "source": [
    "3>5"
   ]
  },
  {
   "cell_type": "code",
   "execution_count": 4,
   "metadata": {},
   "outputs": [
    {
     "data": {
      "text/plain": [
       "False"
      ]
     },
     "execution_count": 4,
     "metadata": {},
     "output_type": "execute_result"
    }
   ],
   "source": [
    "3 == 5"
   ]
  },
  {
   "cell_type": "markdown",
   "metadata": {},
   "source": [
    "We can see that the responses for the different comparisons are correct.  $3 < 5$ is true, while $3 > 5$ and $3 == 5$ are both false.  Incidentally, the `==` is intentional.  In Python and C++, `=` *assigns* a value, while `==` *compares* two values.\n",
    "\n",
    "Booleans get used constantly in things like \"if-else statements\" or \"while loops\".\n",
    "\n",
    "### Dictionaries\n",
    "\n",
    "Another python data type is the `dictionary` (or `dict` as it's written in python).  The dictionary is a very useful datatype, as it can be used to store many different pieces of information in their own types."
   ]
  },
  {
   "cell_type": "code",
   "execution_count": 2,
   "metadata": {},
   "outputs": [
    {
     "name": "stdout",
     "output_type": "stream",
     "text": [
      "['Name', 'Age', 'Job']\n",
      "Name = Mark\n",
      "Age = 37\n",
      "Job = Postdoc\n"
     ]
    }
   ],
   "source": [
    "# A dictionary is denoted by { } \n",
    "my_dictionary = {}\n",
    "\n",
    "# At this point, \"my_dictionary\" is an empty dictionary with no keys or values assigned.\n",
    "# We can assign a key/value pair like this\n",
    "\n",
    "my_dictionary[\"Name\"] = \"Mark\"\n",
    "my_dictionary[\"Age\"]  = 37\n",
    "my_dictionary[\"Job\"] = \"Postdoc\"\n",
    "\n",
    "# Now we can recall any of the values held in the dictionary by using the [key]. Keep in mind, if a key already exists, the previous value will be overwritten.\n",
    "\n",
    "# If you have a dictionary with keys that you don't know, you can get them like this:\n",
    "key_list = [key for key in my_dictionary.keys()]\n",
    "print(key_list)\n",
    "# This might look strange, but it's done this way because my_dictionary.keys() is a function call that returns an iterative set of single values, rather than the entire list.\n",
    "\n",
    "# You can also iterate through all the keys and values together.\n",
    "for key,value in my_dictionary.items():\n",
    "    print(key,\"=\",value)\n",
    "\n"
   ]
  },
  {
   "cell_type": "code",
   "execution_count": 12,
   "metadata": {},
   "outputs": [
    {
     "name": "stdout",
     "output_type": "stream",
     "text": [
      "A3H_K121E.prmtop\n",
      "{'prmtop': 'WT.prmtop', 'trajectory': 'WT_100ns.dcd', 'num_residues': 180, 'duration': 100}\n",
      "WT.prmtop\n"
     ]
    }
   ],
   "source": [
    "# In a more relevant example to the lab (and demonstration of dictionary initialization with keys and values):\n",
    "\n",
    "variant_prmtops = {\"WT\":\"A3H_WT.prmtop\",\n",
    "                   \"K121E\":\"A3H_K121E.prmtop\",\n",
    "                   \"K117E\":\"A3H_K117E.prmtop\",\n",
    "                   \"R124D\":\"A3H_R124D.prmtop\"}\n",
    "\n",
    "# Now I have a list of filenames stored, and I can recall them anytime with this\n",
    "print(variant_prmtops[\"K121E\"])\n",
    "\n",
    "# We can also have dictionaries inside dictionaries, which can be useful for bigger datasets.\n",
    "\n",
    "full_systems = {\n",
    "\"WT\" : {\"prmtop\":\"WT.prmtop\",\"trajectory\":\"WT_100ns.dcd\",\"num_residues\":180,\"duration\":100},\n",
    "\"K121E\" : {\"prmtop\":\"K121E.prmtop\",\"trajectory\":\"K121E_150ns.dcd\",\"num_residues\":180,\"duration\":150},\n",
    "\"K117E\" : {\"prmtop\":\"K117E.prmtop\",\"trajectory\":\"K117E_200ns.dcd\",\"num_residues\":180,\"duration\":200} \n",
    "}\n",
    "\n",
    "print(full_systems[\"WT\"]) ## This prints the entire dictionary\n",
    "\n",
    "print(full_systems[\"WT\"][\"prmtop\"])\n",
    "\n",
    "# You can also store larger datasets inside dictionaries this way.  For example, let's say you have a dataset for the RMSD of an MD trajectory called \"rmsd\", and one for correlated motion called \"correl\"\n",
    "import numpy as np\n",
    "rmsd = np.random.rand(100)\n",
    "correl = np.random.rand(50,50)\n",
    "\n",
    "WT_analyses = {\"RMSD\":rmsd,\"correl\":correl}"
   ]
  },
  {
   "cell_type": "code",
   "execution_count": 13,
   "metadata": {},
   "outputs": [
    {
     "data": {
      "text/plain": [
       "array([[0.73605305, 0.83598442, 0.71570452, ..., 0.3171875 , 0.23520608,\n",
       "        0.81539024],\n",
       "       [0.23137924, 0.34448314, 0.55976433, ..., 0.98656348, 0.50170287,\n",
       "        0.81814234],\n",
       "       [0.77974392, 0.99301726, 0.67001237, ..., 0.19997487, 0.95236781,\n",
       "        0.19561078],\n",
       "       ...,\n",
       "       [0.077598  , 0.82010693, 0.11895961, ..., 0.37007584, 0.96924269,\n",
       "        0.10288062],\n",
       "       [0.37170359, 0.86672473, 0.92999848, ..., 0.23037564, 0.00270931,\n",
       "        0.996168  ],\n",
       "       [0.49717833, 0.58887648, 0.81491634, ..., 0.55857894, 0.83691413,\n",
       "        0.27322632]])"
      ]
     },
     "execution_count": 13,
     "metadata": {},
     "output_type": "execute_result"
    }
   ],
   "source": [
    "WT_analyses[\"correl\"]"
   ]
  },
  {
   "cell_type": "code",
   "execution_count": 14,
   "metadata": {},
   "outputs": [
    {
     "data": {
      "text/plain": [
       "array([0.22101948, 0.7121048 , 0.45931714, 0.64889073, 0.34687359,\n",
       "       0.10350116, 0.02655353, 0.08336816, 0.87864535, 0.95204309,\n",
       "       0.64662435, 0.13220801, 0.96315642, 0.01367289, 0.01204332,\n",
       "       0.46710067, 0.41590448, 0.96186539, 0.96150274, 0.32284111,\n",
       "       0.50774768, 0.7084362 , 0.59167722, 0.14122492, 0.25402775,\n",
       "       0.78582176, 0.6247598 , 0.7950481 , 0.52878754, 0.18770375,\n",
       "       0.60145874, 0.85452103, 0.01594719, 0.57356258, 0.16672294,\n",
       "       0.50915781, 0.38028769, 0.3404673 , 0.33082846, 0.62941975,\n",
       "       0.00544898, 0.86960049, 0.1727984 , 0.14633374, 0.34715725,\n",
       "       0.25982982, 0.45809769, 0.56074929, 0.43494216, 0.27285824,\n",
       "       0.6851663 , 0.32973507, 0.58938936, 0.97437296, 0.45746796,\n",
       "       0.67225843, 0.71137066, 0.20209049, 0.64923743, 0.5421072 ,\n",
       "       0.94287357, 0.03760845, 0.7620343 , 0.50766966, 0.72939888,\n",
       "       0.0194925 , 0.16302266, 0.0315469 , 0.66533926, 0.49689533,\n",
       "       0.29022452, 0.92761978, 0.47507251, 0.30826174, 0.04465842,\n",
       "       0.9306248 , 0.53074304, 0.33968948, 0.5521933 , 0.29596652,\n",
       "       0.61682813, 0.96636283, 0.90794168, 0.71173574, 0.61637607,\n",
       "       0.66003197, 0.32471666, 0.3461072 , 0.90869287, 0.26517631,\n",
       "       0.08678263, 0.67355369, 0.19852804, 0.55140452, 0.87846643,\n",
       "       0.55890932, 0.88266778, 0.66516113, 0.74005461, 0.27028166])"
      ]
     },
     "execution_count": 14,
     "metadata": {},
     "output_type": "execute_result"
    }
   ],
   "source": [
    "WT_analyses[\"RMSD\"]"
   ]
  },
  {
   "cell_type": "code",
   "execution_count": null,
   "metadata": {},
   "outputs": [],
   "source": []
  }
 ],
 "metadata": {
  "interpreter": {
   "hash": "c7f5e592c43e0bb3865fa17512643febd83867b1832dfdc95e4b02df1a0eafd5"
  },
  "kernelspec": {
   "display_name": "Python 3 (ipykernel)",
   "language": "python",
   "name": "python3"
  },
  "language_info": {
   "codemirror_mode": {
    "name": "ipython",
    "version": 3
   },
   "file_extension": ".py",
   "mimetype": "text/x-python",
   "name": "python",
   "nbconvert_exporter": "python",
   "pygments_lexer": "ipython3",
   "version": "3.9.7"
  }
 },
 "nbformat": 4,
 "nbformat_minor": 2
}
