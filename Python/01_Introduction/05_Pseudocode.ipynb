{
 "cells": [
  {
   "cell_type": "markdown",
   "metadata": {},
   "source": [
    "## Pseudocode\n",
    "\n",
    "One of the most valuable skills a programmer can develop is the ability to think like a computer.  This means learning to break down larger problems and complex behaviors into smaller and smaller pieces until it becomes a collection of tiny calculations such as a sequence of additions and subtractions, or comparisons between two values.\n",
    "\n",
    "A good habit to develop whenever beginning a new project is to first outline the expected flow of the code.  Some people use a whiteboard, or scratch paper, or just a blank text document on their computer - it doesn't matter how you do it, just that you plan it out somehow before jumping into the code.\n",
    "\n",
    "#### Example Project - Brownian Motion\n",
    "\n",
    "Write a program that places an arbitrary number of particles in a box of some other arbitrary size, then moves them around randomly by assigning a random x, y, and z component of their motion vector between 0 and 1.\n",
    "\n",
    "Enter your pseudocode below.  You can make it as complex as you like, but it should just be plain text.  Try to think through the steps of the problem like a computer might.\n",
    "\n",
    "---"
   ]
  },
  {
   "cell_type": "markdown",
   "metadata": {},
   "source": [
    "<!--- Pseudocode goes below\n",
    "\n"
   ]
  },
  {
   "cell_type": "markdown",
   "metadata": {},
   "source": [
    "---\n",
    "\n",
    "Once you've completed your pseudocode, keep it handy - you can use it for tomorrow's project!"
   ]
  }
 ],
 "metadata": {
  "interpreter": {
   "hash": "c7f5e592c43e0bb3865fa17512643febd83867b1832dfdc95e4b02df1a0eafd5"
  },
  "kernelspec": {
   "display_name": "Python 3 (ipykernel)",
   "language": "python",
   "name": "python3"
  },
  "language_info": {
   "codemirror_mode": {
    "name": "ipython",
    "version": 3
   },
   "file_extension": ".py",
   "mimetype": "text/x-python",
   "name": "python",
   "nbconvert_exporter": "python",
   "pygments_lexer": "ipython3",
   "version": "3.9.7"
  }
 },
 "nbformat": 4,
 "nbformat_minor": 2
}
