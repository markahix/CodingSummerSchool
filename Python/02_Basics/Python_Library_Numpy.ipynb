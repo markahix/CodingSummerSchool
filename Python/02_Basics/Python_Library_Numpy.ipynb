{
 "cells": [
  {
   "cell_type": "markdown",
   "metadata": {},
   "source": [
    "# The Numpy Library\n",
    "\n",
    "One of the most popular python libraries is `numpy`, which can be found in hundreds of other libraries.  NumPy takes advantage of the speed of C++ and FORTRAN code while being usable inside python, making it extremely powerful.  As their own website states, \"A solution in NumPy is often clear and elegant\".\n",
    "\n",
    "We'll cover some of the basic or common functions below to get started, but keep in mind that there is quite a bit more that numpy can do to make your python-coding life easier.  NumPy has no dependencies outside of python itself.  It also comes standard with most python installations (like Anaconda).  Loading numpy is therefore simple.  The convention is to use the code below."
   ]
  },
  {
   "cell_type": "code",
   "execution_count": 3,
   "metadata": {},
   "outputs": [],
   "source": [
    "import numpy as np"
   ]
  },
  {
   "cell_type": "markdown",
   "metadata": {},
   "source": [
    "NumPy is most often associated with the \"numpy array\", which is effectively a list of elements.  However, the `numpy` library takes the array to a higher level and has a lot more included functionality.  Let's look at how a basic array can be made with `numpy`."
   ]
  },
  {
   "cell_type": "code",
   "execution_count": 8,
   "metadata": {},
   "outputs": [
    {
     "name": "stdout",
     "output_type": "stream",
     "text": [
      "[ 0  1  2  3  4  5  6  7  8  9 10 11 12 13 14 15 16 17 18 19 20 21 22 23\n",
      " 24 25 26 27 28 29 30 31 32 33 34 35 36 37 38 39 40 41 42 43 44 45 46 47\n",
      " 48 49 50 51 52 53 54 55 56 57 58 59 60 61 62 63 64 65 66 67 68 69 70 71\n",
      " 72 73 74 75 76 77 78 79 80 81 82 83 84 85 86 87 88 89 90 91 92 93 94 95\n",
      " 96 97 98 99]\n"
     ]
    }
   ],
   "source": [
    "my_array = np.arange(0,100)\n",
    "print(my_array)"
   ]
  },
  {
   "cell_type": "markdown",
   "metadata": {},
   "source": [
    "We can see the use of `np.arange` above.  It has two required arguments for the start and ending values.  Note that in the code above, the end value is 100, but the actual list stops at 99.  This means if you actually want 0 to 100, you should set an end value of 101.\n",
    "\n",
    "We can also add a third value for stride, or how much to increment the value."
   ]
  },
  {
   "cell_type": "code",
   "execution_count": 9,
   "metadata": {},
   "outputs": [
    {
     "name": "stdout",
     "output_type": "stream",
     "text": [
      "[ 0  5 10 15 20 25 30 35 40 45 50 55 60 65 70 75 80 85 90 95]\n"
     ]
    }
   ],
   "source": [
    "my_array = np.arange(0,100,5)\n",
    "print(my_array)"
   ]
  },
  {
   "cell_type": "markdown",
   "metadata": {},
   "source": [
    "In the example above, we get values that are 5 apart.  If we adjust the end point to 101, we'll get the last value (100) as well.\n",
    "\n",
    "If we want to get a range of values that are evenly spaced between two endpoints *and includes both of those endpoints*, we can use the `linspace` function.  The `linspace` function requires three values - start, end, and number of values to return.  It is important to keep in mind how the array is created in this function.  If a set of N values is requested between X and Y, it will calculate the increment as follows:\n",
    "\n",
    "$$ I = \\frac{Y-X}{N-1} $$\n",
    "\n",
    "This will produce values of $[X, X+I, X+2I, ..., X+(N-1)I, Y]$, which are equally spaced.\n",
    "\n",
    "The reason this is being explained is shown below.  If we wanted 20 values between 0 and 10, we might intuitively think it would give us increments of 0.5, so that the array would look like $[0,0.5,1.0,1.5,...]$.  However, the `linspace` array includes both endpoints in the list."
   ]
  },
  {
   "cell_type": "code",
   "execution_count": 13,
   "metadata": {},
   "outputs": [
    {
     "name": "stdout",
     "output_type": "stream",
     "text": [
      "[ 0.          0.52631579  1.05263158  1.57894737  2.10526316  2.63157895\n",
      "  3.15789474  3.68421053  4.21052632  4.73684211  5.26315789  5.78947368\n",
      "  6.31578947  6.84210526  7.36842105  7.89473684  8.42105263  8.94736842\n",
      "  9.47368421 10.        ]\n"
     ]
    }
   ],
   "source": [
    "my_array = np.linspace(0,10,20)\n",
    "print(my_array)"
   ]
  },
  {
   "cell_type": "code",
   "execution_count": 14,
   "metadata": {},
   "outputs": [
    {
     "name": "stdout",
     "output_type": "stream",
     "text": [
      "[ 0.   0.5  1.   1.5  2.   2.5  3.   3.5  4.   4.5  5.   5.5  6.   6.5\n",
      "  7.   7.5  8.   8.5  9.   9.5 10. ]\n"
     ]
    }
   ],
   "source": [
    "my_array = np.linspace(0,10,21)\n",
    "print(my_array)"
   ]
  },
  {
   "cell_type": "markdown",
   "metadata": {},
   "source": [
    "Another function in `numpy` is the `roll` function.  This treats the array like a closed loop and lets you move all elements some number of spaces down, looping end elements back to the start."
   ]
  },
  {
   "cell_type": "code",
   "execution_count": 20,
   "metadata": {},
   "outputs": [
    {
     "data": {
      "text/plain": [
       "array([10. ,  0. ,  0.5,  1. ,  1.5,  2. ,  2.5,  3. ,  3.5,  4. ,  4.5,\n",
       "        5. ,  5.5,  6. ,  6.5,  7. ,  7.5,  8. ,  8.5,  9. ,  9.5])"
      ]
     },
     "execution_count": 20,
     "metadata": {},
     "output_type": "execute_result"
    }
   ],
   "source": [
    "np.roll(my_array,1) # shift everything 1 space over, brings the last element to the front."
   ]
  },
  {
   "cell_type": "code",
   "execution_count": 19,
   "metadata": {},
   "outputs": [
    {
     "data": {
      "text/plain": [
       "array([ 9. ,  9.5, 10. ,  0. ,  0.5,  1. ,  1.5,  2. ,  2.5,  3. ,  3.5,\n",
       "        4. ,  4.5,  5. ,  5.5,  6. ,  6.5,  7. ,  7.5,  8. ,  8.5])"
      ]
     },
     "execution_count": 19,
     "metadata": {},
     "output_type": "execute_result"
    }
   ],
   "source": [
    "np.roll(my_array,3) # Shift everything 3 spaces over."
   ]
  },
  {
   "cell_type": "markdown",
   "metadata": {},
   "source": [
    "### numpy.linalg\n",
    "\n",
    "NumPy has a number of submodules that are useful for certain tasks.  The `linalg` submodule is short for Linear Algebra, which is focused on vector-, matrix-, and tensor-math functions.  Most of the things you learn to calculate by hand in a multivariable calculus course can be done with simple functions in `numpy.linalg`\n",
    "\n",
    "For example, if you have a vector $[1,2,3]$, you can get the magnitude of the vector by using `linalg.norm`."
   ]
  },
  {
   "cell_type": "code",
   "execution_count": 21,
   "metadata": {},
   "outputs": [
    {
     "name": "stdout",
     "output_type": "stream",
     "text": [
      "3.7416573867739413\n"
     ]
    }
   ],
   "source": [
    "import numpy.linalg as la\n",
    "\n",
    "my_vector=[1,2,3]\n",
    "print(la.norm(my_vector))"
   ]
  },
  {
   "cell_type": "markdown",
   "metadata": {},
   "source": [
    "You can also do more complicated operations like the dot-product or cross-products\n",
    "\n",
    "#### np.dot()"
   ]
  },
  {
   "cell_type": "code",
   "execution_count": 25,
   "metadata": {},
   "outputs": [
    {
     "name": "stdout",
     "output_type": "stream",
     "text": [
      "32\n"
     ]
    }
   ],
   "source": [
    "vec1 = [1,2,3]\n",
    "vec2 = [4,5,6]\n",
    "dot_product = np.dot(vec1,vec2)\n",
    "print(dot_product)"
   ]
  },
  {
   "cell_type": "markdown",
   "metadata": {},
   "source": [
    "#### np.cross()"
   ]
  },
  {
   "cell_type": "code",
   "execution_count": 36,
   "metadata": {},
   "outputs": [
    {
     "name": "stdout",
     "output_type": "stream",
     "text": [
      "[[1 2 3]\n",
      " [4 5 6]\n",
      " [7 8 9]]\n",
      "[[1 2]\n",
      " [3 4]\n",
      " [5 6]]\n",
      "[[ -6   3   0]\n",
      " [-24  18   1]\n",
      " [-54  45   2]]\n"
     ]
    }
   ],
   "source": [
    "mat1 = np.array([[1,2,3],[4,5,6],[7,8,9]])\n",
    "mat2 = np.array([[1,2],[3,4],[5,6]])\n",
    "cross_product = np.cross(mat1,mat2)\n",
    "\n",
    "print(mat1)\n",
    "print(mat2)\n",
    "print(cross_product)"
   ]
  },
  {
   "cell_type": "markdown",
   "metadata": {},
   "source": [
    "### Random Number Generators\n",
    "\n",
    "Numpy is also home to a good selection of random number generators that can provide different random distributions depending on what kind of random number you need.\n",
    "- uniform\n",
    "- normal (Gaussian)\n",
    "- exponential\n",
    "- binomial\n",
    "- etc.\n",
    "\n",
    "### Polynomial Fits\n",
    "\n",
    "`numpy.polynomial` can provide you with data fitting tools to obtain $N$-degree polynomials for your data.\n"
   ]
  }
 ],
 "metadata": {
  "kernelspec": {
   "display_name": "Python 3.9.7 ('base')",
   "language": "python",
   "name": "python3"
  },
  "language_info": {
   "codemirror_mode": {
    "name": "ipython",
    "version": 3
   },
   "file_extension": ".py",
   "mimetype": "text/x-python",
   "name": "python",
   "nbconvert_exporter": "python",
   "pygments_lexer": "ipython3",
   "version": "3.9.7"
  },
  "orig_nbformat": 4,
  "vscode": {
   "interpreter": {
    "hash": "c7f5e592c43e0bb3865fa17512643febd83867b1832dfdc95e4b02df1a0eafd5"
   }
  }
 },
 "nbformat": 4,
 "nbformat_minor": 2
}
