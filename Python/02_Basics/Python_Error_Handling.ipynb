{
 "cells": [
  {
   "cell_type": "markdown",
   "metadata": {},
   "source": [
    "# Python Error Handling\n",
    "\n",
    "Error handling refers to a set of instructions the program follows if it encounters an error.  If you've gotten any kind of an error in python, you've seen error handling in action.\n",
    "\n",
    "What if you wanted to write code that would just take care of the problem if it encountered an error, rather than crashing and complaining to the user?  If you can anticipate possible errors that may arise, you can account for them and work around them.\n",
    "\n",
    "Error handling in python is based first on the `try/except` commands.  Let's look at the examples below."
   ]
  },
  {
   "cell_type": "code",
   "execution_count": 8,
   "metadata": {},
   "outputs": [
    {
     "ename": "ModuleNotFoundError",
     "evalue": "No module named 'foobar'",
     "output_type": "error",
     "traceback": [
      "\u001b[0;31m---------------------------------------------------------------------------\u001b[0m",
      "\u001b[0;31mModuleNotFoundError\u001b[0m                       Traceback (most recent call last)",
      "\u001b[1;32m/home/mark/GH_Repositories/CodingSummerSchool/Day05_Python_WrapUp/18_Python_Error_Handling.ipynb Cell 2'\u001b[0m in \u001b[0;36m<cell line: 1>\u001b[0;34m()\u001b[0m\n\u001b[0;32m----> <a href='vscode-notebook-cell:/home/mark/GH_Repositories/CodingSummerSchool/Day05_Python_WrapUp/18_Python_Error_Handling.ipynb#ch0000000?line=0'>1</a>\u001b[0m \u001b[39mimport\u001b[39;00m \u001b[39mfoobar\u001b[39;00m \u001b[39mas\u001b[39;00m \u001b[39mfb\u001b[39;00m\n\u001b[1;32m      <a href='vscode-notebook-cell:/home/mark/GH_Repositories/CodingSummerSchool/Day05_Python_WrapUp/18_Python_Error_Handling.ipynb#ch0000000?line=2'>3</a>\u001b[0m \u001b[39mprint\u001b[39m(\u001b[39m\"\u001b[39m\u001b[39mHello world!\u001b[39m\u001b[39m\"\u001b[39m)\n",
      "\u001b[0;31mModuleNotFoundError\u001b[0m: No module named 'foobar'"
     ]
    }
   ],
   "source": [
    "import foobar as fb\n",
    "print(\"Hello world!\")"
   ]
  },
  {
   "cell_type": "code",
   "execution_count": 4,
   "metadata": {},
   "outputs": [
    {
     "name": "stdout",
     "output_type": "stream",
     "text": [
      "pytraj module is not available.\n",
      "Hello world!\n"
     ]
    }
   ],
   "source": [
    "try:\n",
    "    import foobar as fb\n",
    "except:\n",
    "    print(\"foobar module is not available.\")\n",
    "print(\"Hello world!\")"
   ]
  },
  {
   "cell_type": "markdown",
   "metadata": {},
   "source": [
    "In the first example, we tried to directly import a python module that doesn't exist (on the computer or even at all), and then print \"Hello World!\"  But because `foobar` doesn't exist, python encountered an error and immediately crashed.  In the second example, however, we included the `try/except` commands, which allows us to follow a specific set of instructions when the error is encountered, and then continue on with the program.\n",
    "\n",
    "I commonly use this in scripts and programs that I provide to the lab that use non-standard python libraries.  For example, a script may use the `mdanalysis` library, which is not included with python by default."
   ]
  },
  {
   "cell_type": "code",
   "execution_count": null,
   "metadata": {},
   "outputs": [],
   "source": [
    "try:\n",
    "    import mdanalysis as mda\n",
    "except:\n",
    "    import subprocess\n",
    "    subprocess.call(\"conda install -y mdanalysis\",shell=True)\n",
    "    import mdanalysis as mda"
   ]
  },
  {
   "cell_type": "markdown",
   "metadata": {},
   "source": [
    "The cell above tries to import `mdanalysis`, and if it fails, it loads a standard python library called `subprocess`, then uses that to install `mdanalysis`.  Once that has completed, the code continues and imports mdanalysis as though it were always there.  \n",
    "\n",
    "Error handling can get more complex than this, with specific instructions being assigned to specific **types** of errors.\n",
    "\n",
    "If you wanted to be really mean, you could include a handling of the \"KeyboardInterruptException\" to prevent your code from being killed by the usual `ctrl-C` method.\n",
    "\n",
    "But don't do that.\n"
   ]
  }
 ],
 "metadata": {
  "kernelspec": {
   "display_name": "Python 3 (ipykernel)",
   "language": "python",
   "name": "python3"
  },
  "language_info": {
   "codemirror_mode": {
    "name": "ipython",
    "version": 3
   },
   "file_extension": ".py",
   "mimetype": "text/x-python",
   "name": "python",
   "nbconvert_exporter": "python",
   "pygments_lexer": "ipython3",
   "version": "3.9.7"
  },
  "vscode": {
   "interpreter": {
    "hash": "c7f5e592c43e0bb3865fa17512643febd83867b1832dfdc95e4b02df1a0eafd5"
   }
  }
 },
 "nbformat": 4,
 "nbformat_minor": 2
}
