{
 "cells": [
  {
   "cell_type": "markdown",
   "metadata": {},
   "source": [
    "# Python/Shell Interactions\n",
    "\n",
    "One of the included modules in python is the `subprocess` module, which allows you to execute shell commands on a Linux system from within your python script.  You can also use it to read the outputs from these commands.  There are a few different options available to manage these kinds of system/program interactions.\n",
    "\n",
    "#### subprocess.call()\n",
    "\n",
    "The `subprocess.call()` function is fairly straightforward.  It is useful if you need to execute a command without concern for the output to the terminal of that command."
   ]
  },
  {
   "cell_type": "code",
   "execution_count": 1,
   "metadata": {},
   "outputs": [
    {
     "name": "stdout",
     "output_type": "stream",
     "text": [
      "total 48K\n",
      "-rw-rw-r-- 1 mark mark    0 Jun 13 16:37 19_Python_System_Interaction.ipynb\n",
      "-rw-rw-r-- 1 mark mark    0 Jun 13 16:38 20_Python_Final_Project.ipynb\n",
      "drwxrwxr-x 2 mark mark 4.0K Jun 17 16:45 test_data\n",
      "-rw-rw-r-- 1 mark mark  33K Jun 17 17:01 17_Python_File_IO.ipynb\n",
      "-rw-rw-r-- 1 mark mark 4.8K Jun 17 17:35 18_Python_Error_Handling.ipynb\n"
     ]
    },
    {
     "data": {
      "text/plain": [
       "0"
      ]
     },
     "execution_count": 1,
     "metadata": {},
     "output_type": "execute_result"
    }
   ],
   "source": [
    "import subprocess\n",
    "\n",
    "subprocess.call(\"ls -lrth\",shell=True)"
   ]
  },
  {
   "cell_type": "markdown",
   "metadata": {},
   "source": [
    "In a notebook environment, the results of the `subprocess.call()` command are simply printed to the output of the cell.  In a regular system environment, this output is printed to the terminal. The important thing to remember, however, is that neither of those options allow for the capture and storage of the output by python.  In the example above, we as a user can see the output of our `ls -lrth` command, but our **program** cannot.  \n",
    "\n",
    "I often use the `call()` function when calling external programs from within my python scripts, specifically when those programs will produce their own output files that I can use later.  In these scenarios, the outputs to the terminal are not as important.\n",
    "\n",
    "Also, note that `subprocess.call` includes a keyword argument `shell=True`.  This is *required* to have the command actually run in your shell environment.\n",
    "\n",
    "#### subprocess.Popen()\n",
    "\n",
    "The other kind of system interaction requires the capture and storage of the terminal outputs.  The `Popen` command can be used in the same way as `call`, but with some additional keywords and with the functionality included to capture the response from the commands."
   ]
  },
  {
   "cell_type": "code",
   "execution_count": 2,
   "metadata": {},
   "outputs": [],
   "source": [
    "import subprocess\n",
    "\n",
    "proc = subprocess.Popen(\"ls -lrth\",shell=True,stdout=subprocess.PIPE,stderr=subprocess.PIPE)\n",
    "output,errors = proc.communicate()"
   ]
  },
  {
   "cell_type": "code",
   "execution_count": 8,
   "metadata": {},
   "outputs": [
    {
     "name": "stdout",
     "output_type": "stream",
     "text": [
      "b'total 48K\\n-rw-rw-r-- 1 mark mark    0 Jun 13 16:37 19_Python_System_Interaction.ipynb\\n-rw-rw-r-- 1 mark mark    0 Jun 13 16:38 20_Python_Final_Project.ipynb\\ndrwxrwxr-x 2 mark mark 4.0K Jun 17 16:45 test_data\\n-rw-rw-r-- 1 mark mark  33K Jun 17 17:01 17_Python_File_IO.ipynb\\n-rw-rw-r-- 1 mark mark 4.8K Jun 17 17:35 18_Python_Error_Handling.ipynb\\n'\n"
     ]
    }
   ],
   "source": [
    "print(output)"
   ]
  },
  {
   "cell_type": "code",
   "execution_count": 9,
   "metadata": {},
   "outputs": [
    {
     "name": "stdout",
     "output_type": "stream",
     "text": [
      "b''\n"
     ]
    }
   ],
   "source": [
    "print(errors)"
   ]
  },
  {
   "cell_type": "markdown",
   "metadata": {},
   "source": [
    "You will note that when the `output` and `errors` variables are printed, they have a `b` at the front of the string.  This is an important thing to be aware of - these outputs are *technically* in binary format, not plain-text.  Fortunately, the python `print` function can translate from binary to text.  However, working with binary data can be slightly more difficult in some ways, and it might be easier for us to convert to plain strings before parsing information.  We can use the `decode` function for this."
   ]
  },
  {
   "cell_type": "code",
   "execution_count": 12,
   "metadata": {},
   "outputs": [
    {
     "name": "stdout",
     "output_type": "stream",
     "text": [
      "total 48K\n",
      "-rw-rw-r-- 1 mark mark    0 Jun 13 16:37 19_Python_System_Interaction.ipynb\n",
      "-rw-rw-r-- 1 mark mark    0 Jun 13 16:38 20_Python_Final_Project.ipynb\n",
      "drwxrwxr-x 2 mark mark 4.0K Jun 17 16:45 test_data\n",
      "-rw-rw-r-- 1 mark mark  33K Jun 17 17:01 17_Python_File_IO.ipynb\n",
      "-rw-rw-r-- 1 mark mark 4.8K Jun 17 17:35 18_Python_Error_Handling.ipynb\n",
      "\n"
     ]
    }
   ],
   "source": [
    "decoded = output.decode(\"utf-8\")\n",
    "\n",
    "print(decoded)"
   ]
  },
  {
   "cell_type": "markdown",
   "metadata": {},
   "source": [
    "The variable `output` that we got from the `communicate` function has its own internal function called `decode`, which we call with the argument `\"utf-8\"`, indicating we want to use that particular Unicode formatting.  Note that the resulting string does NOT have the `b` at the front, and is printed like any other string.  We can also use this data like any other string, with `split` commands and other types of parsing to get the information we want from the output.\n",
    "\n",
    "Anyone who has looked into the `TCFreeze` code will recognize the `subprocess` module as an integral part of the larger algorithm.  `TCFreeze` uses `subprocess.call()` to use TeraChem at every iteration of the process.\n",
    "\n",
    "Try out some of your own commands to get a feel for how the different interactions work."
   ]
  }
 ],
 "metadata": {
  "kernelspec": {
   "display_name": "Python 3 (ipykernel)",
   "language": "python",
   "name": "python3"
  },
  "language_info": {
   "codemirror_mode": {
    "name": "ipython",
    "version": 3
   },
   "file_extension": ".py",
   "mimetype": "text/x-python",
   "name": "python",
   "nbconvert_exporter": "python",
   "pygments_lexer": "ipython3",
   "version": "3.9.7"
  },
  "vscode": {
   "interpreter": {
    "hash": "c7f5e592c43e0bb3865fa17512643febd83867b1832dfdc95e4b02df1a0eafd5"
   }
  }
 },
 "nbformat": 4,
 "nbformat_minor": 2
}
