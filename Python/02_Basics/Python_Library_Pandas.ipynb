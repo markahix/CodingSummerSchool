{
 "cells": [
  {
   "cell_type": "markdown",
   "metadata": {},
   "source": [
    "# The Pandas Library\n",
    "\n",
    "Pandas is a wonderful data organization and processing library.  It works off of a single major underlying structure, the `DataFrame`.  The `DataFrame` is an object that can be described as a \"dictionary of dictionaries\".  Similar to how previous examples have shown that you can have nested dictionary datatypes, Pandas takes it a step further and provides tools to organize, manipulate, combine, compare, and store these multi-layer dictionaries.  Pandas also includes built-in Excel Spreadsheet creation functionality, meaning that you can transform your data into more complex structures in Excel, making it easier to share with collaborators.\n",
    "\n",
    "Let's look at an example of a simple dataframe with just a few rows and columns."
   ]
  },
  {
   "cell_type": "code",
   "execution_count": 2,
   "metadata": {},
   "outputs": [],
   "source": [
    "import pandas as pd\n",
    "\n",
    "df = pd.DataFrame([{\"First Name\":\"Zee\",\"Age\":40,\"Team\":\"Blue\"},\n",
    "                   {\"First Name\":\"Charlotte\",\"Age\":45,\"Team\":\"Red\"},\n",
    "                   {\"First Name\":\"Wilbur\",\"Age\":50,\"Team\":\"Green\"}])"
   ]
  },
  {
   "cell_type": "code",
   "execution_count": 3,
   "metadata": {},
   "outputs": [
    {
     "data": {
      "text/html": [
       "<div>\n",
       "<style scoped>\n",
       "    .dataframe tbody tr th:only-of-type {\n",
       "        vertical-align: middle;\n",
       "    }\n",
       "\n",
       "    .dataframe tbody tr th {\n",
       "        vertical-align: top;\n",
       "    }\n",
       "\n",
       "    .dataframe thead th {\n",
       "        text-align: right;\n",
       "    }\n",
       "</style>\n",
       "<table border=\"1\" class=\"dataframe\">\n",
       "  <thead>\n",
       "    <tr style=\"text-align: right;\">\n",
       "      <th></th>\n",
       "      <th>First Name</th>\n",
       "      <th>Age</th>\n",
       "      <th>Team</th>\n",
       "    </tr>\n",
       "  </thead>\n",
       "  <tbody>\n",
       "    <tr>\n",
       "      <th>0</th>\n",
       "      <td>Zee</td>\n",
       "      <td>40</td>\n",
       "      <td>Blue</td>\n",
       "    </tr>\n",
       "    <tr>\n",
       "      <th>1</th>\n",
       "      <td>Charlotte</td>\n",
       "      <td>45</td>\n",
       "      <td>Red</td>\n",
       "    </tr>\n",
       "    <tr>\n",
       "      <th>2</th>\n",
       "      <td>Wilbur</td>\n",
       "      <td>50</td>\n",
       "      <td>Green</td>\n",
       "    </tr>\n",
       "  </tbody>\n",
       "</table>\n",
       "</div>"
      ],
      "text/plain": [
       "  First Name  Age   Team\n",
       "0        Zee   40   Blue\n",
       "1  Charlotte   45    Red\n",
       "2     Wilbur   50  Green"
      ]
     },
     "metadata": {},
     "output_type": "display_data"
    }
   ],
   "source": [
    "display(df)"
   ]
  },
  {
   "cell_type": "code",
   "execution_count": 4,
   "metadata": {},
   "outputs": [
    {
     "name": "stdout",
     "output_type": "stream",
     "text": [
      "  First Name  Age   Team\n",
      "0        Zee   40   Blue\n",
      "1  Charlotte   45    Red\n",
      "2     Wilbur   50  Green\n"
     ]
    }
   ],
   "source": [
    "print(df)"
   ]
  },
  {
   "cell_type": "markdown",
   "metadata": {},
   "source": [
    "Notice the difference between `display` and `print` in the example above.  It should be pointed out that `display` is functional in notebook environments only, not in terminals.  Trying to use `display` in a terminal will result in an error.\n",
    "\n",
    "You can add to existing dataframes by appending new rows.  Each row will be made as a dictionary beforehand.\n"
   ]
  },
  {
   "cell_type": "code",
   "execution_count": 5,
   "metadata": {},
   "outputs": [],
   "source": [
    "newrow = {\"First Name\":\"Iroh\",\"Age\":99,\"Team\":\"Red\"}\n",
    "df = df.append(newrow,ignore_index=True)"
   ]
  },
  {
   "cell_type": "code",
   "execution_count": 6,
   "metadata": {},
   "outputs": [
    {
     "data": {
      "text/html": [
       "<div>\n",
       "<style scoped>\n",
       "    .dataframe tbody tr th:only-of-type {\n",
       "        vertical-align: middle;\n",
       "    }\n",
       "\n",
       "    .dataframe tbody tr th {\n",
       "        vertical-align: top;\n",
       "    }\n",
       "\n",
       "    .dataframe thead th {\n",
       "        text-align: right;\n",
       "    }\n",
       "</style>\n",
       "<table border=\"1\" class=\"dataframe\">\n",
       "  <thead>\n",
       "    <tr style=\"text-align: right;\">\n",
       "      <th></th>\n",
       "      <th>First Name</th>\n",
       "      <th>Age</th>\n",
       "      <th>Team</th>\n",
       "    </tr>\n",
       "  </thead>\n",
       "  <tbody>\n",
       "    <tr>\n",
       "      <th>0</th>\n",
       "      <td>Zee</td>\n",
       "      <td>40</td>\n",
       "      <td>Blue</td>\n",
       "    </tr>\n",
       "    <tr>\n",
       "      <th>1</th>\n",
       "      <td>Charlotte</td>\n",
       "      <td>45</td>\n",
       "      <td>Red</td>\n",
       "    </tr>\n",
       "    <tr>\n",
       "      <th>2</th>\n",
       "      <td>Wilbur</td>\n",
       "      <td>50</td>\n",
       "      <td>Green</td>\n",
       "    </tr>\n",
       "    <tr>\n",
       "      <th>3</th>\n",
       "      <td>Iroh</td>\n",
       "      <td>99</td>\n",
       "      <td>Red</td>\n",
       "    </tr>\n",
       "  </tbody>\n",
       "</table>\n",
       "</div>"
      ],
      "text/plain": [
       "  First Name  Age   Team\n",
       "0        Zee   40   Blue\n",
       "1  Charlotte   45    Red\n",
       "2     Wilbur   50  Green\n",
       "3       Iroh   99    Red"
      ]
     },
     "metadata": {},
     "output_type": "display_data"
    }
   ],
   "source": [
    "display(df)"
   ]
  },
  {
   "cell_type": "markdown",
   "metadata": {},
   "source": [
    "Notice that we had to reassign the dataframe when we added the new row.  This is because all of the internal dataframe functions return a *new* dataframe object.  This method ensures that dataframes are not overwritten on accident, and that data is not lost without intent.  Also, we now have two rows that have a shared value in a column.  We can sort the rows by specific columns, which can be used to group things together.  We can also group by multiple columns to have improved organization."
   ]
  },
  {
   "cell_type": "code",
   "execution_count": 7,
   "metadata": {},
   "outputs": [
    {
     "data": {
      "text/html": [
       "<div>\n",
       "<style scoped>\n",
       "    .dataframe tbody tr th:only-of-type {\n",
       "        vertical-align: middle;\n",
       "    }\n",
       "\n",
       "    .dataframe tbody tr th {\n",
       "        vertical-align: top;\n",
       "    }\n",
       "\n",
       "    .dataframe thead th {\n",
       "        text-align: right;\n",
       "    }\n",
       "</style>\n",
       "<table border=\"1\" class=\"dataframe\">\n",
       "  <thead>\n",
       "    <tr style=\"text-align: right;\">\n",
       "      <th></th>\n",
       "      <th>First Name</th>\n",
       "      <th>Age</th>\n",
       "      <th>Team</th>\n",
       "    </tr>\n",
       "  </thead>\n",
       "  <tbody>\n",
       "    <tr>\n",
       "      <th>0</th>\n",
       "      <td>Zee</td>\n",
       "      <td>40</td>\n",
       "      <td>Blue</td>\n",
       "    </tr>\n",
       "    <tr>\n",
       "      <th>2</th>\n",
       "      <td>Wilbur</td>\n",
       "      <td>50</td>\n",
       "      <td>Green</td>\n",
       "    </tr>\n",
       "    <tr>\n",
       "      <th>1</th>\n",
       "      <td>Charlotte</td>\n",
       "      <td>45</td>\n",
       "      <td>Red</td>\n",
       "    </tr>\n",
       "    <tr>\n",
       "      <th>3</th>\n",
       "      <td>Iroh</td>\n",
       "      <td>99</td>\n",
       "      <td>Red</td>\n",
       "    </tr>\n",
       "  </tbody>\n",
       "</table>\n",
       "</div>"
      ],
      "text/plain": [
       "  First Name  Age   Team\n",
       "0        Zee   40   Blue\n",
       "2     Wilbur   50  Green\n",
       "1  Charlotte   45    Red\n",
       "3       Iroh   99    Red"
      ]
     },
     "metadata": {},
     "output_type": "display_data"
    }
   ],
   "source": [
    "df2 = df.sort_values(\"Team\",ascending=True)\n",
    "display(df2)"
   ]
  },
  {
   "cell_type": "code",
   "execution_count": 8,
   "metadata": {},
   "outputs": [
    {
     "data": {
      "text/html": [
       "<div>\n",
       "<style scoped>\n",
       "    .dataframe tbody tr th:only-of-type {\n",
       "        vertical-align: middle;\n",
       "    }\n",
       "\n",
       "    .dataframe tbody tr th {\n",
       "        vertical-align: top;\n",
       "    }\n",
       "\n",
       "    .dataframe thead th {\n",
       "        text-align: right;\n",
       "    }\n",
       "</style>\n",
       "<table border=\"1\" class=\"dataframe\">\n",
       "  <thead>\n",
       "    <tr style=\"text-align: right;\">\n",
       "      <th></th>\n",
       "      <th>First Name</th>\n",
       "      <th>Age</th>\n",
       "      <th>Team</th>\n",
       "    </tr>\n",
       "  </thead>\n",
       "  <tbody>\n",
       "    <tr>\n",
       "      <th>0</th>\n",
       "      <td>Zee</td>\n",
       "      <td>40</td>\n",
       "      <td>Blue</td>\n",
       "    </tr>\n",
       "    <tr>\n",
       "      <th>2</th>\n",
       "      <td>Wilbur</td>\n",
       "      <td>50</td>\n",
       "      <td>Green</td>\n",
       "    </tr>\n",
       "    <tr>\n",
       "      <th>3</th>\n",
       "      <td>Iroh</td>\n",
       "      <td>99</td>\n",
       "      <td>Red</td>\n",
       "    </tr>\n",
       "    <tr>\n",
       "      <th>1</th>\n",
       "      <td>Charlotte</td>\n",
       "      <td>45</td>\n",
       "      <td>Red</td>\n",
       "    </tr>\n",
       "  </tbody>\n",
       "</table>\n",
       "</div>"
      ],
      "text/plain": [
       "  First Name  Age   Team\n",
       "0        Zee   40   Blue\n",
       "2     Wilbur   50  Green\n",
       "3       Iroh   99    Red\n",
       "1  Charlotte   45    Red"
      ]
     },
     "metadata": {},
     "output_type": "display_data"
    }
   ],
   "source": [
    "df3 = df.sort_values([\"Team\",\"Age\"],ascending=[True,False])\n",
    "display(df3)"
   ]
  },
  {
   "cell_type": "markdown",
   "metadata": {},
   "source": [
    "In the first cell, we sort only by the column \"Team\", and put the results in ascending order.  Pandas uses alphabetical sorting unless all cells in a column are *entirely* numerical.\n",
    "\n",
    "In the second cell, we sorted by a list, which means the whole dataframe is sorted by the first element, and any rows that have the same value in that first element are then sorted by the second element, and so on.  Additionally, we use a second list for the ascending values to set the ascending/descending state for each element being sorted.\n",
    "\n",
    "What if we wanted just the values in one column?  We can call the dataframe like we would a dictionary, using the square brackets and a column name.\n"
   ]
  },
  {
   "cell_type": "code",
   "execution_count": 9,
   "metadata": {},
   "outputs": [
    {
     "name": "stdout",
     "output_type": "stream",
     "text": [
      "0    40\n",
      "1    45\n",
      "2    50\n",
      "3    99\n",
      "Name: Age, dtype: int64\n"
     ]
    }
   ],
   "source": [
    "print(df[\"Age\"])"
   ]
  },
  {
   "cell_type": "code",
   "execution_count": 10,
   "metadata": {},
   "outputs": [
    {
     "name": "stdout",
     "output_type": "stream",
     "text": [
      "[40 45 50 99]\n"
     ]
    }
   ],
   "source": [
    "print(df[\"Age\"].values)"
   ]
  },
  {
   "cell_type": "markdown",
   "metadata": {},
   "source": [
    "We can also call individual rows with the `.iloc` function.  In the example below, `.iloc(0)` indicates we're iterating on the 0th axis, which is down the rows.  The `[2]` indicates we want the data at index 2 in that list of rows.  In the original `df` dataframe object, that is the third row."
   ]
  },
  {
   "cell_type": "code",
   "execution_count": 12,
   "metadata": {},
   "outputs": [
    {
     "name": "stdout",
     "output_type": "stream",
     "text": [
      "First Name    Wilbur\n",
      "Age               50\n",
      "Team           Green\n",
      "Name: 2, dtype: object\n"
     ]
    }
   ],
   "source": [
    "print(df.iloc(0)[2])"
   ]
  },
  {
   "cell_type": "markdown",
   "metadata": {},
   "source": [
    "Let's consider an example that might be more relevant to the lab.  Mark is currently working on a Automated Fluorescent Nucleotide Workflow (that needs a better name with a fun acronym).  Over time, this workflow is intended to produce large amounts of data for hundreds - even thousands - of molecules.  We want to use this data in a machine learning model to predict possible new fluorescent nucleotides.  \n",
    "\n",
    "We can use Pandas to organize this data into a more easily managed form.\n",
    "\n",
    "What are the different things to consider for each of the molecules?\n",
    "- Sugar type (Ribose / Deoxyribose)\n",
    "- Nucleobase (A/C/G/T/U)\n",
    "- Connection point on the base (C6,C5, etc.)\n",
    "- Tag structure and connection point.\n",
    "- Absorption Wavelength\n",
    "- Emission Wavelength\n",
    "- Quantum Yield\n",
    "\n",
    "Let's assume that we don't have all that information for every single molecule just yet.  In fact, that's kind of the point of machine learning, filling in the gaps of data.\n",
    "\n"
   ]
  },
  {
   "cell_type": "code",
   "execution_count": 54,
   "metadata": {},
   "outputs": [
    {
     "data": {
      "text/html": [
       "<div>\n",
       "<style scoped>\n",
       "    .dataframe tbody tr th:only-of-type {\n",
       "        vertical-align: middle;\n",
       "    }\n",
       "\n",
       "    .dataframe tbody tr th {\n",
       "        vertical-align: top;\n",
       "    }\n",
       "\n",
       "    .dataframe thead th {\n",
       "        text-align: right;\n",
       "    }\n",
       "</style>\n",
       "<table border=\"1\" class=\"dataframe\">\n",
       "  <thead>\n",
       "    <tr style=\"text-align: right;\">\n",
       "      <th></th>\n",
       "      <th>Sugar</th>\n",
       "      <th>Base</th>\n",
       "      <th>ConnectionPoint</th>\n",
       "      <th>FluorescentTag</th>\n",
       "      <th>AbsorptionWavelength</th>\n",
       "      <th>EmissionWavelength</th>\n",
       "      <th>QuantumYield</th>\n",
       "    </tr>\n",
       "  </thead>\n",
       "  <tbody>\n",
       "  </tbody>\n",
       "</table>\n",
       "</div>"
      ],
      "text/plain": [
       "Empty DataFrame\n",
       "Columns: [Sugar, Base, ConnectionPoint, FluorescentTag, AbsorptionWavelength, EmissionWavelength, QuantumYield]\n",
       "Index: []"
      ]
     },
     "metadata": {},
     "output_type": "display_data"
    }
   ],
   "source": [
    "## A list of all the columns we want in our dataframe, corresponding to values we want to keep track of for each system.\n",
    "df_columns = [\"Sugar\",\"Base\",\"ConnectionPoint\",\"FluorescentTag\",\"AbsorptionWavelength\",\"EmissionWavelength\",\"QuantumYield\"]\n",
    "\n",
    "## Initialize the dataframe without data, just column names\n",
    "nucleotides = pd.DataFrame(columns=df_columns)\n",
    "\n",
    "display(nucleotides)\n",
    "\n"
   ]
  },
  {
   "cell_type": "markdown",
   "metadata": {},
   "source": [
    "I'm including a function below to make my life easier for the example process, but if we haven't talked about functions yet, you can ignore it for now."
   ]
  },
  {
   "cell_type": "code",
   "execution_count": 55,
   "metadata": {},
   "outputs": [],
   "source": [
    "def add_molecule(df,**kwargs):\n",
    "    new_molecule = {}\n",
    "    for key,val in kwargs.items():\n",
    "        new_molecule[key] = val\n",
    "    df = df.append(new_molecule,ignore_index=True)\n",
    "    return df\n"
   ]
  },
  {
   "cell_type": "code",
   "execution_count": 56,
   "metadata": {},
   "outputs": [
    {
     "data": {
      "text/html": [
       "<div>\n",
       "<style scoped>\n",
       "    .dataframe tbody tr th:only-of-type {\n",
       "        vertical-align: middle;\n",
       "    }\n",
       "\n",
       "    .dataframe tbody tr th {\n",
       "        vertical-align: top;\n",
       "    }\n",
       "\n",
       "    .dataframe thead th {\n",
       "        text-align: right;\n",
       "    }\n",
       "</style>\n",
       "<table border=\"1\" class=\"dataframe\">\n",
       "  <thead>\n",
       "    <tr style=\"text-align: right;\">\n",
       "      <th></th>\n",
       "      <th>Sugar</th>\n",
       "      <th>Base</th>\n",
       "      <th>ConnectionPoint</th>\n",
       "      <th>FluorescentTag</th>\n",
       "      <th>AbsorptionWavelength</th>\n",
       "      <th>EmissionWavelength</th>\n",
       "      <th>QuantumYield</th>\n",
       "    </tr>\n",
       "  </thead>\n",
       "  <tbody>\n",
       "    <tr>\n",
       "      <th>0</th>\n",
       "      <td>Ribose</td>\n",
       "      <td>C</td>\n",
       "      <td>C5</td>\n",
       "      <td>NaN</td>\n",
       "      <td>380</td>\n",
       "      <td>415</td>\n",
       "      <td>0.93</td>\n",
       "    </tr>\n",
       "    <tr>\n",
       "      <th>1</th>\n",
       "      <td>Ribose</td>\n",
       "      <td>C</td>\n",
       "      <td>C6</td>\n",
       "      <td>Perylene</td>\n",
       "      <td>NaN</td>\n",
       "      <td>465</td>\n",
       "      <td>0.96</td>\n",
       "    </tr>\n",
       "    <tr>\n",
       "      <th>2</th>\n",
       "      <td>Deoxyribose</td>\n",
       "      <td>C</td>\n",
       "      <td>C5</td>\n",
       "      <td>Benzopyrene</td>\n",
       "      <td>360</td>\n",
       "      <td>395</td>\n",
       "      <td>NaN</td>\n",
       "    </tr>\n",
       "    <tr>\n",
       "      <th>3</th>\n",
       "      <td>Deoxyribose</td>\n",
       "      <td>C</td>\n",
       "      <td>C6</td>\n",
       "      <td>Furan</td>\n",
       "      <td>390</td>\n",
       "      <td>NaN</td>\n",
       "      <td>0.75</td>\n",
       "    </tr>\n",
       "  </tbody>\n",
       "</table>\n",
       "</div>"
      ],
      "text/plain": [
       "         Sugar Base ConnectionPoint FluorescentTag AbsorptionWavelength  \\\n",
       "0       Ribose    C              C5            NaN                  380   \n",
       "1       Ribose    C              C6       Perylene                  NaN   \n",
       "2  Deoxyribose    C              C5    Benzopyrene                  360   \n",
       "3  Deoxyribose    C              C6          Furan                  390   \n",
       "\n",
       "  EmissionWavelength  QuantumYield  \n",
       "0                415          0.93  \n",
       "1                465          0.96  \n",
       "2                395           NaN  \n",
       "3                NaN          0.75  "
      ]
     },
     "metadata": {},
     "output_type": "display_data"
    }
   ],
   "source": [
    "nucleotides = add_molecule(nucleotides,Sugar=\"Ribose\",Base=\"C\",ConnectionPoint=\"C5\",AbsorptionWavelength=380,EmissionWavelength=415,QuantumYield=.93)\n",
    "nucleotides = add_molecule(nucleotides,Sugar=\"Ribose\",Base=\"C\",FluorescentTag=\"Perylene\",ConnectionPoint=\"C6\",EmissionWavelength=465,QuantumYield=.96)\n",
    "nucleotides = add_molecule(nucleotides,Sugar=\"Deoxyribose\",Base=\"C\",FluorescentTag=\"Benzopyrene\",ConnectionPoint=\"C5\",AbsorptionWavelength=360,EmissionWavelength=395)\n",
    "nucleotides = add_molecule(nucleotides,Sugar=\"Deoxyribose\",Base=\"C\",FluorescentTag=\"Furan\",ConnectionPoint=\"C6\",AbsorptionWavelength=390,QuantumYield=.75)\n",
    "\n",
    "display(nucleotides)"
   ]
  },
  {
   "cell_type": "markdown",
   "metadata": {},
   "source": [
    "In the above cell, we can see that empty values are printed as `NaN`.  We can clear those out and replace them with empty cells to make it easier to see where the data is missing."
   ]
  },
  {
   "cell_type": "code",
   "execution_count": 57,
   "metadata": {},
   "outputs": [
    {
     "data": {
      "text/html": [
       "<div>\n",
       "<style scoped>\n",
       "    .dataframe tbody tr th:only-of-type {\n",
       "        vertical-align: middle;\n",
       "    }\n",
       "\n",
       "    .dataframe tbody tr th {\n",
       "        vertical-align: top;\n",
       "    }\n",
       "\n",
       "    .dataframe thead th {\n",
       "        text-align: right;\n",
       "    }\n",
       "</style>\n",
       "<table border=\"1\" class=\"dataframe\">\n",
       "  <thead>\n",
       "    <tr style=\"text-align: right;\">\n",
       "      <th></th>\n",
       "      <th>Sugar</th>\n",
       "      <th>Base</th>\n",
       "      <th>ConnectionPoint</th>\n",
       "      <th>FluorescentTag</th>\n",
       "      <th>AbsorptionWavelength</th>\n",
       "      <th>EmissionWavelength</th>\n",
       "      <th>QuantumYield</th>\n",
       "    </tr>\n",
       "  </thead>\n",
       "  <tbody>\n",
       "    <tr>\n",
       "      <th>0</th>\n",
       "      <td>Ribose</td>\n",
       "      <td>C</td>\n",
       "      <td>C5</td>\n",
       "      <td></td>\n",
       "      <td>380</td>\n",
       "      <td>415</td>\n",
       "      <td>0.93</td>\n",
       "    </tr>\n",
       "    <tr>\n",
       "      <th>1</th>\n",
       "      <td>Ribose</td>\n",
       "      <td>C</td>\n",
       "      <td>C6</td>\n",
       "      <td>Perylene</td>\n",
       "      <td></td>\n",
       "      <td>465</td>\n",
       "      <td>0.96</td>\n",
       "    </tr>\n",
       "    <tr>\n",
       "      <th>2</th>\n",
       "      <td>Deoxyribose</td>\n",
       "      <td>C</td>\n",
       "      <td>C5</td>\n",
       "      <td>Benzopyrene</td>\n",
       "      <td>360</td>\n",
       "      <td>395</td>\n",
       "      <td></td>\n",
       "    </tr>\n",
       "    <tr>\n",
       "      <th>3</th>\n",
       "      <td>Deoxyribose</td>\n",
       "      <td>C</td>\n",
       "      <td>C6</td>\n",
       "      <td>Furan</td>\n",
       "      <td>390</td>\n",
       "      <td></td>\n",
       "      <td>0.75</td>\n",
       "    </tr>\n",
       "  </tbody>\n",
       "</table>\n",
       "</div>"
      ],
      "text/plain": [
       "         Sugar Base ConnectionPoint FluorescentTag AbsorptionWavelength  \\\n",
       "0       Ribose    C              C5                                 380   \n",
       "1       Ribose    C              C6       Perylene                        \n",
       "2  Deoxyribose    C              C5    Benzopyrene                  360   \n",
       "3  Deoxyribose    C              C6          Furan                  390   \n",
       "\n",
       "  EmissionWavelength QuantumYield  \n",
       "0                415         0.93  \n",
       "1                465         0.96  \n",
       "2                395               \n",
       "3                            0.75  "
      ]
     },
     "metadata": {},
     "output_type": "display_data"
    }
   ],
   "source": [
    "display(nucleotides.fillna(''))"
   ]
  },
  {
   "cell_type": "code",
   "execution_count": 58,
   "metadata": {},
   "outputs": [
    {
     "data": {
      "text/html": [
       "<div>\n",
       "<style scoped>\n",
       "    .dataframe tbody tr th:only-of-type {\n",
       "        vertical-align: middle;\n",
       "    }\n",
       "\n",
       "    .dataframe tbody tr th {\n",
       "        vertical-align: top;\n",
       "    }\n",
       "\n",
       "    .dataframe thead th {\n",
       "        text-align: right;\n",
       "    }\n",
       "</style>\n",
       "<table border=\"1\" class=\"dataframe\">\n",
       "  <thead>\n",
       "    <tr style=\"text-align: right;\">\n",
       "      <th></th>\n",
       "      <th>Sugar</th>\n",
       "      <th>Base</th>\n",
       "      <th>ConnectionPoint</th>\n",
       "      <th>FluorescentTag</th>\n",
       "      <th>AbsorptionWavelength</th>\n",
       "      <th>EmissionWavelength</th>\n",
       "      <th>QuantumYield</th>\n",
       "    </tr>\n",
       "  </thead>\n",
       "  <tbody>\n",
       "    <tr>\n",
       "      <th>2</th>\n",
       "      <td>Deoxyribose</td>\n",
       "      <td>C</td>\n",
       "      <td>C5</td>\n",
       "      <td>Benzopyrene</td>\n",
       "      <td>360</td>\n",
       "      <td>395</td>\n",
       "      <td></td>\n",
       "    </tr>\n",
       "    <tr>\n",
       "      <th>0</th>\n",
       "      <td>Ribose</td>\n",
       "      <td>C</td>\n",
       "      <td>C5</td>\n",
       "      <td></td>\n",
       "      <td>380</td>\n",
       "      <td>415</td>\n",
       "      <td>0.93</td>\n",
       "    </tr>\n",
       "    <tr>\n",
       "      <th>3</th>\n",
       "      <td>Deoxyribose</td>\n",
       "      <td>C</td>\n",
       "      <td>C6</td>\n",
       "      <td>Furan</td>\n",
       "      <td>390</td>\n",
       "      <td></td>\n",
       "      <td>0.75</td>\n",
       "    </tr>\n",
       "    <tr>\n",
       "      <th>1</th>\n",
       "      <td>Ribose</td>\n",
       "      <td>C</td>\n",
       "      <td>C6</td>\n",
       "      <td>Perylene</td>\n",
       "      <td></td>\n",
       "      <td>465</td>\n",
       "      <td>0.96</td>\n",
       "    </tr>\n",
       "  </tbody>\n",
       "</table>\n",
       "</div>"
      ],
      "text/plain": [
       "         Sugar Base ConnectionPoint FluorescentTag AbsorptionWavelength  \\\n",
       "2  Deoxyribose    C              C5    Benzopyrene                  360   \n",
       "0       Ribose    C              C5                                 380   \n",
       "3  Deoxyribose    C              C6          Furan                  390   \n",
       "1       Ribose    C              C6       Perylene                        \n",
       "\n",
       "  EmissionWavelength QuantumYield  \n",
       "2                395               \n",
       "0                415         0.93  \n",
       "3                            0.75  \n",
       "1                465         0.96  "
      ]
     },
     "metadata": {},
     "output_type": "display_data"
    }
   ],
   "source": [
    "\n",
    "display(nucleotides.sort_values([\"AbsorptionWavelength\",\"EmissionWavelength\",\"QuantumYield\"]).fillna(\"\"))"
   ]
  },
  {
   "cell_type": "markdown",
   "metadata": {},
   "source": [
    "Let's generate some random data to mess with."
   ]
  },
  {
   "cell_type": "code",
   "execution_count": 71,
   "metadata": {},
   "outputs": [],
   "source": [
    "import numpy as np\n",
    "base_list=[\"A_C2\",\"A_C8\",\"C_C5\",\"C_C6\",\"G_C2\",\"G_C8\",\"G_N7\",\"U_C6\",\"U_C5\",\"T_C6\"]\n",
    "sugar_list=[\"Ribose\",\"Deoxyribose\"]\n",
    "tag_list = [\"Perylene\",\"Benzopyrene\",\"Furan\",\"Naphthalene\",\"Beta Carotene\",\"Imidazole\"]\n",
    "nucleotides = pd.DataFrame(columns=df_columns)\n",
    "for base in base_list:\n",
    "    for sugar in sugar_list:\n",
    "        for tag in tag_list:\n",
    "            abs_wl = np.random.randint(355,800)\n",
    "            emi_wl = np.random.randint(abs_wl,850)\n",
    "            nucleotides = add_molecule(nucleotides,Sugar=sugar,Base=base.split(\"_\")[0],ConnectionPoint=base.split(\"_\")[1],FluorescentTag=tag,AbsorptionWavelength=abs_wl,EmissionWavelength=emi_wl,QuantumYield=round(np.random.rand(),2))"
   ]
  },
  {
   "cell_type": "code",
   "execution_count": 72,
   "metadata": {},
   "outputs": [
    {
     "data": {
      "text/html": [
       "<div>\n",
       "<style scoped>\n",
       "    .dataframe tbody tr th:only-of-type {\n",
       "        vertical-align: middle;\n",
       "    }\n",
       "\n",
       "    .dataframe tbody tr th {\n",
       "        vertical-align: top;\n",
       "    }\n",
       "\n",
       "    .dataframe thead th {\n",
       "        text-align: right;\n",
       "    }\n",
       "</style>\n",
       "<table border=\"1\" class=\"dataframe\">\n",
       "  <thead>\n",
       "    <tr style=\"text-align: right;\">\n",
       "      <th></th>\n",
       "      <th>Sugar</th>\n",
       "      <th>Base</th>\n",
       "      <th>ConnectionPoint</th>\n",
       "      <th>FluorescentTag</th>\n",
       "      <th>AbsorptionWavelength</th>\n",
       "      <th>EmissionWavelength</th>\n",
       "      <th>QuantumYield</th>\n",
       "    </tr>\n",
       "  </thead>\n",
       "  <tbody>\n",
       "    <tr>\n",
       "      <th>0</th>\n",
       "      <td>Ribose</td>\n",
       "      <td>A</td>\n",
       "      <td>C2</td>\n",
       "      <td>Perylene</td>\n",
       "      <td>561</td>\n",
       "      <td>828</td>\n",
       "      <td>0.65</td>\n",
       "    </tr>\n",
       "    <tr>\n",
       "      <th>1</th>\n",
       "      <td>Ribose</td>\n",
       "      <td>A</td>\n",
       "      <td>C2</td>\n",
       "      <td>Benzopyrene</td>\n",
       "      <td>664</td>\n",
       "      <td>771</td>\n",
       "      <td>0.55</td>\n",
       "    </tr>\n",
       "    <tr>\n",
       "      <th>2</th>\n",
       "      <td>Ribose</td>\n",
       "      <td>A</td>\n",
       "      <td>C2</td>\n",
       "      <td>Furan</td>\n",
       "      <td>604</td>\n",
       "      <td>737</td>\n",
       "      <td>0.09</td>\n",
       "    </tr>\n",
       "    <tr>\n",
       "      <th>3</th>\n",
       "      <td>Ribose</td>\n",
       "      <td>A</td>\n",
       "      <td>C2</td>\n",
       "      <td>Naphthalene</td>\n",
       "      <td>424</td>\n",
       "      <td>734</td>\n",
       "      <td>0.61</td>\n",
       "    </tr>\n",
       "    <tr>\n",
       "      <th>4</th>\n",
       "      <td>Ribose</td>\n",
       "      <td>A</td>\n",
       "      <td>C2</td>\n",
       "      <td>Beta Carotene</td>\n",
       "      <td>774</td>\n",
       "      <td>791</td>\n",
       "      <td>0.01</td>\n",
       "    </tr>\n",
       "    <tr>\n",
       "      <th>...</th>\n",
       "      <td>...</td>\n",
       "      <td>...</td>\n",
       "      <td>...</td>\n",
       "      <td>...</td>\n",
       "      <td>...</td>\n",
       "      <td>...</td>\n",
       "      <td>...</td>\n",
       "    </tr>\n",
       "    <tr>\n",
       "      <th>115</th>\n",
       "      <td>Deoxyribose</td>\n",
       "      <td>T</td>\n",
       "      <td>C6</td>\n",
       "      <td>Benzopyrene</td>\n",
       "      <td>602</td>\n",
       "      <td>808</td>\n",
       "      <td>0.38</td>\n",
       "    </tr>\n",
       "    <tr>\n",
       "      <th>116</th>\n",
       "      <td>Deoxyribose</td>\n",
       "      <td>T</td>\n",
       "      <td>C6</td>\n",
       "      <td>Furan</td>\n",
       "      <td>531</td>\n",
       "      <td>776</td>\n",
       "      <td>0.91</td>\n",
       "    </tr>\n",
       "    <tr>\n",
       "      <th>117</th>\n",
       "      <td>Deoxyribose</td>\n",
       "      <td>T</td>\n",
       "      <td>C6</td>\n",
       "      <td>Naphthalene</td>\n",
       "      <td>489</td>\n",
       "      <td>639</td>\n",
       "      <td>0.68</td>\n",
       "    </tr>\n",
       "    <tr>\n",
       "      <th>118</th>\n",
       "      <td>Deoxyribose</td>\n",
       "      <td>T</td>\n",
       "      <td>C6</td>\n",
       "      <td>Beta Carotene</td>\n",
       "      <td>697</td>\n",
       "      <td>757</td>\n",
       "      <td>0.11</td>\n",
       "    </tr>\n",
       "    <tr>\n",
       "      <th>119</th>\n",
       "      <td>Deoxyribose</td>\n",
       "      <td>T</td>\n",
       "      <td>C6</td>\n",
       "      <td>Imidazole</td>\n",
       "      <td>389</td>\n",
       "      <td>529</td>\n",
       "      <td>0.09</td>\n",
       "    </tr>\n",
       "  </tbody>\n",
       "</table>\n",
       "<p>120 rows × 7 columns</p>\n",
       "</div>"
      ],
      "text/plain": [
       "           Sugar Base ConnectionPoint FluorescentTag  AbsorptionWavelength  \\\n",
       "0         Ribose    A              C2       Perylene                   561   \n",
       "1         Ribose    A              C2    Benzopyrene                   664   \n",
       "2         Ribose    A              C2          Furan                   604   \n",
       "3         Ribose    A              C2    Naphthalene                   424   \n",
       "4         Ribose    A              C2  Beta Carotene                   774   \n",
       "..           ...  ...             ...            ...                   ...   \n",
       "115  Deoxyribose    T              C6    Benzopyrene                   602   \n",
       "116  Deoxyribose    T              C6          Furan                   531   \n",
       "117  Deoxyribose    T              C6    Naphthalene                   489   \n",
       "118  Deoxyribose    T              C6  Beta Carotene                   697   \n",
       "119  Deoxyribose    T              C6      Imidazole                   389   \n",
       "\n",
       "     EmissionWavelength  QuantumYield  \n",
       "0                   828          0.65  \n",
       "1                   771          0.55  \n",
       "2                   737          0.09  \n",
       "3                   734          0.61  \n",
       "4                   791          0.01  \n",
       "..                  ...           ...  \n",
       "115                 808          0.38  \n",
       "116                 776          0.91  \n",
       "117                 639          0.68  \n",
       "118                 757          0.11  \n",
       "119                 529          0.09  \n",
       "\n",
       "[120 rows x 7 columns]"
      ]
     },
     "metadata": {},
     "output_type": "display_data"
    }
   ],
   "source": [
    "display(nucleotides.fillna(\"\"))"
   ]
  },
  {
   "cell_type": "markdown",
   "metadata": {},
   "source": [
    "Note here that the full dataframe is not shown, but rather displays only the first five and last five rows.  The dimensions of the dataframe are given below it.  In this case, it's 120 rows and 7 columns.\n",
    "\n",
    "What if we wanted to sort the data by Quantum Yield?"
   ]
  },
  {
   "cell_type": "code",
   "execution_count": 73,
   "metadata": {},
   "outputs": [
    {
     "data": {
      "text/html": [
       "<div>\n",
       "<style scoped>\n",
       "    .dataframe tbody tr th:only-of-type {\n",
       "        vertical-align: middle;\n",
       "    }\n",
       "\n",
       "    .dataframe tbody tr th {\n",
       "        vertical-align: top;\n",
       "    }\n",
       "\n",
       "    .dataframe thead th {\n",
       "        text-align: right;\n",
       "    }\n",
       "</style>\n",
       "<table border=\"1\" class=\"dataframe\">\n",
       "  <thead>\n",
       "    <tr style=\"text-align: right;\">\n",
       "      <th></th>\n",
       "      <th>Sugar</th>\n",
       "      <th>Base</th>\n",
       "      <th>ConnectionPoint</th>\n",
       "      <th>FluorescentTag</th>\n",
       "      <th>AbsorptionWavelength</th>\n",
       "      <th>EmissionWavelength</th>\n",
       "      <th>QuantumYield</th>\n",
       "    </tr>\n",
       "  </thead>\n",
       "  <tbody>\n",
       "    <tr>\n",
       "      <th>83</th>\n",
       "      <td>Deoxyribose</td>\n",
       "      <td>G</td>\n",
       "      <td>N7</td>\n",
       "      <td>Imidazole</td>\n",
       "      <td>587</td>\n",
       "      <td>740</td>\n",
       "      <td>1.00</td>\n",
       "    </tr>\n",
       "    <tr>\n",
       "      <th>92</th>\n",
       "      <td>Deoxyribose</td>\n",
       "      <td>U</td>\n",
       "      <td>C6</td>\n",
       "      <td>Furan</td>\n",
       "      <td>724</td>\n",
       "      <td>846</td>\n",
       "      <td>0.99</td>\n",
       "    </tr>\n",
       "    <tr>\n",
       "      <th>21</th>\n",
       "      <td>Deoxyribose</td>\n",
       "      <td>A</td>\n",
       "      <td>C8</td>\n",
       "      <td>Naphthalene</td>\n",
       "      <td>513</td>\n",
       "      <td>765</td>\n",
       "      <td>0.98</td>\n",
       "    </tr>\n",
       "    <tr>\n",
       "      <th>70</th>\n",
       "      <td>Deoxyribose</td>\n",
       "      <td>G</td>\n",
       "      <td>C8</td>\n",
       "      <td>Beta Carotene</td>\n",
       "      <td>643</td>\n",
       "      <td>758</td>\n",
       "      <td>0.96</td>\n",
       "    </tr>\n",
       "    <tr>\n",
       "      <th>29</th>\n",
       "      <td>Ribose</td>\n",
       "      <td>C</td>\n",
       "      <td>C5</td>\n",
       "      <td>Imidazole</td>\n",
       "      <td>450</td>\n",
       "      <td>500</td>\n",
       "      <td>0.95</td>\n",
       "    </tr>\n",
       "    <tr>\n",
       "      <th>...</th>\n",
       "      <td>...</td>\n",
       "      <td>...</td>\n",
       "      <td>...</td>\n",
       "      <td>...</td>\n",
       "      <td>...</td>\n",
       "      <td>...</td>\n",
       "      <td>...</td>\n",
       "    </tr>\n",
       "    <tr>\n",
       "      <th>44</th>\n",
       "      <td>Deoxyribose</td>\n",
       "      <td>C</td>\n",
       "      <td>C6</td>\n",
       "      <td>Furan</td>\n",
       "      <td>588</td>\n",
       "      <td>828</td>\n",
       "      <td>0.06</td>\n",
       "    </tr>\n",
       "    <tr>\n",
       "      <th>89</th>\n",
       "      <td>Ribose</td>\n",
       "      <td>U</td>\n",
       "      <td>C6</td>\n",
       "      <td>Imidazole</td>\n",
       "      <td>415</td>\n",
       "      <td>707</td>\n",
       "      <td>0.03</td>\n",
       "    </tr>\n",
       "    <tr>\n",
       "      <th>26</th>\n",
       "      <td>Ribose</td>\n",
       "      <td>C</td>\n",
       "      <td>C5</td>\n",
       "      <td>Furan</td>\n",
       "      <td>761</td>\n",
       "      <td>797</td>\n",
       "      <td>0.01</td>\n",
       "    </tr>\n",
       "    <tr>\n",
       "      <th>110</th>\n",
       "      <td>Ribose</td>\n",
       "      <td>T</td>\n",
       "      <td>C6</td>\n",
       "      <td>Furan</td>\n",
       "      <td>419</td>\n",
       "      <td>472</td>\n",
       "      <td>0.01</td>\n",
       "    </tr>\n",
       "    <tr>\n",
       "      <th>4</th>\n",
       "      <td>Ribose</td>\n",
       "      <td>A</td>\n",
       "      <td>C2</td>\n",
       "      <td>Beta Carotene</td>\n",
       "      <td>774</td>\n",
       "      <td>791</td>\n",
       "      <td>0.01</td>\n",
       "    </tr>\n",
       "  </tbody>\n",
       "</table>\n",
       "<p>120 rows × 7 columns</p>\n",
       "</div>"
      ],
      "text/plain": [
       "           Sugar Base ConnectionPoint FluorescentTag AbsorptionWavelength  \\\n",
       "83   Deoxyribose    G              N7      Imidazole                  587   \n",
       "92   Deoxyribose    U              C6          Furan                  724   \n",
       "21   Deoxyribose    A              C8    Naphthalene                  513   \n",
       "70   Deoxyribose    G              C8  Beta Carotene                  643   \n",
       "29        Ribose    C              C5      Imidazole                  450   \n",
       "..           ...  ...             ...            ...                  ...   \n",
       "44   Deoxyribose    C              C6          Furan                  588   \n",
       "89        Ribose    U              C6      Imidazole                  415   \n",
       "26        Ribose    C              C5          Furan                  761   \n",
       "110       Ribose    T              C6          Furan                  419   \n",
       "4         Ribose    A              C2  Beta Carotene                  774   \n",
       "\n",
       "    EmissionWavelength  QuantumYield  \n",
       "83                 740          1.00  \n",
       "92                 846          0.99  \n",
       "21                 765          0.98  \n",
       "70                 758          0.96  \n",
       "29                 500          0.95  \n",
       "..                 ...           ...  \n",
       "44                 828          0.06  \n",
       "89                 707          0.03  \n",
       "26                 797          0.01  \n",
       "110                472          0.01  \n",
       "4                  791          0.01  \n",
       "\n",
       "[120 rows x 7 columns]"
      ]
     },
     "execution_count": 73,
     "metadata": {},
     "output_type": "execute_result"
    }
   ],
   "source": [
    "nucleotides.sort_values(\"QuantumYield\",ascending=False)"
   ]
  },
  {
   "cell_type": "markdown",
   "metadata": {},
   "source": [
    "Keep in mind that the above result did not sort the dataframe in itself, it just presented the results of a sorting algorithm applied to it.  Note the indices on the left side and how they're out of order.\n",
    "\n",
    "Now, what if we wanted to plot some of the data from our dataframe?\n",
    "\n",
    "If our dataframe is simple enough, we can just call the `plot()` function directly from it, which returns a `matplotlib Axes` object."
   ]
  },
  {
   "cell_type": "code",
   "execution_count": 83,
   "metadata": {},
   "outputs": [
    {
     "data": {
      "text/plain": [
       "<Figure size 1500x1200 with 0 Axes>"
      ]
     },
     "metadata": {},
     "output_type": "display_data"
    },
    {
     "data": {
      "image/png": "[encoded data removed]",
      "text/plain": [
       "<Figure size 432x288 with 1 Axes>"
      ]
     },
     "metadata": {
      "needs_background": "light"
     },
     "output_type": "display_data"
    }
   ],
   "source": [
    "import matplotlib.pyplot as plt\n",
    "fig = plt.figure(figsize=[5,4],dpi=300)\n",
    "ax = nucleotides.plot()\n"
   ]
  },
  {
   "cell_type": "markdown",
   "metadata": {},
   "source": [
    "We can also simply call columns of our data as though they were any other array of numbers (assuming the column is, in fact, strictly numerical)."
   ]
  },
  {
   "cell_type": "code",
   "execution_count": 85,
   "metadata": {},
   "outputs": [
    {
     "data": {
      "text/plain": [
       "<matplotlib.collections.PathCollection at 0x7f45f705cfd0>"
      ]
     },
     "execution_count": 85,
     "metadata": {},
     "output_type": "execute_result"
    },
    {
     "data": {
      "image/png": "[encoded data removed]",
      "text/plain": [
       "<Figure size 1500x1200 with 1 Axes>"
      ]
     },
     "metadata": {
      "needs_background": "light"
     },
     "output_type": "display_data"
    }
   ],
   "source": [
    "import matplotlib.pyplot as plt\n",
    "fig = plt.figure(figsize=[5,4],dpi=300)\n",
    "ax = fig.add_subplot(1,1,1)\n",
    "ax.scatter(nucleotides[\"AbsorptionWavelength\"],nucleotides[\"EmissionWavelength\"],s=nucleotides[\"QuantumYield\"]*5)\n",
    "\n",
    "### I have included the QuantumYield column values as the marker size variable so that each point gives us the absorption/emission wavelengths and the quantum yields."
   ]
  },
  {
   "cell_type": "code",
   "execution_count": null,
   "metadata": {},
   "outputs": [],
   "source": []
  }
 ],
 "metadata": {
  "kernelspec": {
   "display_name": "Python 3 (ipykernel)",
   "language": "python",
   "name": "python3"
  },
  "language_info": {
   "codemirror_mode": {
    "name": "ipython",
    "version": 3
   },
   "file_extension": ".py",
   "mimetype": "text/x-python",
   "name": "python",
   "nbconvert_exporter": "python",
   "pygments_lexer": "ipython3",
   "version": "3.9.7"
  },
  "vscode": {
   "interpreter": {
    "hash": "c7f5e592c43e0bb3865fa17512643febd83867b1832dfdc95e4b02df1a0eafd5"
   }
  }
 },
 "nbformat": 4,
 "nbformat_minor": 2
}
