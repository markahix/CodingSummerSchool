{
 "cells": [
  {
   "cell_type": "markdown",
   "metadata": {},
   "source": [
    "# Python File I/O\n",
    "\n",
    "I/O stands for \"Input/Output\".  Loading files into your programs, parsing the data inside, and being able to use, manipulate, transform, present, and save the results is a very important skillset."
   ]
  },
  {
   "cell_type": "markdown",
   "metadata": {},
   "source": [
    "### Reading Files\n",
    "Python has a few different ways to read files, but for now we'll stick with plain-text files like you'll get from various analysis programs or computational chemistry software packages.  Python can also read binary data files, but that's generally more advanced and requires a bit more experience.\n",
    "\n",
    "The number one rule to remember for any and all files is that if you **open** it, you must **close** it.  A file that is opened and never closed can either wind up inaccessible to other programs or the user, or the data that was meant to be stored within can be lost.\n",
    "\n",
    "See the example below.  With the `open` function, we create a **file object** that has several useful internal functions we can take advantage of.  `open()` takes two arguments - the filename first, then the type of action to be taken on the file.  \"r\" is for \"read mode\", \"w\" is for \"write mode\" which starts at the beginning of the file and writes (including overwriting!), and \"a\" is for \"append mode\", which acts like \"write mode\" except that it adds to the end of the file rather than overwriting it."
   ]
  },
  {
   "cell_type": "code",
   "execution_count": 6,
   "metadata": {},
   "outputs": [
    {
     "name": "stdout",
     "output_type": "stream",
     "text": [
      "<class 'str'>\n",
      "This is just a normal text file.\n",
      "There are words.  There are sentences.  There are lines.  \n",
      "\n",
      "There was even a blank line.\n",
      "After this sentence is the end of the file, usually called \"EOF\".\n"
     ]
    }
   ],
   "source": [
    "myfile = open(\"test_data/file_reading.txt\",\"r\")\n",
    "\n",
    "contents = myfile.read()\n",
    "\n",
    "print(type(contents))\n",
    "print(contents)\n",
    "\n",
    "myfile.close()"
   ]
  },
  {
   "cell_type": "markdown",
   "metadata": {},
   "source": [
    "As you can see, the entire file can be read into a single string, which includes all the line breaks and everything within.  This can be easiest if you have a small file, or if you know exactly the structure of the data inside.\n",
    "\n",
    "There is also a function that can read one line at a time.  This function, `readline()`, returns the *next* line in the file, up to the newline character, `\\n`.  We often use this if the file is large, or if there are multiple line formats in the file (such as we might see in a TeraChem output file), or if we want to keep memory usage low."
   ]
  },
  {
   "cell_type": "code",
   "execution_count": 10,
   "metadata": {},
   "outputs": [
    {
     "name": "stdout",
     "output_type": "stream",
     "text": [
      "This is just a normal text file.\n",
      "\n",
      "There are words.  There are sentences.  There are lines.  \n",
      "\n",
      "\n",
      "\n",
      "There was even a blank line.\n",
      "\n"
     ]
    }
   ],
   "source": [
    "myfile = open(\"test_data/file_reading.txt\",\"r\")\n",
    "\n",
    "contents = myfile.readline()\n",
    "print(contents)\n",
    "\n",
    "### We've already read the first line, but if we do the same set of commands again, we'll get the next line\n",
    "\n",
    "contents = myfile.readline()\n",
    "print(contents)\n",
    "\n",
    "### And again, for the third. (see above, the third line is blank!)\n",
    "\n",
    "contents = myfile.readline()\n",
    "print(contents)\n",
    "\n",
    "### Fourth\n",
    "\n",
    "contents = myfile.readline()\n",
    "print(contents)\n",
    "\n",
    "myfile.close()"
   ]
  },
  {
   "cell_type": "markdown",
   "metadata": {},
   "source": [
    "We can also get and keep all the lines in memory stored as a `list`, with each element of the list holding one line of the file as a string.  This uses a function called `readlines()`, which has the `s` at the end to keep it separate from the last function, `readline()`.\n"
   ]
  },
  {
   "cell_type": "code",
   "execution_count": 12,
   "metadata": {},
   "outputs": [
    {
     "name": "stdout",
     "output_type": "stream",
     "text": [
      "['This is just a normal text file.\\n', 'There are words.  There are sentences.  There are lines.  \\n', '\\n', 'There was even a blank line.\\n', 'After this sentence is the end of the file, usually called \"EOF\".']\n"
     ]
    }
   ],
   "source": [
    "myfile = open(\"test_data/file_reading.txt\",\"r\")\n",
    "all_lines=myfile.readlines()\n",
    "print(all_lines)\n",
    "myfile.close()"
   ]
  },
  {
   "cell_type": "markdown",
   "metadata": {},
   "source": [
    "Now you can see all the lines in the file, but presented as a list of strings instead of the formatted text.  With the list structure of the `readlines()` function, you can then do more complicated things to the individual lines by iterating through the list, or choose specific lines with list-slicing like we discussed previously."
   ]
  },
  {
   "cell_type": "code",
   "execution_count": 14,
   "metadata": {},
   "outputs": [
    {
     "name": "stdout",
     "output_type": "stream",
     "text": [
      "There are words.  There are sentences.  There are lines.  \n",
      "\n",
      "There was even a blank line.\n",
      "\n"
     ]
    }
   ],
   "source": [
    "for line in all_lines:\n",
    "    if \"There\" in line:\n",
    "        print(line)"
   ]
  },
  {
   "cell_type": "markdown",
   "metadata": {},
   "source": [
    "You can also further split up the lines with the `.split()` function available to any string object."
   ]
  },
  {
   "cell_type": "code",
   "execution_count": 15,
   "metadata": {},
   "outputs": [
    {
     "name": "stdout",
     "output_type": "stream",
     "text": [
      "['This', 'is', 'just', 'a', 'normal', 'text', 'file.']\n",
      "['There', 'are', 'words.', 'There', 'are', 'sentences.', 'There', 'are', 'lines.']\n",
      "[]\n",
      "['There', 'was', 'even', 'a', 'blank', 'line.']\n",
      "['After', 'this', 'sentence', 'is', 'the', 'end', 'of', 'the', 'file,', 'usually', 'called', '\"EOF\".']\n"
     ]
    }
   ],
   "source": [
    "for line in all_lines:\n",
    "    print(line.split())"
   ]
  },
  {
   "cell_type": "markdown",
   "metadata": {},
   "source": [
    "With this in mind, can you write a function to search the `TeraChemOutput.out` file (included in the `test_data` folder) for every instance of \"RMS grad\"?"
   ]
  },
  {
   "cell_type": "code",
   "execution_count": null,
   "metadata": {},
   "outputs": [],
   "source": [
    "### Your code goes here!"
   ]
  },
  {
   "cell_type": "markdown",
   "metadata": {},
   "source": [
    "Now that you can find all the lines with \"RMS grad\" in them, can you extract the current value at each line and add it to a dataset?\n",
    "\n",
    "*Hint:  use the `append` function, and don't forget to convert from a string to a float!*"
   ]
  },
  {
   "cell_type": "code",
   "execution_count": 5,
   "metadata": {},
   "outputs": [],
   "source": [
    "dataset = []\n",
    "\n",
    "### Your code goes here!\n"
   ]
  },
  {
   "cell_type": "markdown",
   "metadata": {},
   "source": [
    "If you were successful in finding, extracting, and storing the \"RMS grad\" value for each occurrence in the file, run the next cell to see that data plotted!"
   ]
  },
  {
   "cell_type": "code",
   "execution_count": 6,
   "metadata": {},
   "outputs": [
    {
     "data": {
      "text/plain": [
       "[<matplotlib.lines.Line2D at 0x7fb50353f490>]"
      ]
     },
     "execution_count": 6,
     "metadata": {},
     "output_type": "execute_result"
    },
    {
     "data": {
      "image/png": "[encoded data removed]",
      "text/plain": [
       "<Figure size 432x288 with 1 Axes>"
      ]
     },
     "metadata": {
      "needs_background": "light"
     },
     "output_type": "display_data"
    }
   ],
   "source": [
    "import matplotlib.pyplot as plt\n",
    "plt.plot(dataset)"
   ]
  },
  {
   "cell_type": "markdown",
   "metadata": {},
   "source": [
    "You can see how useful parsing datafiles can be, especially when those datafiles aren't as neatly formatted as a CPPTRAJ output, or when there is lots of different kinds of data that you may not need or want at that moment.\n",
    "\n",
    "But what about writing your own outputs?\n",
    "\n",
    "### Writing Files\n",
    "\n",
    "To write to a file, you start in much the same way as reading, except you open the file in \"w\" or \"a\" mode.  The file, if it doesn't already exist, will be created on `open` and saved on `close`, so again be sure to close every file you open."
   ]
  },
  {
   "cell_type": "code",
   "execution_count": 7,
   "metadata": {},
   "outputs": [],
   "source": [
    "myfile = open(\"test_data/writing_outputs.txt\",\"w\")\n",
    "\n",
    "myfile.write(\"This is the text I am writing. \")\n",
    "myfile.write(\"Notice how there is no newline after the last sentence... \")\n",
    "myfile.write(\"You have to include the newline character explicitly when writing to a file.\\n\")\n",
    "myfile.write(\"\\n\")\n",
    "myfile.write(\"Like that!\\n\")\n",
    "\n",
    "myfile.close()\n"
   ]
  },
  {
   "cell_type": "markdown",
   "metadata": {},
   "source": [
    "You can also write data with specific formatting, producing nice neat columns of data that can make it easier to read and analyze.  You can use string-formatting to specify the allowed width of sections of a line.\n",
    "\n",
    "Consider the following set of data:\n"
   ]
  },
  {
   "cell_type": "code",
   "execution_count": 11,
   "metadata": {},
   "outputs": [],
   "source": [
    "people = [  {\"Name\":\"Bobby\",\"Age\":25,\"Class\":\"First-Year\",\"GPA\":3.95},\n",
    "            {\"Name\":\"Charlie\",\"Age\":27,\"Class\":\"Second-Year\",\"GPA\":3.87},\n",
    "            {\"Name\":\"David\",\"Age\":26,\"Class\":\"First-Year\",\"GPA\":4}]\n",
    "\n",
    "myfile = open(\"test_data/people_test.txt\",\"w\")\n",
    "myfile.write(f\"{'Name':<20} {'Age':>10} {'Class':<20} {'GPA':>10}\\n\")\n",
    "myfile.write(\"---------------------------------------------------------------\\n\")\n",
    "for person in people:\n",
    "    myfile.write(f\"{person['Name']:<20} {person['Age']:>10} {person['Class']:<20} {person['GPA']:>10.4f}\\n\")\n",
    "myfile.close()"
   ]
  },
  {
   "cell_type": "markdown",
   "metadata": {},
   "source": [
    "If you open the file we've just created, it should look like this:\n",
    "\n",
    "```\n",
    "Name                        Age Class                       GPA\n",
    "-------------------- ---------- -------------------- ----------\n",
    "Bobby                        25 First-Year               3.9500\n",
    "Charlie                      27 Second-Year              3.8700\n",
    "David                        26 First-Year               4.0000\n",
    "```\n",
    "\n",
    "Notice that the first column is left justified and has empty spaces out to the specified length of 20 characters.  Next, \"Age\" is right-justified with 10 spaces total.  Class is left-justified again with twenty, and GPA is right-justified *with trailing zeros*, which we specified with the `.4f` addition, indicating we wanted four decimal places and that the value is to be treated like a float.  I also included some blank spaces between each of the variables being printed 1) to show you where each section begins and ends, and 2) to illustrate how you should be careful when using justifications so you don't wind up with Age and Class stuck together as a single value.\n",
    "\n",
    "Also notice that there is a `\\n` character at the end of each line in the code.  This ensures that the text file is properly separated by lines - python won't write what you don't tell it to write.\n",
    "\n",
    "What if we want to add to a file that already exists?  Simple, use \"append mode\", or open with \"a\"."
   ]
  },
  {
   "cell_type": "code",
   "execution_count": 12,
   "metadata": {},
   "outputs": [],
   "source": [
    "people = [  {\"Name\":\"Esther\",\"Age\":24,\"Class\":\"First-Year\",\"GPA\":3.96},\n",
    "            {\"Name\":\"Frances\",\"Age\":28,\"Class\":\"Second-Year\",\"GPA\":3.99},\n",
    "            {\"Name\":\"Gloria\",\"Age\":27,\"Class\":\"First-Year\",\"GPA\":4}]\n",
    "\n",
    "myfile = open(\"test_data/people_test.txt\",\"a\")\n",
    "for person in people:\n",
    "    myfile.write(f\"{person['Name']:<20} {person['Age']:>10} {person['Class']:<20} {person['GPA']:>10.4f}\\n\")\n",
    "myfile.close()"
   ]
  },
  {
   "cell_type": "markdown",
   "metadata": {},
   "source": [
    "Now if we reopen the file we created, we can see the addition of the next three people to the list!  This can be useful for things like logging results over the course of a longer calculation, where you might not want the file to be kept open and in memory for the entire time, but still want to add to it on occasion.\n",
    "\n",
    "File I/O can help you find, organize, and process your data in a way that makes sense to you."
   ]
  }
 ],
 "metadata": {
  "kernelspec": {
   "display_name": "Python 3.9.7 ('base')",
   "language": "python",
   "name": "python3"
  },
  "language_info": {
   "codemirror_mode": {
    "name": "ipython",
    "version": 3
   },
   "file_extension": ".py",
   "mimetype": "text/x-python",
   "name": "python",
   "nbconvert_exporter": "python",
   "pygments_lexer": "ipython3",
   "version": "3.9.7"
  },
  "orig_nbformat": 4,
  "vscode": {
   "interpreter": {
    "hash": "c7f5e592c43e0bb3865fa17512643febd83867b1832dfdc95e4b02df1a0eafd5"
   }
  }
 },
 "nbformat": 4,
 "nbformat_minor": 2
}
