{
 "cells": [
  {
   "cell_type": "markdown",
   "metadata": {},
   "source": [
    "# Python Classes - Project!\n",
    "\n",
    "Let's build some classes of our own!  \n",
    "\n",
    "1. Write a class to hold a dictionary of TeraChem keywords and their values.  Include a function to print out these keyword/value combinations similar to how they would appear in a TeraChem input file.\n",
    "2. Write a class that takes a single filename (without the extension) and creates its own set of filenames (WITH extension) to use as a TeraChem command line.  Include a function that prints out the custom TeraChem command line.  Include an option to send the command to the background immediately, freeing up the python interpreter for any additional work.\n",
    "3. Write a set of classes to hold information about your research projects.  The main class should have basic information like \"Topic\" or \"Date Started\".  Then, use inheritance to create some subclasses for things like \"Collaborations\" or \"Internal\" or \"Single Author\" projects.  You can decide what kinds of information each of these unique classes might need.\n",
    "\n",
    "Try instantiating (*fancy word for creating*) instances of each of your new classes, call their internal functions, print out different internal variables, etc.  Have fun, make a mess, go wild!"
   ]
  },
  {
   "cell_type": "code",
   "execution_count": null,
   "metadata": {},
   "outputs": [],
   "source": []
  }
 ],
 "metadata": {
  "kernelspec": {
   "display_name": "Python 3 (ipykernel)",
   "language": "python",
   "name": "python3"
  },
  "language_info": {
   "codemirror_mode": {
    "name": "ipython",
    "version": 3
   },
   "file_extension": ".py",
   "mimetype": "text/x-python",
   "name": "python",
   "nbconvert_exporter": "python",
   "pygments_lexer": "ipython3",
   "version": "3.9.7"
  },
  "vscode": {
   "interpreter": {
    "hash": "c7f5e592c43e0bb3865fa17512643febd83867b1832dfdc95e4b02df1a0eafd5"
   }
  }
 },
 "nbformat": 4,
 "nbformat_minor": 2
}
