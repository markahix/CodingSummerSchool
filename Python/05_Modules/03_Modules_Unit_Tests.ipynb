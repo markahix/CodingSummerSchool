{
 "cells": [
  {
   "cell_type": "markdown",
   "metadata": {},
   "source": [
    "# Modules - Unit Tests and Code Maintenance\n",
    "\n",
    "It's important when creating programs to ensure each function works properly on its own and as part of the larger ecosystem.  For this purpose, we'll use `pytest`, though there are other options out there.\n",
    "\n",
    "You can create a test script with your modules to ensure that each function you make does its specific task appropriately.  Each test function should be preceded by `test_` for pytest to detect and run them.\n",
    "\n",
    "Any test scripts should include the same prefix as well.  These rules ensure that `pytest` discovers the tests it is expected to run without trying to treat other files and functions as tests.\n",
    "\n",
    "A common approach to testing is to have a specific folder for tests in the main module directory, with any necessary test data and scripts held inside.\n",
    "\n",
    "The next cell will check to see if you have `pytest` installed, and if not, will install it for you.  It should only need to run once."
   ]
  },
  {
   "cell_type": "code",
   "execution_count": 5,
   "metadata": {},
   "outputs": [],
   "source": [
    "try:\n",
    "    import pytest\n",
    "except:\n",
    "    !pip install -U pytest\n",
    "    import pytest"
   ]
  },
  {
   "cell_type": "markdown",
   "metadata": {},
   "source": [
    "#### Tests and the `assert` function\n",
    "\n",
    "Pytest makes use of the built-in `assert` function in python.  Assert makes a comparison between two values and returns a `True` or `False`, which gets interpreted as a pass/fail in the test environment.\n",
    "\n",
    "Consider the following functions in a script called `test_mystuff.py` (the cell below is the same as the contents of that file.)"
   ]
  },
  {
   "cell_type": "code",
   "execution_count": 10,
   "metadata": {},
   "outputs": [],
   "source": [
    "def cool_function(x,y):\n",
    "    \"\"\"We expect this function to return the numerical product of two numbers x and y.\"\"\"\n",
    "    return x*y\n",
    "\n",
    "def test_cool_function_pass1():\n",
    "    assert cool_function(3,4) == 12  ## SHOULD PASS\n",
    "def test_cool_function_pass2():\n",
    "    assert cool_function(2,4) == 8  ## SHOULD PASS\n",
    "def test_cool_function_pass3():\n",
    "    assert cool_function(4,4) == 16  ## SHOULD PASS\n",
    "def test_cool_function_fail1():\n",
    "    assert cool_function(3,4) == 11  ## SHOULD FAIL\n",
    "def test_cool_function_pass4():\n",
    "    assert cool_function(5,20) == 100  ## SHOULD PASS\n",
    "def test_cool_function_pass5():\n",
    "    assert cool_function(3,5) == 15  ## SHOULD PASS\n",
    "\n"
   ]
  },
  {
   "cell_type": "markdown",
   "metadata": {},
   "source": [
    "With the function we wrote and the test functions, we can run `pytest` in the directory and it will find any and all test files, and any test functions, and check them for us.  The following cell will do this for us and print out the results.  Keep in mind, we wrote one of our tests to intentionally fail - this is to show you what it will look like so you'll know how to recognize it in the future."
   ]
  },
  {
   "cell_type": "code",
   "execution_count": 12,
   "metadata": {},
   "outputs": [
    {
     "name": "stdout",
     "output_type": "stream",
     "text": [
      "\u001b[1m============================= test session starts ==============================\u001b[0m\n",
      "platform linux -- Python 3.9.7, pytest-7.1.2, pluggy-0.13.1\n",
      "rootdir: /home/mark/GH_Repositories/CodingSummerSchool/Day04_Python_Modules\n",
      "plugins: anyio-2.2.0\n",
      "collected 6 items                                                              \u001b[0m\n",
      "\n",
      "test_mystuff.py \u001b[32m.\u001b[0m\u001b[32m.\u001b[0m\u001b[32m.\u001b[0m\u001b[31mF\u001b[0m\u001b[32m.\u001b[0m\u001b[32m.\u001b[0m\u001b[31m                                                   [100%]\u001b[0m\n",
      "\n",
      "=================================== FAILURES ===================================\n",
      "\u001b[31m\u001b[1m___________________________ test_cool_function_fail1 ___________________________\u001b[0m\n",
      "\n",
      "    \u001b[94mdef\u001b[39;49;00m \u001b[92mtest_cool_function_fail1\u001b[39;49;00m():\n",
      ">       \u001b[94massert\u001b[39;49;00m cool_function(\u001b[94m3\u001b[39;49;00m,\u001b[94m4\u001b[39;49;00m) == \u001b[94m11\u001b[39;49;00m\n",
      "\u001b[1m\u001b[31mE       assert 12 == 11\u001b[0m\n",
      "\u001b[1m\u001b[31mE        +  where 12 = cool_function(3, 4)\u001b[0m\n",
      "\n",
      "\u001b[1m\u001b[31mtest_mystuff.py\u001b[0m:12: AssertionError\n",
      "=========================== short test summary info ============================\n",
      "FAILED test_mystuff.py::test_cool_function_fail1 - assert 12 == 11\n",
      "\u001b[31m========================= \u001b[31m\u001b[1m1 failed\u001b[0m, \u001b[32m5 passed\u001b[0m\u001b[31m in 0.04s\u001b[0m\u001b[31m ==========================\u001b[0m\n"
     ]
    }
   ],
   "source": [
    "# In Jupyter/VSCode notebook environments, the ! before a normal shell command \n",
    "# will direct the notebook to run that line in the shell environment rather \n",
    "# than as a python command.\n",
    "!pytest "
   ]
  },
  {
   "cell_type": "markdown",
   "metadata": {},
   "source": [
    "Notice the first section, which lists the file that was tested (`test_mystuff.py`), and lists the passes and failures in order with the dot/\"F\".  It also shows that `pytest` completed 100% of the file.  Below, you see the more detailed report on the failures (nothing is given for the passes by default because... they passed).\n",
    "\n",
    "The failures are shown so that you can see exactly *where* a function failed.  You can use this method to test complex constructs like classes as well, by simply having multiple `assert` commands in your test functions.  Here's another example with a basic class.  The following cell is also in `test_myclass.py`"
   ]
  },
  {
   "cell_type": "code",
   "execution_count": 14,
   "metadata": {},
   "outputs": [],
   "source": [
    "class Person:\n",
    "    def __init__(self,name,age,university):\n",
    "        self.name = name\n",
    "        self.age = age\n",
    "        self.uni = university\n",
    "\n",
    "def test_Person_PASS():\n",
    "    test = Person(\"Mark\",37,\"Wayne State University\")\n",
    "    assert test.name == \"Mark\"\n",
    "    assert test.age == 37\n",
    "    assert test.uni == \"Wayne State University\"\n",
    "\n",
    "def test_Person_FAIL():\n",
    "    test = Person(\"Mark\",37,\"Wayne State University\")\n",
    "    assert test.name == \"Mark\"\n",
    "    assert test.age == 37\n",
    "    assert test.uni == \"Wayne State Universe\" ### Notice how this is not correct.\n"
   ]
  },
  {
   "cell_type": "code",
   "execution_count": 15,
   "metadata": {},
   "outputs": [
    {
     "name": "stdout",
     "output_type": "stream",
     "text": [
      "\u001b[1m============================= test session starts ==============================\u001b[0m\n",
      "platform linux -- Python 3.9.7, pytest-7.1.2, pluggy-0.13.1\n",
      "rootdir: /home/mark/GH_Repositories/CodingSummerSchool/Day04_Python_Modules\n",
      "plugins: anyio-2.2.0\n",
      "collected 8 items                                                              \u001b[0m\n",
      "\n",
      "test_myclass.py \u001b[32m.\u001b[0m\u001b[31mF\u001b[0m\u001b[31m                                                       [ 25%]\u001b[0m\n",
      "test_mystuff.py \u001b[32m.\u001b[0m\u001b[32m.\u001b[0m\u001b[32m.\u001b[0m\u001b[31mF\u001b[0m\u001b[32m.\u001b[0m\u001b[32m.\u001b[0m\u001b[31m                                                   [100%]\u001b[0m\n",
      "\n",
      "=================================== FAILURES ===================================\n",
      "\u001b[31m\u001b[1m_______________________________ test_Person_FAIL _______________________________\u001b[0m\n",
      "\n",
      "    \u001b[94mdef\u001b[39;49;00m \u001b[92mtest_Person_FAIL\u001b[39;49;00m():\n",
      "        test = Person(\u001b[33m\"\u001b[39;49;00m\u001b[33mMark\u001b[39;49;00m\u001b[33m\"\u001b[39;49;00m,\u001b[94m37\u001b[39;49;00m,\u001b[33m\"\u001b[39;49;00m\u001b[33mWayne State University\u001b[39;49;00m\u001b[33m\"\u001b[39;49;00m)\n",
      "        \u001b[94massert\u001b[39;49;00m test.name == \u001b[33m\"\u001b[39;49;00m\u001b[33mMark\u001b[39;49;00m\u001b[33m\"\u001b[39;49;00m\n",
      "        \u001b[94massert\u001b[39;49;00m test.age == \u001b[94m37\u001b[39;49;00m\n",
      ">       \u001b[94massert\u001b[39;49;00m test.uni == \u001b[33m\"\u001b[39;49;00m\u001b[33mWayne State Universe\u001b[39;49;00m\u001b[33m\"\u001b[39;49;00m \u001b[90m### Notice how this is not correct.\u001b[39;49;00m\n",
      "\u001b[1m\u001b[31mE       AssertionError: assert 'Wayne State University' == 'Wayne State Universe'\u001b[0m\n",
      "\u001b[1m\u001b[31mE         - Wayne State Universe\u001b[0m\n",
      "\u001b[1m\u001b[31mE         ?                    ^\u001b[0m\n",
      "\u001b[1m\u001b[31mE         + Wayne State University\u001b[0m\n",
      "\u001b[1m\u001b[31mE         ?                    ^^^\u001b[0m\n",
      "\n",
      "\u001b[1m\u001b[31mtest_myclass.py\u001b[0m:17: AssertionError\n",
      "\u001b[31m\u001b[1m___________________________ test_cool_function_fail1 ___________________________\u001b[0m\n",
      "\n",
      "    \u001b[94mdef\u001b[39;49;00m \u001b[92mtest_cool_function_fail1\u001b[39;49;00m():\n",
      ">       \u001b[94massert\u001b[39;49;00m cool_function(\u001b[94m3\u001b[39;49;00m,\u001b[94m4\u001b[39;49;00m) == \u001b[94m11\u001b[39;49;00m\n",
      "\u001b[1m\u001b[31mE       assert 12 == 11\u001b[0m\n",
      "\u001b[1m\u001b[31mE        +  where 12 = cool_function(3, 4)\u001b[0m\n",
      "\n",
      "\u001b[1m\u001b[31mtest_mystuff.py\u001b[0m:12: AssertionError\n",
      "=========================== short test summary info ============================\n",
      "FAILED test_myclass.py::test_Person_FAIL - AssertionError: assert 'Wayne Stat...\n",
      "FAILED test_mystuff.py::test_cool_function_fail1 - assert 12 == 11\n",
      "\u001b[31m========================= \u001b[31m\u001b[1m2 failed\u001b[0m, \u001b[32m6 passed\u001b[0m\u001b[31m in 0.04s\u001b[0m\u001b[31m ==========================\u001b[0m\n"
     ]
    }
   ],
   "source": [
    "!pytest "
   ]
  },
  {
   "cell_type": "markdown",
   "metadata": {},
   "source": [
    "The `pytest` run now also gives us a summary of the different files and their failures in addition to the more thorough breakdown of each failure.  Pytest can be extremely useful in finding and fixing bugs in your code, especially as the code gets bigger and more complex.\n",
    "\n",
    "There are many more things you can do with pytest as you become more advanced in other aspects of python programming, such as testing error handling and making sure that the code handles user errors properly.\n",
    "\n",
    "[Pytest Documentation](https://docs.pytest.org/_/downloads/en/latest/pdf/)\n",
    "\n",
    "You can also build test *classes* in addition to test *functions*.  This can allow you to use more complex data structures with multiple test functions as well as ensure that the different functions of a class interact appropriately and correctly.\n",
    "\n",
    "In most code-heavy jobs, it is generally expected that you will include tests with code you write.  Thus, it's good practice to write tests alongside your actual programs and functions.  It'll also make it easier to spot problems early before they become larger problems that are harder to deal with because there are more functions and classes built upon them."
   ]
  },
  {
   "cell_type": "markdown",
   "metadata": {},
   "source": []
  }
 ],
 "metadata": {
  "kernelspec": {
   "display_name": "Python 3 (ipykernel)",
   "language": "python",
   "name": "python3"
  },
  "language_info": {
   "codemirror_mode": {
    "name": "ipython",
    "version": 3
   },
   "file_extension": ".py",
   "mimetype": "text/x-python",
   "name": "python",
   "nbconvert_exporter": "python",
   "pygments_lexer": "ipython3",
   "version": "3.9.7"
  },
  "vscode": {
   "interpreter": {
    "hash": "c7f5e592c43e0bb3865fa17512643febd83867b1832dfdc95e4b02df1a0eafd5"
   }
  }
 },
 "nbformat": 4,
 "nbformat_minor": 2
}
