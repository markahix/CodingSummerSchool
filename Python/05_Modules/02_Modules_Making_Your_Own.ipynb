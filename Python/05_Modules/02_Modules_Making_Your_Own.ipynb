{
 "cells": [
  {
   "cell_type": "markdown",
   "metadata": {},
   "source": [
    "# Modules - Making Your Own\n",
    "\n",
    "As you progress in coding, you may find yourself with a whole pile of various tools and functions that do a wide array of useful things.  It might become helpful to keep them all in a single location, but organized for easier access.\n",
    "\n",
    "Python modules can be made in a fairly straightforward way.  Each module is contained inside a folder, and at a minimum there will be one file in the folder called `__init__.py`.  This file must be present for the module to be imported, including any submodules.  Any submodules should be their own folders, each with their own `__init__.py` inside, and so forth.  This can be arbitrarily deep, but be careful not to go too far down a well of submodules.\n",
    "\n",
    "```\n",
    "MyModule/\n",
    "├- __init__.py\n",
    "├- Submodule1/\n",
    "|  ├- __init__.py\n",
    "|  ├- blueberry.py\n",
    "|  ├- lemon_meringue.py\n",
    "├- Submodule2/\n",
    "   ├- __init__.py\n",
    "   ├- cherry.py\n",
    "   ├- raspberry.py\n",
    "```\n",
    "\n",
    "This structure allows multiple import options.  Each `__init__.py` file needs to include its own import commands for subdirectories and files as well.  The complexity of these files can be very low, simply importing the subfolders and files as they are named, or complex, including individual function definitions and specific actions that occur during import.\n",
    "\n",
    "The first level file, `MyModule/__init__.py`, would look something like this:\n",
    "```python\n",
    "import Submodule1\n",
    "import Submodule2\n",
    "```\n",
    "And the second level file, `MyModule/Submodule1/__init__.py` would look like:\n",
    "```python\n",
    "import blueberry as bb\n",
    "import lemon_meringue as lm\n",
    "```\n",
    "which would lead to a user's script looking like this:\n",
    "```python\n",
    "import sys\n",
    "sys.path.append(\"path/to/MyModule/location/\")\n",
    "import MyModule as mm\n",
    "mm.Submodule1.bb.function()\n",
    "mm.Submodule1.lm.other_function()\n",
    "```\n",
    "\n",
    "This is a fairly one-directional import structure.  Each thing can really only import from below themselves in the module's structural heirarchy.  However, what if a function in `cherry.py` needs to use `other_function()` from `lemon_meringue.py`?  That's up one level, then over, and then back down a level.  How do we get that `other_function()` into `cherry.py`?  Or what if `cherry.py` needed a function in `raspberry.py`?\n",
    "\n",
    "In the `cherry.py` file, we can include this line:\n",
    "\n",
    "```python\n",
    "from ..Submodule1.lemon_meringue import other_function\n",
    "from .raspberry import rasp_function\n",
    "```\n",
    "\n",
    "The dots before the modules are the key here.  One dot before `raspberry` indicates that the file we're importing from is in the same directory as the current file.  Two dots indicates we're up one level.  Three dots would be up two levels, etc.  We can go up levels and then do the normal imports of modules and submodules, including subfiles as well.  This is particularly helpful when writing larger modules with lots of different tasks but use several of the same functions.  It's not uncommon to have a particular set of functions that are used all over a module kept in a separate folder to prevent confusion, while also allowing them to be accessed by other submodules.\n",
    "\n"
   ]
  },
  {
   "cell_type": "code",
   "execution_count": null,
   "metadata": {},
   "outputs": [],
   "source": []
  }
 ],
 "metadata": {
  "kernelspec": {
   "display_name": "Python 3 (ipykernel)",
   "language": "python",
   "name": "python3"
  },
  "language_info": {
   "codemirror_mode": {
    "name": "ipython",
    "version": 3
   },
   "file_extension": ".py",
   "mimetype": "text/x-python",
   "name": "python",
   "nbconvert_exporter": "python",
   "pygments_lexer": "ipython3",
   "version": "3.9.7"
  }
 },
 "nbformat": 4,
 "nbformat_minor": 2
}
